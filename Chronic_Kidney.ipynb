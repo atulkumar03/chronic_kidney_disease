{
  "nbformat": 4,
  "nbformat_minor": 0,
  "metadata": {
    "colab": {
      "name": "Chronic_Kidney.ipynb",
      "provenance": []
    },
    "kernelspec": {
      "name": "python3",
      "display_name": "Python 3"
    },
    "language_info": {
      "name": "python"
    }
  },
  "cells": [
    {
      "cell_type": "code",
      "metadata": {
        "colab": {
          "base_uri": "https://localhost:8080/"
        },
        "id": "0X9tTa2J8oDu",
        "outputId": "00eb9fbf-a6fe-485c-fc84-1cd862fa5416"
      },
      "source": [
        "from google.colab import drive\n",
        "drive.mount('/content/drive')"
      ],
      "execution_count": 1,
      "outputs": [
        {
          "output_type": "stream",
          "text": [
            "Drive already mounted at /content/drive; to attempt to forcibly remount, call drive.mount(\"/content/drive\", force_remount=True).\n"
          ],
          "name": "stdout"
        }
      ]
    },
    {
      "cell_type": "code",
      "metadata": {
        "colab": {
          "base_uri": "https://localhost:8080/"
        },
        "id": "MDnkVFwaHLRe",
        "outputId": "876635cd-e530-4cf6-e35a-2e344f7ae848"
      },
      "source": [
        "cd 'drive/My Drive'"
      ],
      "execution_count": 2,
      "outputs": [
        {
          "output_type": "stream",
          "text": [
            "/content/drive/My Drive\n"
          ],
          "name": "stdout"
        }
      ]
    },
    {
      "cell_type": "code",
      "metadata": {
        "id": "08H8QjMHLDu4"
      },
      "source": [
        "import pandas as pd \n",
        "import numpy as np \n",
        "import matplotlib.pyplot as plt\n",
        "import seaborn as sns "
      ],
      "execution_count": 3,
      "outputs": []
    },
    {
      "cell_type": "code",
      "metadata": {
        "id": "wZt4S3v0T4LV"
      },
      "source": [
        "import warnings\n",
        "from warnings import filterwarnings\n",
        "filterwarnings(\"ignore\")"
      ],
      "execution_count": 4,
      "outputs": []
    },
    {
      "cell_type": "code",
      "metadata": {
        "id": "Aw3c1wU4LWKr"
      },
      "source": [
        "df=pd.read_csv('kidney_disease.csv')"
      ],
      "execution_count": 5,
      "outputs": []
    },
    {
      "cell_type": "code",
      "metadata": {
        "colab": {
          "base_uri": "https://localhost:8080/",
          "height": 224
        },
        "id": "jfv85qVILqkl",
        "outputId": "de148959-9653-49b1-b117-6f83fccaeff3"
      },
      "source": [
        "df.head()"
      ],
      "execution_count": 6,
      "outputs": [
        {
          "output_type": "execute_result",
          "data": {
            "text/html": [
              "<div>\n",
              "<style scoped>\n",
              "    .dataframe tbody tr th:only-of-type {\n",
              "        vertical-align: middle;\n",
              "    }\n",
              "\n",
              "    .dataframe tbody tr th {\n",
              "        vertical-align: top;\n",
              "    }\n",
              "\n",
              "    .dataframe thead th {\n",
              "        text-align: right;\n",
              "    }\n",
              "</style>\n",
              "<table border=\"1\" class=\"dataframe\">\n",
              "  <thead>\n",
              "    <tr style=\"text-align: right;\">\n",
              "      <th></th>\n",
              "      <th>id</th>\n",
              "      <th>age</th>\n",
              "      <th>bp</th>\n",
              "      <th>sg</th>\n",
              "      <th>al</th>\n",
              "      <th>su</th>\n",
              "      <th>rbc</th>\n",
              "      <th>pc</th>\n",
              "      <th>pcc</th>\n",
              "      <th>ba</th>\n",
              "      <th>bgr</th>\n",
              "      <th>bu</th>\n",
              "      <th>sc</th>\n",
              "      <th>sod</th>\n",
              "      <th>pot</th>\n",
              "      <th>hemo</th>\n",
              "      <th>pcv</th>\n",
              "      <th>wc</th>\n",
              "      <th>rc</th>\n",
              "      <th>htn</th>\n",
              "      <th>dm</th>\n",
              "      <th>cad</th>\n",
              "      <th>appet</th>\n",
              "      <th>pe</th>\n",
              "      <th>ane</th>\n",
              "      <th>classification</th>\n",
              "    </tr>\n",
              "  </thead>\n",
              "  <tbody>\n",
              "    <tr>\n",
              "      <th>0</th>\n",
              "      <td>0</td>\n",
              "      <td>48.0</td>\n",
              "      <td>80.0</td>\n",
              "      <td>1.020</td>\n",
              "      <td>1.0</td>\n",
              "      <td>0.0</td>\n",
              "      <td>NaN</td>\n",
              "      <td>normal</td>\n",
              "      <td>notpresent</td>\n",
              "      <td>notpresent</td>\n",
              "      <td>121.0</td>\n",
              "      <td>36.0</td>\n",
              "      <td>1.2</td>\n",
              "      <td>NaN</td>\n",
              "      <td>NaN</td>\n",
              "      <td>15.4</td>\n",
              "      <td>44</td>\n",
              "      <td>7800</td>\n",
              "      <td>5.2</td>\n",
              "      <td>yes</td>\n",
              "      <td>yes</td>\n",
              "      <td>no</td>\n",
              "      <td>good</td>\n",
              "      <td>no</td>\n",
              "      <td>no</td>\n",
              "      <td>ckd</td>\n",
              "    </tr>\n",
              "    <tr>\n",
              "      <th>1</th>\n",
              "      <td>1</td>\n",
              "      <td>7.0</td>\n",
              "      <td>50.0</td>\n",
              "      <td>1.020</td>\n",
              "      <td>4.0</td>\n",
              "      <td>0.0</td>\n",
              "      <td>NaN</td>\n",
              "      <td>normal</td>\n",
              "      <td>notpresent</td>\n",
              "      <td>notpresent</td>\n",
              "      <td>NaN</td>\n",
              "      <td>18.0</td>\n",
              "      <td>0.8</td>\n",
              "      <td>NaN</td>\n",
              "      <td>NaN</td>\n",
              "      <td>11.3</td>\n",
              "      <td>38</td>\n",
              "      <td>6000</td>\n",
              "      <td>NaN</td>\n",
              "      <td>no</td>\n",
              "      <td>no</td>\n",
              "      <td>no</td>\n",
              "      <td>good</td>\n",
              "      <td>no</td>\n",
              "      <td>no</td>\n",
              "      <td>ckd</td>\n",
              "    </tr>\n",
              "    <tr>\n",
              "      <th>2</th>\n",
              "      <td>2</td>\n",
              "      <td>62.0</td>\n",
              "      <td>80.0</td>\n",
              "      <td>1.010</td>\n",
              "      <td>2.0</td>\n",
              "      <td>3.0</td>\n",
              "      <td>normal</td>\n",
              "      <td>normal</td>\n",
              "      <td>notpresent</td>\n",
              "      <td>notpresent</td>\n",
              "      <td>423.0</td>\n",
              "      <td>53.0</td>\n",
              "      <td>1.8</td>\n",
              "      <td>NaN</td>\n",
              "      <td>NaN</td>\n",
              "      <td>9.6</td>\n",
              "      <td>31</td>\n",
              "      <td>7500</td>\n",
              "      <td>NaN</td>\n",
              "      <td>no</td>\n",
              "      <td>yes</td>\n",
              "      <td>no</td>\n",
              "      <td>poor</td>\n",
              "      <td>no</td>\n",
              "      <td>yes</td>\n",
              "      <td>ckd</td>\n",
              "    </tr>\n",
              "    <tr>\n",
              "      <th>3</th>\n",
              "      <td>3</td>\n",
              "      <td>48.0</td>\n",
              "      <td>70.0</td>\n",
              "      <td>1.005</td>\n",
              "      <td>4.0</td>\n",
              "      <td>0.0</td>\n",
              "      <td>normal</td>\n",
              "      <td>abnormal</td>\n",
              "      <td>present</td>\n",
              "      <td>notpresent</td>\n",
              "      <td>117.0</td>\n",
              "      <td>56.0</td>\n",
              "      <td>3.8</td>\n",
              "      <td>111.0</td>\n",
              "      <td>2.5</td>\n",
              "      <td>11.2</td>\n",
              "      <td>32</td>\n",
              "      <td>6700</td>\n",
              "      <td>3.9</td>\n",
              "      <td>yes</td>\n",
              "      <td>no</td>\n",
              "      <td>no</td>\n",
              "      <td>poor</td>\n",
              "      <td>yes</td>\n",
              "      <td>yes</td>\n",
              "      <td>ckd</td>\n",
              "    </tr>\n",
              "    <tr>\n",
              "      <th>4</th>\n",
              "      <td>4</td>\n",
              "      <td>51.0</td>\n",
              "      <td>80.0</td>\n",
              "      <td>1.010</td>\n",
              "      <td>2.0</td>\n",
              "      <td>0.0</td>\n",
              "      <td>normal</td>\n",
              "      <td>normal</td>\n",
              "      <td>notpresent</td>\n",
              "      <td>notpresent</td>\n",
              "      <td>106.0</td>\n",
              "      <td>26.0</td>\n",
              "      <td>1.4</td>\n",
              "      <td>NaN</td>\n",
              "      <td>NaN</td>\n",
              "      <td>11.6</td>\n",
              "      <td>35</td>\n",
              "      <td>7300</td>\n",
              "      <td>4.6</td>\n",
              "      <td>no</td>\n",
              "      <td>no</td>\n",
              "      <td>no</td>\n",
              "      <td>good</td>\n",
              "      <td>no</td>\n",
              "      <td>no</td>\n",
              "      <td>ckd</td>\n",
              "    </tr>\n",
              "  </tbody>\n",
              "</table>\n",
              "</div>"
            ],
            "text/plain": [
              "   id   age    bp     sg   al   su  ...   dm cad appet   pe  ane  classification\n",
              "0   0  48.0  80.0  1.020  1.0  0.0  ...  yes  no  good   no   no             ckd\n",
              "1   1   7.0  50.0  1.020  4.0  0.0  ...   no  no  good   no   no             ckd\n",
              "2   2  62.0  80.0  1.010  2.0  3.0  ...  yes  no  poor   no  yes             ckd\n",
              "3   3  48.0  70.0  1.005  4.0  0.0  ...   no  no  poor  yes  yes             ckd\n",
              "4   4  51.0  80.0  1.010  2.0  0.0  ...   no  no  good   no   no             ckd\n",
              "\n",
              "[5 rows x 26 columns]"
            ]
          },
          "metadata": {
            "tags": []
          },
          "execution_count": 6
        }
      ]
    },
    {
      "cell_type": "code",
      "metadata": {
        "colab": {
          "base_uri": "https://localhost:8080/",
          "height": 855
        },
        "id": "WHz9dC1DL1iM",
        "outputId": "4bc54b1d-cf45-41ad-fa6a-9358511296f1"
      },
      "source": [
        "columns=pd.read_csv('data_description.txt',sep='-')\n",
        "columns=columns.reset_index()\n",
        "columns"
      ],
      "execution_count": 7,
      "outputs": [
        {
          "output_type": "execute_result",
          "data": {
            "text/html": [
              "<div>\n",
              "<style scoped>\n",
              "    .dataframe tbody tr th:only-of-type {\n",
              "        vertical-align: middle;\n",
              "    }\n",
              "\n",
              "    .dataframe tbody tr th {\n",
              "        vertical-align: top;\n",
              "    }\n",
              "\n",
              "    .dataframe thead th {\n",
              "        text-align: right;\n",
              "    }\n",
              "</style>\n",
              "<table border=\"1\" class=\"dataframe\">\n",
              "  <thead>\n",
              "    <tr style=\"text-align: right;\">\n",
              "      <th></th>\n",
              "      <th>index</th>\n",
              "      <th>1. Features:</th>\n",
              "    </tr>\n",
              "  </thead>\n",
              "  <tbody>\n",
              "    <tr>\n",
              "      <th>0</th>\n",
              "      <td>id</td>\n",
              "      <td>id</td>\n",
              "    </tr>\n",
              "    <tr>\n",
              "      <th>1</th>\n",
              "      <td>age</td>\n",
              "      <td>age</td>\n",
              "    </tr>\n",
              "    <tr>\n",
              "      <th>2</th>\n",
              "      <td>bp</td>\n",
              "      <td>blood pressure</td>\n",
              "    </tr>\n",
              "    <tr>\n",
              "      <th>3</th>\n",
              "      <td>sg</td>\n",
              "      <td>specific gravity</td>\n",
              "    </tr>\n",
              "    <tr>\n",
              "      <th>4</th>\n",
              "      <td>al</td>\n",
              "      <td>albumin</td>\n",
              "    </tr>\n",
              "    <tr>\n",
              "      <th>5</th>\n",
              "      <td>su</td>\n",
              "      <td>sugar</td>\n",
              "    </tr>\n",
              "    <tr>\n",
              "      <th>6</th>\n",
              "      <td>rbc</td>\n",
              "      <td>red blood cells</td>\n",
              "    </tr>\n",
              "    <tr>\n",
              "      <th>7</th>\n",
              "      <td>pc</td>\n",
              "      <td>pus cell</td>\n",
              "    </tr>\n",
              "    <tr>\n",
              "      <th>8</th>\n",
              "      <td>pcc</td>\n",
              "      <td>pus cell clumps</td>\n",
              "    </tr>\n",
              "    <tr>\n",
              "      <th>9</th>\n",
              "      <td>ba</td>\n",
              "      <td>bacteria</td>\n",
              "    </tr>\n",
              "    <tr>\n",
              "      <th>10</th>\n",
              "      <td>bgr</td>\n",
              "      <td>blood glucose random</td>\n",
              "    </tr>\n",
              "    <tr>\n",
              "      <th>11</th>\n",
              "      <td>bu</td>\n",
              "      <td>blood urea</td>\n",
              "    </tr>\n",
              "    <tr>\n",
              "      <th>12</th>\n",
              "      <td>sc</td>\n",
              "      <td>serum creatinine</td>\n",
              "    </tr>\n",
              "    <tr>\n",
              "      <th>13</th>\n",
              "      <td>sod</td>\n",
              "      <td>sodium</td>\n",
              "    </tr>\n",
              "    <tr>\n",
              "      <th>14</th>\n",
              "      <td>pot</td>\n",
              "      <td>potassium</td>\n",
              "    </tr>\n",
              "    <tr>\n",
              "      <th>15</th>\n",
              "      <td>hemo</td>\n",
              "      <td>haemoglobin</td>\n",
              "    </tr>\n",
              "    <tr>\n",
              "      <th>16</th>\n",
              "      <td>pcv</td>\n",
              "      <td>packed cell volume</td>\n",
              "    </tr>\n",
              "    <tr>\n",
              "      <th>17</th>\n",
              "      <td>wc</td>\n",
              "      <td>white blood cell count</td>\n",
              "    </tr>\n",
              "    <tr>\n",
              "      <th>18</th>\n",
              "      <td>rc</td>\n",
              "      <td>red blood cell count</td>\n",
              "    </tr>\n",
              "    <tr>\n",
              "      <th>19</th>\n",
              "      <td>htn</td>\n",
              "      <td>ypertension</td>\n",
              "    </tr>\n",
              "    <tr>\n",
              "      <th>20</th>\n",
              "      <td>dm</td>\n",
              "      <td>diabetes mellitus</td>\n",
              "    </tr>\n",
              "    <tr>\n",
              "      <th>21</th>\n",
              "      <td>cad</td>\n",
              "      <td>coronary artery disease</td>\n",
              "    </tr>\n",
              "    <tr>\n",
              "      <th>22</th>\n",
              "      <td>appet</td>\n",
              "      <td>appetite</td>\n",
              "    </tr>\n",
              "    <tr>\n",
              "      <th>23</th>\n",
              "      <td>pe</td>\n",
              "      <td>pedal edema</td>\n",
              "    </tr>\n",
              "    <tr>\n",
              "      <th>24</th>\n",
              "      <td>ane</td>\n",
              "      <td>anemia</td>\n",
              "    </tr>\n",
              "    <tr>\n",
              "      <th>25</th>\n",
              "      <td>classification</td>\n",
              "      <td>class</td>\n",
              "    </tr>\n",
              "  </tbody>\n",
              "</table>\n",
              "</div>"
            ],
            "text/plain": [
              "              index             1. Features:\n",
              "0               id                        id\n",
              "1              age                       age\n",
              "2               bp            blood pressure\n",
              "3               sg          specific gravity\n",
              "4               al                   albumin\n",
              "5               su                     sugar\n",
              "6              rbc           red blood cells\n",
              "7               pc                  pus cell\n",
              "8              pcc           pus cell clumps\n",
              "9               ba                  bacteria\n",
              "10             bgr      blood glucose random\n",
              "11              bu                blood urea\n",
              "12              sc          serum creatinine\n",
              "13             sod                    sodium\n",
              "14             pot                 potassium\n",
              "15            hemo               haemoglobin\n",
              "16             pcv        packed cell volume\n",
              "17              wc    white blood cell count\n",
              "18              rc      red blood cell count\n",
              "19             htn               ypertension\n",
              "20              dm         diabetes mellitus\n",
              "21             cad   coronary artery disease\n",
              "22           appet                  appetite\n",
              "23              pe               pedal edema\n",
              "24             ane                    anemia\n",
              "25  classification                     class"
            ]
          },
          "metadata": {
            "tags": []
          },
          "execution_count": 7
        }
      ]
    },
    {
      "cell_type": "code",
      "metadata": {
        "colab": {
          "base_uri": "https://localhost:8080/",
          "height": 855
        },
        "id": "hVeyLu6fMVub",
        "outputId": "56b094c5-b3ae-4192-e950-a1aeebdae0f6"
      },
      "source": [
        "columns.columns=['cols','abb_col_names']\n",
        "columns"
      ],
      "execution_count": 8,
      "outputs": [
        {
          "output_type": "execute_result",
          "data": {
            "text/html": [
              "<div>\n",
              "<style scoped>\n",
              "    .dataframe tbody tr th:only-of-type {\n",
              "        vertical-align: middle;\n",
              "    }\n",
              "\n",
              "    .dataframe tbody tr th {\n",
              "        vertical-align: top;\n",
              "    }\n",
              "\n",
              "    .dataframe thead th {\n",
              "        text-align: right;\n",
              "    }\n",
              "</style>\n",
              "<table border=\"1\" class=\"dataframe\">\n",
              "  <thead>\n",
              "    <tr style=\"text-align: right;\">\n",
              "      <th></th>\n",
              "      <th>cols</th>\n",
              "      <th>abb_col_names</th>\n",
              "    </tr>\n",
              "  </thead>\n",
              "  <tbody>\n",
              "    <tr>\n",
              "      <th>0</th>\n",
              "      <td>id</td>\n",
              "      <td>id</td>\n",
              "    </tr>\n",
              "    <tr>\n",
              "      <th>1</th>\n",
              "      <td>age</td>\n",
              "      <td>age</td>\n",
              "    </tr>\n",
              "    <tr>\n",
              "      <th>2</th>\n",
              "      <td>bp</td>\n",
              "      <td>blood pressure</td>\n",
              "    </tr>\n",
              "    <tr>\n",
              "      <th>3</th>\n",
              "      <td>sg</td>\n",
              "      <td>specific gravity</td>\n",
              "    </tr>\n",
              "    <tr>\n",
              "      <th>4</th>\n",
              "      <td>al</td>\n",
              "      <td>albumin</td>\n",
              "    </tr>\n",
              "    <tr>\n",
              "      <th>5</th>\n",
              "      <td>su</td>\n",
              "      <td>sugar</td>\n",
              "    </tr>\n",
              "    <tr>\n",
              "      <th>6</th>\n",
              "      <td>rbc</td>\n",
              "      <td>red blood cells</td>\n",
              "    </tr>\n",
              "    <tr>\n",
              "      <th>7</th>\n",
              "      <td>pc</td>\n",
              "      <td>pus cell</td>\n",
              "    </tr>\n",
              "    <tr>\n",
              "      <th>8</th>\n",
              "      <td>pcc</td>\n",
              "      <td>pus cell clumps</td>\n",
              "    </tr>\n",
              "    <tr>\n",
              "      <th>9</th>\n",
              "      <td>ba</td>\n",
              "      <td>bacteria</td>\n",
              "    </tr>\n",
              "    <tr>\n",
              "      <th>10</th>\n",
              "      <td>bgr</td>\n",
              "      <td>blood glucose random</td>\n",
              "    </tr>\n",
              "    <tr>\n",
              "      <th>11</th>\n",
              "      <td>bu</td>\n",
              "      <td>blood urea</td>\n",
              "    </tr>\n",
              "    <tr>\n",
              "      <th>12</th>\n",
              "      <td>sc</td>\n",
              "      <td>serum creatinine</td>\n",
              "    </tr>\n",
              "    <tr>\n",
              "      <th>13</th>\n",
              "      <td>sod</td>\n",
              "      <td>sodium</td>\n",
              "    </tr>\n",
              "    <tr>\n",
              "      <th>14</th>\n",
              "      <td>pot</td>\n",
              "      <td>potassium</td>\n",
              "    </tr>\n",
              "    <tr>\n",
              "      <th>15</th>\n",
              "      <td>hemo</td>\n",
              "      <td>haemoglobin</td>\n",
              "    </tr>\n",
              "    <tr>\n",
              "      <th>16</th>\n",
              "      <td>pcv</td>\n",
              "      <td>packed cell volume</td>\n",
              "    </tr>\n",
              "    <tr>\n",
              "      <th>17</th>\n",
              "      <td>wc</td>\n",
              "      <td>white blood cell count</td>\n",
              "    </tr>\n",
              "    <tr>\n",
              "      <th>18</th>\n",
              "      <td>rc</td>\n",
              "      <td>red blood cell count</td>\n",
              "    </tr>\n",
              "    <tr>\n",
              "      <th>19</th>\n",
              "      <td>htn</td>\n",
              "      <td>ypertension</td>\n",
              "    </tr>\n",
              "    <tr>\n",
              "      <th>20</th>\n",
              "      <td>dm</td>\n",
              "      <td>diabetes mellitus</td>\n",
              "    </tr>\n",
              "    <tr>\n",
              "      <th>21</th>\n",
              "      <td>cad</td>\n",
              "      <td>coronary artery disease</td>\n",
              "    </tr>\n",
              "    <tr>\n",
              "      <th>22</th>\n",
              "      <td>appet</td>\n",
              "      <td>appetite</td>\n",
              "    </tr>\n",
              "    <tr>\n",
              "      <th>23</th>\n",
              "      <td>pe</td>\n",
              "      <td>pedal edema</td>\n",
              "    </tr>\n",
              "    <tr>\n",
              "      <th>24</th>\n",
              "      <td>ane</td>\n",
              "      <td>anemia</td>\n",
              "    </tr>\n",
              "    <tr>\n",
              "      <th>25</th>\n",
              "      <td>classification</td>\n",
              "      <td>class</td>\n",
              "    </tr>\n",
              "  </tbody>\n",
              "</table>\n",
              "</div>"
            ],
            "text/plain": [
              "               cols            abb_col_names\n",
              "0               id                        id\n",
              "1              age                       age\n",
              "2               bp            blood pressure\n",
              "3               sg          specific gravity\n",
              "4               al                   albumin\n",
              "5               su                     sugar\n",
              "6              rbc           red blood cells\n",
              "7               pc                  pus cell\n",
              "8              pcc           pus cell clumps\n",
              "9               ba                  bacteria\n",
              "10             bgr      blood glucose random\n",
              "11              bu                blood urea\n",
              "12              sc          serum creatinine\n",
              "13             sod                    sodium\n",
              "14             pot                 potassium\n",
              "15            hemo               haemoglobin\n",
              "16             pcv        packed cell volume\n",
              "17              wc    white blood cell count\n",
              "18              rc      red blood cell count\n",
              "19             htn               ypertension\n",
              "20              dm         diabetes mellitus\n",
              "21             cad   coronary artery disease\n",
              "22           appet                  appetite\n",
              "23              pe               pedal edema\n",
              "24             ane                    anemia\n",
              "25  classification                     class"
            ]
          },
          "metadata": {
            "tags": []
          },
          "execution_count": 8
        }
      ]
    },
    {
      "cell_type": "code",
      "metadata": {
        "colab": {
          "base_uri": "https://localhost:8080/"
        },
        "id": "4zpb1I9IM1L8",
        "outputId": "bae00059-de57-4c96-cafa-977d99af0427"
      },
      "source": [
        "columns['abb_col_names'].values"
      ],
      "execution_count": 9,
      "outputs": [
        {
          "output_type": "execute_result",
          "data": {
            "text/plain": [
              "array(['id', 'age', 'blood pressure', 'specific gravity', 'albumin',\n",
              "       'sugar', 'red blood cells', ' pus cell', 'pus cell clumps',\n",
              "       'bacteria', 'blood glucose random', 'blood urea',\n",
              "       'serum creatinine', 'sodium', 'potassium', 'haemoglobin',\n",
              "       'packed cell volume', 'white blood cell count',\n",
              "       'red blood cell count', 'ypertension', 'diabetes mellitus',\n",
              "       'coronary artery disease', 'appetite', 'pedal edema', 'anemia',\n",
              "       'class'], dtype=object)"
            ]
          },
          "metadata": {
            "tags": []
          },
          "execution_count": 9
        }
      ]
    },
    {
      "cell_type": "code",
      "metadata": {
        "colab": {
          "base_uri": "https://localhost:8080/",
          "height": 275
        },
        "id": "YNxUmy92M-nZ",
        "outputId": "e6d25e6e-5499-4bf0-be75-93e27f07ce18"
      },
      "source": [
        "df.columns=columns['abb_col_names'].values\n",
        "df.head()"
      ],
      "execution_count": 10,
      "outputs": [
        {
          "output_type": "execute_result",
          "data": {
            "text/html": [
              "<div>\n",
              "<style scoped>\n",
              "    .dataframe tbody tr th:only-of-type {\n",
              "        vertical-align: middle;\n",
              "    }\n",
              "\n",
              "    .dataframe tbody tr th {\n",
              "        vertical-align: top;\n",
              "    }\n",
              "\n",
              "    .dataframe thead th {\n",
              "        text-align: right;\n",
              "    }\n",
              "</style>\n",
              "<table border=\"1\" class=\"dataframe\">\n",
              "  <thead>\n",
              "    <tr style=\"text-align: right;\">\n",
              "      <th></th>\n",
              "      <th>id</th>\n",
              "      <th>age</th>\n",
              "      <th>blood pressure</th>\n",
              "      <th>specific gravity</th>\n",
              "      <th>albumin</th>\n",
              "      <th>sugar</th>\n",
              "      <th>red blood cells</th>\n",
              "      <th>pus cell</th>\n",
              "      <th>pus cell clumps</th>\n",
              "      <th>bacteria</th>\n",
              "      <th>blood glucose random</th>\n",
              "      <th>blood urea</th>\n",
              "      <th>serum creatinine</th>\n",
              "      <th>sodium</th>\n",
              "      <th>potassium</th>\n",
              "      <th>haemoglobin</th>\n",
              "      <th>packed cell volume</th>\n",
              "      <th>white blood cell count</th>\n",
              "      <th>red blood cell count</th>\n",
              "      <th>ypertension</th>\n",
              "      <th>diabetes mellitus</th>\n",
              "      <th>coronary artery disease</th>\n",
              "      <th>appetite</th>\n",
              "      <th>pedal edema</th>\n",
              "      <th>anemia</th>\n",
              "      <th>class</th>\n",
              "    </tr>\n",
              "  </thead>\n",
              "  <tbody>\n",
              "    <tr>\n",
              "      <th>0</th>\n",
              "      <td>0</td>\n",
              "      <td>48.0</td>\n",
              "      <td>80.0</td>\n",
              "      <td>1.020</td>\n",
              "      <td>1.0</td>\n",
              "      <td>0.0</td>\n",
              "      <td>NaN</td>\n",
              "      <td>normal</td>\n",
              "      <td>notpresent</td>\n",
              "      <td>notpresent</td>\n",
              "      <td>121.0</td>\n",
              "      <td>36.0</td>\n",
              "      <td>1.2</td>\n",
              "      <td>NaN</td>\n",
              "      <td>NaN</td>\n",
              "      <td>15.4</td>\n",
              "      <td>44</td>\n",
              "      <td>7800</td>\n",
              "      <td>5.2</td>\n",
              "      <td>yes</td>\n",
              "      <td>yes</td>\n",
              "      <td>no</td>\n",
              "      <td>good</td>\n",
              "      <td>no</td>\n",
              "      <td>no</td>\n",
              "      <td>ckd</td>\n",
              "    </tr>\n",
              "    <tr>\n",
              "      <th>1</th>\n",
              "      <td>1</td>\n",
              "      <td>7.0</td>\n",
              "      <td>50.0</td>\n",
              "      <td>1.020</td>\n",
              "      <td>4.0</td>\n",
              "      <td>0.0</td>\n",
              "      <td>NaN</td>\n",
              "      <td>normal</td>\n",
              "      <td>notpresent</td>\n",
              "      <td>notpresent</td>\n",
              "      <td>NaN</td>\n",
              "      <td>18.0</td>\n",
              "      <td>0.8</td>\n",
              "      <td>NaN</td>\n",
              "      <td>NaN</td>\n",
              "      <td>11.3</td>\n",
              "      <td>38</td>\n",
              "      <td>6000</td>\n",
              "      <td>NaN</td>\n",
              "      <td>no</td>\n",
              "      <td>no</td>\n",
              "      <td>no</td>\n",
              "      <td>good</td>\n",
              "      <td>no</td>\n",
              "      <td>no</td>\n",
              "      <td>ckd</td>\n",
              "    </tr>\n",
              "    <tr>\n",
              "      <th>2</th>\n",
              "      <td>2</td>\n",
              "      <td>62.0</td>\n",
              "      <td>80.0</td>\n",
              "      <td>1.010</td>\n",
              "      <td>2.0</td>\n",
              "      <td>3.0</td>\n",
              "      <td>normal</td>\n",
              "      <td>normal</td>\n",
              "      <td>notpresent</td>\n",
              "      <td>notpresent</td>\n",
              "      <td>423.0</td>\n",
              "      <td>53.0</td>\n",
              "      <td>1.8</td>\n",
              "      <td>NaN</td>\n",
              "      <td>NaN</td>\n",
              "      <td>9.6</td>\n",
              "      <td>31</td>\n",
              "      <td>7500</td>\n",
              "      <td>NaN</td>\n",
              "      <td>no</td>\n",
              "      <td>yes</td>\n",
              "      <td>no</td>\n",
              "      <td>poor</td>\n",
              "      <td>no</td>\n",
              "      <td>yes</td>\n",
              "      <td>ckd</td>\n",
              "    </tr>\n",
              "    <tr>\n",
              "      <th>3</th>\n",
              "      <td>3</td>\n",
              "      <td>48.0</td>\n",
              "      <td>70.0</td>\n",
              "      <td>1.005</td>\n",
              "      <td>4.0</td>\n",
              "      <td>0.0</td>\n",
              "      <td>normal</td>\n",
              "      <td>abnormal</td>\n",
              "      <td>present</td>\n",
              "      <td>notpresent</td>\n",
              "      <td>117.0</td>\n",
              "      <td>56.0</td>\n",
              "      <td>3.8</td>\n",
              "      <td>111.0</td>\n",
              "      <td>2.5</td>\n",
              "      <td>11.2</td>\n",
              "      <td>32</td>\n",
              "      <td>6700</td>\n",
              "      <td>3.9</td>\n",
              "      <td>yes</td>\n",
              "      <td>no</td>\n",
              "      <td>no</td>\n",
              "      <td>poor</td>\n",
              "      <td>yes</td>\n",
              "      <td>yes</td>\n",
              "      <td>ckd</td>\n",
              "    </tr>\n",
              "    <tr>\n",
              "      <th>4</th>\n",
              "      <td>4</td>\n",
              "      <td>51.0</td>\n",
              "      <td>80.0</td>\n",
              "      <td>1.010</td>\n",
              "      <td>2.0</td>\n",
              "      <td>0.0</td>\n",
              "      <td>normal</td>\n",
              "      <td>normal</td>\n",
              "      <td>notpresent</td>\n",
              "      <td>notpresent</td>\n",
              "      <td>106.0</td>\n",
              "      <td>26.0</td>\n",
              "      <td>1.4</td>\n",
              "      <td>NaN</td>\n",
              "      <td>NaN</td>\n",
              "      <td>11.6</td>\n",
              "      <td>35</td>\n",
              "      <td>7300</td>\n",
              "      <td>4.6</td>\n",
              "      <td>no</td>\n",
              "      <td>no</td>\n",
              "      <td>no</td>\n",
              "      <td>good</td>\n",
              "      <td>no</td>\n",
              "      <td>no</td>\n",
              "      <td>ckd</td>\n",
              "    </tr>\n",
              "  </tbody>\n",
              "</table>\n",
              "</div>"
            ],
            "text/plain": [
              "   id   age  blood pressure  specific gravity  ...  appetite  pedal edema anemia class\n",
              "0   0  48.0            80.0             1.020  ...      good           no     no   ckd\n",
              "1   1   7.0            50.0             1.020  ...      good           no     no   ckd\n",
              "2   2  62.0            80.0             1.010  ...      poor           no    yes   ckd\n",
              "3   3  48.0            70.0             1.005  ...      poor          yes    yes   ckd\n",
              "4   4  51.0            80.0             1.010  ...      good           no     no   ckd\n",
              "\n",
              "[5 rows x 26 columns]"
            ]
          },
          "metadata": {
            "tags": []
          },
          "execution_count": 10
        }
      ]
    },
    {
      "cell_type": "code",
      "metadata": {
        "colab": {
          "base_uri": "https://localhost:8080/",
          "height": 275
        },
        "id": "r-WY0pWdOKhQ",
        "outputId": "5f014b28-8788-41a0-9326-fc523cc42282"
      },
      "source": [
        "df.head()"
      ],
      "execution_count": 11,
      "outputs": [
        {
          "output_type": "execute_result",
          "data": {
            "text/html": [
              "<div>\n",
              "<style scoped>\n",
              "    .dataframe tbody tr th:only-of-type {\n",
              "        vertical-align: middle;\n",
              "    }\n",
              "\n",
              "    .dataframe tbody tr th {\n",
              "        vertical-align: top;\n",
              "    }\n",
              "\n",
              "    .dataframe thead th {\n",
              "        text-align: right;\n",
              "    }\n",
              "</style>\n",
              "<table border=\"1\" class=\"dataframe\">\n",
              "  <thead>\n",
              "    <tr style=\"text-align: right;\">\n",
              "      <th></th>\n",
              "      <th>id</th>\n",
              "      <th>age</th>\n",
              "      <th>blood pressure</th>\n",
              "      <th>specific gravity</th>\n",
              "      <th>albumin</th>\n",
              "      <th>sugar</th>\n",
              "      <th>red blood cells</th>\n",
              "      <th>pus cell</th>\n",
              "      <th>pus cell clumps</th>\n",
              "      <th>bacteria</th>\n",
              "      <th>blood glucose random</th>\n",
              "      <th>blood urea</th>\n",
              "      <th>serum creatinine</th>\n",
              "      <th>sodium</th>\n",
              "      <th>potassium</th>\n",
              "      <th>haemoglobin</th>\n",
              "      <th>packed cell volume</th>\n",
              "      <th>white blood cell count</th>\n",
              "      <th>red blood cell count</th>\n",
              "      <th>ypertension</th>\n",
              "      <th>diabetes mellitus</th>\n",
              "      <th>coronary artery disease</th>\n",
              "      <th>appetite</th>\n",
              "      <th>pedal edema</th>\n",
              "      <th>anemia</th>\n",
              "      <th>class</th>\n",
              "    </tr>\n",
              "  </thead>\n",
              "  <tbody>\n",
              "    <tr>\n",
              "      <th>0</th>\n",
              "      <td>0</td>\n",
              "      <td>48.0</td>\n",
              "      <td>80.0</td>\n",
              "      <td>1.020</td>\n",
              "      <td>1.0</td>\n",
              "      <td>0.0</td>\n",
              "      <td>NaN</td>\n",
              "      <td>normal</td>\n",
              "      <td>notpresent</td>\n",
              "      <td>notpresent</td>\n",
              "      <td>121.0</td>\n",
              "      <td>36.0</td>\n",
              "      <td>1.2</td>\n",
              "      <td>NaN</td>\n",
              "      <td>NaN</td>\n",
              "      <td>15.4</td>\n",
              "      <td>44</td>\n",
              "      <td>7800</td>\n",
              "      <td>5.2</td>\n",
              "      <td>yes</td>\n",
              "      <td>yes</td>\n",
              "      <td>no</td>\n",
              "      <td>good</td>\n",
              "      <td>no</td>\n",
              "      <td>no</td>\n",
              "      <td>ckd</td>\n",
              "    </tr>\n",
              "    <tr>\n",
              "      <th>1</th>\n",
              "      <td>1</td>\n",
              "      <td>7.0</td>\n",
              "      <td>50.0</td>\n",
              "      <td>1.020</td>\n",
              "      <td>4.0</td>\n",
              "      <td>0.0</td>\n",
              "      <td>NaN</td>\n",
              "      <td>normal</td>\n",
              "      <td>notpresent</td>\n",
              "      <td>notpresent</td>\n",
              "      <td>NaN</td>\n",
              "      <td>18.0</td>\n",
              "      <td>0.8</td>\n",
              "      <td>NaN</td>\n",
              "      <td>NaN</td>\n",
              "      <td>11.3</td>\n",
              "      <td>38</td>\n",
              "      <td>6000</td>\n",
              "      <td>NaN</td>\n",
              "      <td>no</td>\n",
              "      <td>no</td>\n",
              "      <td>no</td>\n",
              "      <td>good</td>\n",
              "      <td>no</td>\n",
              "      <td>no</td>\n",
              "      <td>ckd</td>\n",
              "    </tr>\n",
              "    <tr>\n",
              "      <th>2</th>\n",
              "      <td>2</td>\n",
              "      <td>62.0</td>\n",
              "      <td>80.0</td>\n",
              "      <td>1.010</td>\n",
              "      <td>2.0</td>\n",
              "      <td>3.0</td>\n",
              "      <td>normal</td>\n",
              "      <td>normal</td>\n",
              "      <td>notpresent</td>\n",
              "      <td>notpresent</td>\n",
              "      <td>423.0</td>\n",
              "      <td>53.0</td>\n",
              "      <td>1.8</td>\n",
              "      <td>NaN</td>\n",
              "      <td>NaN</td>\n",
              "      <td>9.6</td>\n",
              "      <td>31</td>\n",
              "      <td>7500</td>\n",
              "      <td>NaN</td>\n",
              "      <td>no</td>\n",
              "      <td>yes</td>\n",
              "      <td>no</td>\n",
              "      <td>poor</td>\n",
              "      <td>no</td>\n",
              "      <td>yes</td>\n",
              "      <td>ckd</td>\n",
              "    </tr>\n",
              "    <tr>\n",
              "      <th>3</th>\n",
              "      <td>3</td>\n",
              "      <td>48.0</td>\n",
              "      <td>70.0</td>\n",
              "      <td>1.005</td>\n",
              "      <td>4.0</td>\n",
              "      <td>0.0</td>\n",
              "      <td>normal</td>\n",
              "      <td>abnormal</td>\n",
              "      <td>present</td>\n",
              "      <td>notpresent</td>\n",
              "      <td>117.0</td>\n",
              "      <td>56.0</td>\n",
              "      <td>3.8</td>\n",
              "      <td>111.0</td>\n",
              "      <td>2.5</td>\n",
              "      <td>11.2</td>\n",
              "      <td>32</td>\n",
              "      <td>6700</td>\n",
              "      <td>3.9</td>\n",
              "      <td>yes</td>\n",
              "      <td>no</td>\n",
              "      <td>no</td>\n",
              "      <td>poor</td>\n",
              "      <td>yes</td>\n",
              "      <td>yes</td>\n",
              "      <td>ckd</td>\n",
              "    </tr>\n",
              "    <tr>\n",
              "      <th>4</th>\n",
              "      <td>4</td>\n",
              "      <td>51.0</td>\n",
              "      <td>80.0</td>\n",
              "      <td>1.010</td>\n",
              "      <td>2.0</td>\n",
              "      <td>0.0</td>\n",
              "      <td>normal</td>\n",
              "      <td>normal</td>\n",
              "      <td>notpresent</td>\n",
              "      <td>notpresent</td>\n",
              "      <td>106.0</td>\n",
              "      <td>26.0</td>\n",
              "      <td>1.4</td>\n",
              "      <td>NaN</td>\n",
              "      <td>NaN</td>\n",
              "      <td>11.6</td>\n",
              "      <td>35</td>\n",
              "      <td>7300</td>\n",
              "      <td>4.6</td>\n",
              "      <td>no</td>\n",
              "      <td>no</td>\n",
              "      <td>no</td>\n",
              "      <td>good</td>\n",
              "      <td>no</td>\n",
              "      <td>no</td>\n",
              "      <td>ckd</td>\n",
              "    </tr>\n",
              "  </tbody>\n",
              "</table>\n",
              "</div>"
            ],
            "text/plain": [
              "   id   age  blood pressure  specific gravity  ...  appetite  pedal edema anemia class\n",
              "0   0  48.0            80.0             1.020  ...      good           no     no   ckd\n",
              "1   1   7.0            50.0             1.020  ...      good           no     no   ckd\n",
              "2   2  62.0            80.0             1.010  ...      poor           no    yes   ckd\n",
              "3   3  48.0            70.0             1.005  ...      poor          yes    yes   ckd\n",
              "4   4  51.0            80.0             1.010  ...      good           no     no   ckd\n",
              "\n",
              "[5 rows x 26 columns]"
            ]
          },
          "metadata": {
            "tags": []
          },
          "execution_count": 11
        }
      ]
    },
    {
      "cell_type": "code",
      "metadata": {
        "colab": {
          "base_uri": "https://localhost:8080/"
        },
        "id": "cnA_qqFLOOzd",
        "outputId": "7db46648-bcd6-4845-edee-881bba618566"
      },
      "source": [
        "df.info()"
      ],
      "execution_count": 12,
      "outputs": [
        {
          "output_type": "stream",
          "text": [
            "<class 'pandas.core.frame.DataFrame'>\n",
            "RangeIndex: 400 entries, 0 to 399\n",
            "Data columns (total 26 columns):\n",
            " #   Column                   Non-Null Count  Dtype  \n",
            "---  ------                   --------------  -----  \n",
            " 0   id                       400 non-null    int64  \n",
            " 1   age                      391 non-null    float64\n",
            " 2   blood pressure           388 non-null    float64\n",
            " 3   specific gravity         353 non-null    float64\n",
            " 4   albumin                  354 non-null    float64\n",
            " 5   sugar                    351 non-null    float64\n",
            " 6   red blood cells          248 non-null    object \n",
            " 7    pus cell                335 non-null    object \n",
            " 8   pus cell clumps          396 non-null    object \n",
            " 9   bacteria                 396 non-null    object \n",
            " 10  blood glucose random     356 non-null    float64\n",
            " 11  blood urea               381 non-null    float64\n",
            " 12  serum creatinine         383 non-null    float64\n",
            " 13  sodium                   313 non-null    float64\n",
            " 14  potassium                312 non-null    float64\n",
            " 15  haemoglobin              348 non-null    float64\n",
            " 16  packed cell volume       330 non-null    object \n",
            " 17  white blood cell count   295 non-null    object \n",
            " 18  red blood cell count     270 non-null    object \n",
            " 19  ypertension              398 non-null    object \n",
            " 20  diabetes mellitus        398 non-null    object \n",
            " 21  coronary artery disease  398 non-null    object \n",
            " 22  appetite                 399 non-null    object \n",
            " 23  pedal edema              399 non-null    object \n",
            " 24  anemia                   399 non-null    object \n",
            " 25  class                    400 non-null    object \n",
            "dtypes: float64(11), int64(1), object(14)\n",
            "memory usage: 81.4+ KB\n"
          ],
          "name": "stdout"
        }
      ]
    },
    {
      "cell_type": "code",
      "metadata": {
        "id": "7df2mGYWNMWL"
      },
      "source": [
        "def convert_dtypes(df,feature):\n",
        "  df[feature]=pd.to_numeric(df[feature],errors='coerce')\n",
        "# coerce will deal NaN values"
      ],
      "execution_count": 13,
      "outputs": []
    },
    {
      "cell_type": "code",
      "metadata": {
        "id": "A8qGbnwCNoH_"
      },
      "source": [
        "features=['packed cell volume','white blood cell count','red blood cell count']\n",
        "for feature in features:\n",
        "  convert_dtypes(df,feature)"
      ],
      "execution_count": 14,
      "outputs": []
    },
    {
      "cell_type": "code",
      "metadata": {
        "id": "De7C1DoUOrUn"
      },
      "source": [
        "df.drop('id',axis=1,inplace=True)"
      ],
      "execution_count": 15,
      "outputs": []
    },
    {
      "cell_type": "code",
      "metadata": {
        "colab": {
          "base_uri": "https://localhost:8080/",
          "height": 275
        },
        "id": "--WKbbGCPJKp",
        "outputId": "718cae12-9733-47ff-b149-59adcae117f8"
      },
      "source": [
        "df.head()"
      ],
      "execution_count": 16,
      "outputs": [
        {
          "output_type": "execute_result",
          "data": {
            "text/html": [
              "<div>\n",
              "<style scoped>\n",
              "    .dataframe tbody tr th:only-of-type {\n",
              "        vertical-align: middle;\n",
              "    }\n",
              "\n",
              "    .dataframe tbody tr th {\n",
              "        vertical-align: top;\n",
              "    }\n",
              "\n",
              "    .dataframe thead th {\n",
              "        text-align: right;\n",
              "    }\n",
              "</style>\n",
              "<table border=\"1\" class=\"dataframe\">\n",
              "  <thead>\n",
              "    <tr style=\"text-align: right;\">\n",
              "      <th></th>\n",
              "      <th>age</th>\n",
              "      <th>blood pressure</th>\n",
              "      <th>specific gravity</th>\n",
              "      <th>albumin</th>\n",
              "      <th>sugar</th>\n",
              "      <th>red blood cells</th>\n",
              "      <th>pus cell</th>\n",
              "      <th>pus cell clumps</th>\n",
              "      <th>bacteria</th>\n",
              "      <th>blood glucose random</th>\n",
              "      <th>blood urea</th>\n",
              "      <th>serum creatinine</th>\n",
              "      <th>sodium</th>\n",
              "      <th>potassium</th>\n",
              "      <th>haemoglobin</th>\n",
              "      <th>packed cell volume</th>\n",
              "      <th>white blood cell count</th>\n",
              "      <th>red blood cell count</th>\n",
              "      <th>ypertension</th>\n",
              "      <th>diabetes mellitus</th>\n",
              "      <th>coronary artery disease</th>\n",
              "      <th>appetite</th>\n",
              "      <th>pedal edema</th>\n",
              "      <th>anemia</th>\n",
              "      <th>class</th>\n",
              "    </tr>\n",
              "  </thead>\n",
              "  <tbody>\n",
              "    <tr>\n",
              "      <th>0</th>\n",
              "      <td>48.0</td>\n",
              "      <td>80.0</td>\n",
              "      <td>1.020</td>\n",
              "      <td>1.0</td>\n",
              "      <td>0.0</td>\n",
              "      <td>NaN</td>\n",
              "      <td>normal</td>\n",
              "      <td>notpresent</td>\n",
              "      <td>notpresent</td>\n",
              "      <td>121.0</td>\n",
              "      <td>36.0</td>\n",
              "      <td>1.2</td>\n",
              "      <td>NaN</td>\n",
              "      <td>NaN</td>\n",
              "      <td>15.4</td>\n",
              "      <td>44.0</td>\n",
              "      <td>7800.0</td>\n",
              "      <td>5.2</td>\n",
              "      <td>yes</td>\n",
              "      <td>yes</td>\n",
              "      <td>no</td>\n",
              "      <td>good</td>\n",
              "      <td>no</td>\n",
              "      <td>no</td>\n",
              "      <td>ckd</td>\n",
              "    </tr>\n",
              "    <tr>\n",
              "      <th>1</th>\n",
              "      <td>7.0</td>\n",
              "      <td>50.0</td>\n",
              "      <td>1.020</td>\n",
              "      <td>4.0</td>\n",
              "      <td>0.0</td>\n",
              "      <td>NaN</td>\n",
              "      <td>normal</td>\n",
              "      <td>notpresent</td>\n",
              "      <td>notpresent</td>\n",
              "      <td>NaN</td>\n",
              "      <td>18.0</td>\n",
              "      <td>0.8</td>\n",
              "      <td>NaN</td>\n",
              "      <td>NaN</td>\n",
              "      <td>11.3</td>\n",
              "      <td>38.0</td>\n",
              "      <td>6000.0</td>\n",
              "      <td>NaN</td>\n",
              "      <td>no</td>\n",
              "      <td>no</td>\n",
              "      <td>no</td>\n",
              "      <td>good</td>\n",
              "      <td>no</td>\n",
              "      <td>no</td>\n",
              "      <td>ckd</td>\n",
              "    </tr>\n",
              "    <tr>\n",
              "      <th>2</th>\n",
              "      <td>62.0</td>\n",
              "      <td>80.0</td>\n",
              "      <td>1.010</td>\n",
              "      <td>2.0</td>\n",
              "      <td>3.0</td>\n",
              "      <td>normal</td>\n",
              "      <td>normal</td>\n",
              "      <td>notpresent</td>\n",
              "      <td>notpresent</td>\n",
              "      <td>423.0</td>\n",
              "      <td>53.0</td>\n",
              "      <td>1.8</td>\n",
              "      <td>NaN</td>\n",
              "      <td>NaN</td>\n",
              "      <td>9.6</td>\n",
              "      <td>31.0</td>\n",
              "      <td>7500.0</td>\n",
              "      <td>NaN</td>\n",
              "      <td>no</td>\n",
              "      <td>yes</td>\n",
              "      <td>no</td>\n",
              "      <td>poor</td>\n",
              "      <td>no</td>\n",
              "      <td>yes</td>\n",
              "      <td>ckd</td>\n",
              "    </tr>\n",
              "    <tr>\n",
              "      <th>3</th>\n",
              "      <td>48.0</td>\n",
              "      <td>70.0</td>\n",
              "      <td>1.005</td>\n",
              "      <td>4.0</td>\n",
              "      <td>0.0</td>\n",
              "      <td>normal</td>\n",
              "      <td>abnormal</td>\n",
              "      <td>present</td>\n",
              "      <td>notpresent</td>\n",
              "      <td>117.0</td>\n",
              "      <td>56.0</td>\n",
              "      <td>3.8</td>\n",
              "      <td>111.0</td>\n",
              "      <td>2.5</td>\n",
              "      <td>11.2</td>\n",
              "      <td>32.0</td>\n",
              "      <td>6700.0</td>\n",
              "      <td>3.9</td>\n",
              "      <td>yes</td>\n",
              "      <td>no</td>\n",
              "      <td>no</td>\n",
              "      <td>poor</td>\n",
              "      <td>yes</td>\n",
              "      <td>yes</td>\n",
              "      <td>ckd</td>\n",
              "    </tr>\n",
              "    <tr>\n",
              "      <th>4</th>\n",
              "      <td>51.0</td>\n",
              "      <td>80.0</td>\n",
              "      <td>1.010</td>\n",
              "      <td>2.0</td>\n",
              "      <td>0.0</td>\n",
              "      <td>normal</td>\n",
              "      <td>normal</td>\n",
              "      <td>notpresent</td>\n",
              "      <td>notpresent</td>\n",
              "      <td>106.0</td>\n",
              "      <td>26.0</td>\n",
              "      <td>1.4</td>\n",
              "      <td>NaN</td>\n",
              "      <td>NaN</td>\n",
              "      <td>11.6</td>\n",
              "      <td>35.0</td>\n",
              "      <td>7300.0</td>\n",
              "      <td>4.6</td>\n",
              "      <td>no</td>\n",
              "      <td>no</td>\n",
              "      <td>no</td>\n",
              "      <td>good</td>\n",
              "      <td>no</td>\n",
              "      <td>no</td>\n",
              "      <td>ckd</td>\n",
              "    </tr>\n",
              "  </tbody>\n",
              "</table>\n",
              "</div>"
            ],
            "text/plain": [
              "    age  blood pressure  specific gravity  ...  pedal edema  anemia class\n",
              "0  48.0            80.0             1.020  ...           no      no   ckd\n",
              "1   7.0            50.0             1.020  ...           no      no   ckd\n",
              "2  62.0            80.0             1.010  ...           no     yes   ckd\n",
              "3  48.0            70.0             1.005  ...          yes     yes   ckd\n",
              "4  51.0            80.0             1.010  ...           no      no   ckd\n",
              "\n",
              "[5 rows x 25 columns]"
            ]
          },
          "metadata": {
            "tags": []
          },
          "execution_count": 16
        }
      ]
    },
    {
      "cell_type": "code",
      "metadata": {
        "id": "PpBl8IIKPNcn"
      },
      "source": [
        "def extract_cat_num(df):\n",
        "  cat_col=[col for col in df.columns if df[col].dtype=='object']\n",
        "  num_col=[col for col in df.columns if df[col].dtype!='object']\n",
        "  return cat_col,num_col"
      ],
      "execution_count": 17,
      "outputs": []
    },
    {
      "cell_type": "code",
      "metadata": {
        "id": "8mcWDJn0P7Vy"
      },
      "source": [
        "cat_col,num_col=extract_cat_num(df)"
      ],
      "execution_count": 18,
      "outputs": []
    },
    {
      "cell_type": "code",
      "metadata": {
        "colab": {
          "base_uri": "https://localhost:8080/"
        },
        "id": "8V4l9In6QGTM",
        "outputId": "466ba7ac-10c6-4021-d7b7-7cc758d0f516"
      },
      "source": [
        "cat_col"
      ],
      "execution_count": 19,
      "outputs": [
        {
          "output_type": "execute_result",
          "data": {
            "text/plain": [
              "['red blood cells',\n",
              " ' pus cell',\n",
              " 'pus cell clumps',\n",
              " 'bacteria',\n",
              " 'ypertension',\n",
              " 'diabetes mellitus',\n",
              " 'coronary artery disease',\n",
              " 'appetite',\n",
              " 'pedal edema',\n",
              " 'anemia',\n",
              " 'class']"
            ]
          },
          "metadata": {
            "tags": []
          },
          "execution_count": 19
        }
      ]
    },
    {
      "cell_type": "code",
      "metadata": {
        "colab": {
          "base_uri": "https://localhost:8080/"
        },
        "id": "5iyX1ExIQDfg",
        "outputId": "a5550c00-00b6-41d6-c2dd-f31c11148a94"
      },
      "source": [
        "num_col"
      ],
      "execution_count": 20,
      "outputs": [
        {
          "output_type": "execute_result",
          "data": {
            "text/plain": [
              "['age',\n",
              " 'blood pressure',\n",
              " 'specific gravity',\n",
              " 'albumin',\n",
              " 'sugar',\n",
              " 'blood glucose random',\n",
              " 'blood urea',\n",
              " 'serum creatinine',\n",
              " 'sodium',\n",
              " 'potassium',\n",
              " 'haemoglobin',\n",
              " 'packed cell volume',\n",
              " 'white blood cell count',\n",
              " 'red blood cell count']"
            ]
          },
          "metadata": {
            "tags": []
          },
          "execution_count": 20
        }
      ]
    },
    {
      "cell_type": "code",
      "metadata": {
        "colab": {
          "base_uri": "https://localhost:8080/"
        },
        "id": "y4uZg4NCQJzI",
        "outputId": "c74d7122-7729-4603-b003-d182361cc1ec"
      },
      "source": [
        "for  col in cat_col:\n",
        "  print('{} has {} values'.format(col,df[col].unique()))"
      ],
      "execution_count": 21,
      "outputs": [
        {
          "output_type": "stream",
          "text": [
            "red blood cells has [nan 'normal' 'abnormal'] values\n",
            " pus cell has ['normal' 'abnormal' nan] values\n",
            "pus cell clumps has ['notpresent' 'present' nan] values\n",
            "bacteria has ['notpresent' 'present' nan] values\n",
            "ypertension has ['yes' 'no' nan] values\n",
            "diabetes mellitus has ['yes' 'no' ' yes' '\\tno' '\\tyes' nan] values\n",
            "coronary artery disease has ['no' 'yes' '\\tno' nan] values\n",
            "appetite has ['good' 'poor' nan] values\n",
            "pedal edema has ['no' 'yes' nan] values\n",
            "anemia has ['no' 'yes' nan] values\n",
            "class has ['ckd' 'ckd\\t' 'notckd'] values\n"
          ],
          "name": "stdout"
        }
      ]
    },
    {
      "cell_type": "code",
      "metadata": {
        "id": "AcaiAIjpQdox"
      },
      "source": [
        "df['diabetes mellitus'].replace(to_replace={'\\tno':'no','\\tyes':'yes'},inplace=True)\n",
        "df['coronary artery disease']=df['coronary artery disease'].replace(to_replace='\\tno',value='no')\n",
        "df['class']=df['class'].replace(to_replace='ckd\\t',value='ckd')"
      ],
      "execution_count": 22,
      "outputs": []
    },
    {
      "cell_type": "code",
      "metadata": {
        "colab": {
          "base_uri": "https://localhost:8080/"
        },
        "id": "B6o8w2CZRpmq",
        "outputId": "7c6525bd-e736-4fd5-ba4d-25a14caf4691"
      },
      "source": [
        "for  col in cat_col:\n",
        "  print('{} has {} values'.format(col,df[col].unique()))"
      ],
      "execution_count": 23,
      "outputs": [
        {
          "output_type": "stream",
          "text": [
            "red blood cells has [nan 'normal' 'abnormal'] values\n",
            " pus cell has ['normal' 'abnormal' nan] values\n",
            "pus cell clumps has ['notpresent' 'present' nan] values\n",
            "bacteria has ['notpresent' 'present' nan] values\n",
            "ypertension has ['yes' 'no' nan] values\n",
            "diabetes mellitus has ['yes' 'no' ' yes' nan] values\n",
            "coronary artery disease has ['no' 'yes' nan] values\n",
            "appetite has ['good' 'poor' nan] values\n",
            "pedal edema has ['no' 'yes' nan] values\n",
            "anemia has ['no' 'yes' nan] values\n",
            "class has ['ckd' 'notckd'] values\n"
          ],
          "name": "stdout"
        }
      ]
    },
    {
      "cell_type": "code",
      "metadata": {
        "colab": {
          "base_uri": "https://localhost:8080/",
          "height": 490
        },
        "id": "2eGC3wV1SPz1",
        "outputId": "2ddeb002-3c3e-4c62-a412-52220a76b8fd"
      },
      "source": [
        "plt.figure(figsize=(30,20))\n",
        "\n",
        "for i,feature in enumerate(num_col):\n",
        "  plt.subplot(5,3,i+1)\n",
        "  df[feature].hist()\n",
        "  plt.title(feature)"
      ],
      "execution_count": 24,
      "outputs": [
        {
          "output_type": "display_data",
          "data": {
            "image/png": "[encoded data removed]",
            "text/plain": [
              "<Figure size 2160x1440 with 14 Axes>"
            ]
          },
          "metadata": {
            "tags": [],
            "needs_background": "light"
          }
        }
      ]
    },
    {
      "cell_type": "code",
      "metadata": {
        "id": "QXck6eYRTOG0"
      },
      "source": [
        "## ckd,matched"
      ],
      "execution_count": 25,
      "outputs": []
    },
    {
      "cell_type": "code",
      "metadata": {
        "colab": {
          "base_uri": "https://localhost:8080/",
          "height": 1000
        },
        "id": "cfe-552QTmDe",
        "outputId": "199b9841-7a25-4f79-ebc4-1bca07419013"
      },
      "source": [
        "plt.figure(figsize=(20,30))\n",
        "for i,feature in enumerate(cat_col):\n",
        "  plt.subplot(4,3,i+1)\n",
        "  sns.countplot(df[feature])"
      ],
      "execution_count": 26,
      "outputs": [
        {
          "output_type": "display_data",
          "data": {
            "image/png": "[encoded data removed]",
            "text/plain": [
              "<Figure size 1440x2160 with 11 Axes>"
            ]
          },
          "metadata": {
            "tags": [],
            "needs_background": "light"
          }
        }
      ]
    },
    {
      "cell_type": "code",
      "metadata": {
        "colab": {
          "base_uri": "https://localhost:8080/",
          "height": 296
        },
        "id": "IY3zkDqHUR6R",
        "outputId": "efa371d8-6921-4e58-d0ac-6f48073f663b"
      },
      "source": [
        "sns.countplot(df['class'])"
      ],
      "execution_count": 27,
      "outputs": [
        {
          "output_type": "execute_result",
          "data": {
            "text/plain": [
              "<matplotlib.axes._subplots.AxesSubplot at 0x7f61b7a7e590>"
            ]
          },
          "metadata": {
            "tags": []
          },
          "execution_count": 27
        },
        {
          "output_type": "display_data",
          "data": {
            "image/png": "[encoded data removed]",
            "text/plain": [
              "<Figure size 432x288 with 1 Axes>"
            ]
          },
          "metadata": {
            "tags": [],
            "needs_background": "light"
          }
        }
      ]
    },
    {
      "cell_type": "code",
      "metadata": {
        "colab": {
          "base_uri": "https://localhost:8080/",
          "height": 1000
        },
        "id": "sBo2Ira3T2jn",
        "outputId": "9ae9695f-8cbe-42d2-80ec-caa6334eaf5b"
      },
      "source": [
        "plt.figure(figsize=(20,30))\n",
        "df.corr()\n",
        "sns.heatmap(df.corr(),annot=True)"
      ],
      "execution_count": 28,
      "outputs": [
        {
          "output_type": "execute_result",
          "data": {
            "text/plain": [
              "<matplotlib.axes._subplots.AxesSubplot at 0x7f61b77cf090>"
            ]
          },
          "metadata": {
            "tags": []
          },
          "execution_count": 28
        },
        {
          "output_type": "display_data",
          "data": {
            "image/png": "[encoded data removed]",
            "text/plain": [
              "<Figure size 1440x2160 with 2 Axes>"
            ]
          },
          "metadata": {
            "tags": [],
            "needs_background": "light"
          }
        }
      ]
    },
    {
      "cell_type": "code",
      "metadata": {
        "colab": {
          "base_uri": "https://localhost:8080/",
          "height": 173
        },
        "id": "oyJzoCHoVk-m",
        "outputId": "2245ff54-f87a-4eee-a6cf-8229e104fb2d"
      },
      "source": [
        "df.groupby(['red blood cells','class'])['red blood cell count'].agg(['count','mean','median','min','max'])"
      ],
      "execution_count": 29,
      "outputs": [
        {
          "output_type": "execute_result",
          "data": {
            "text/html": [
              "<div>\n",
              "<style scoped>\n",
              "    .dataframe tbody tr th:only-of-type {\n",
              "        vertical-align: middle;\n",
              "    }\n",
              "\n",
              "    .dataframe tbody tr th {\n",
              "        vertical-align: top;\n",
              "    }\n",
              "\n",
              "    .dataframe thead th {\n",
              "        text-align: right;\n",
              "    }\n",
              "</style>\n",
              "<table border=\"1\" class=\"dataframe\">\n",
              "  <thead>\n",
              "    <tr style=\"text-align: right;\">\n",
              "      <th></th>\n",
              "      <th></th>\n",
              "      <th>count</th>\n",
              "      <th>mean</th>\n",
              "      <th>median</th>\n",
              "      <th>min</th>\n",
              "      <th>max</th>\n",
              "    </tr>\n",
              "    <tr>\n",
              "      <th>red blood cells</th>\n",
              "      <th>class</th>\n",
              "      <th></th>\n",
              "      <th></th>\n",
              "      <th></th>\n",
              "      <th></th>\n",
              "      <th></th>\n",
              "    </tr>\n",
              "  </thead>\n",
              "  <tbody>\n",
              "    <tr>\n",
              "      <th>abnormal</th>\n",
              "      <th>ckd</th>\n",
              "      <td>25</td>\n",
              "      <td>3.832000</td>\n",
              "      <td>3.7</td>\n",
              "      <td>2.5</td>\n",
              "      <td>5.6</td>\n",
              "    </tr>\n",
              "    <tr>\n",
              "      <th rowspan=\"2\" valign=\"top\">normal</th>\n",
              "      <th>ckd</th>\n",
              "      <td>40</td>\n",
              "      <td>3.782500</td>\n",
              "      <td>3.8</td>\n",
              "      <td>2.1</td>\n",
              "      <td>8.0</td>\n",
              "    </tr>\n",
              "    <tr>\n",
              "      <th>notckd</th>\n",
              "      <td>134</td>\n",
              "      <td>5.368657</td>\n",
              "      <td>5.3</td>\n",
              "      <td>4.4</td>\n",
              "      <td>6.5</td>\n",
              "    </tr>\n",
              "  </tbody>\n",
              "</table>\n",
              "</div>"
            ],
            "text/plain": [
              "                        count      mean  median  min  max\n",
              "red blood cells class                                    \n",
              "abnormal        ckd        25  3.832000     3.7  2.5  5.6\n",
              "normal          ckd        40  3.782500     3.8  2.1  8.0\n",
              "                notckd    134  5.368657     5.3  4.4  6.5"
            ]
          },
          "metadata": {
            "tags": []
          },
          "execution_count": 29
        }
      ]
    },
    {
      "cell_type": "code",
      "metadata": {
        "colab": {
          "base_uri": "https://localhost:8080/"
        },
        "id": "rO0heN04YAKr",
        "outputId": "98dec9a5-0fc3-421a-8e8c-b83197b44abd"
      },
      "source": [
        "!pip install plotly"
      ],
      "execution_count": 30,
      "outputs": [
        {
          "output_type": "stream",
          "text": [
            "Requirement already satisfied: plotly in /usr/local/lib/python3.7/dist-packages (4.4.1)\n",
            "Requirement already satisfied: six in /usr/local/lib/python3.7/dist-packages (from plotly) (1.15.0)\n",
            "Requirement already satisfied: retrying>=1.3.3 in /usr/local/lib/python3.7/dist-packages (from plotly) (1.3.3)\n"
          ],
          "name": "stdout"
        }
      ]
    },
    {
      "cell_type": "code",
      "metadata": {
        "id": "ZBu2rCctY_6I"
      },
      "source": [
        "import plotly.express as px"
      ],
      "execution_count": 31,
      "outputs": []
    },
    {
      "cell_type": "code",
      "metadata": {
        "colab": {
          "base_uri": "https://localhost:8080/"
        },
        "id": "S_LukBrOZIgs",
        "outputId": "99175af6-b18c-4760-eb23-1b5d754162fe"
      },
      "source": [
        "df.columns"
      ],
      "execution_count": 32,
      "outputs": [
        {
          "output_type": "execute_result",
          "data": {
            "text/plain": [
              "Index(['age', 'blood pressure', 'specific gravity', 'albumin', 'sugar',\n",
              "       'red blood cells', ' pus cell', 'pus cell clumps', 'bacteria',\n",
              "       'blood glucose random', 'blood urea', 'serum creatinine', 'sodium',\n",
              "       'potassium', 'haemoglobin', 'packed cell volume',\n",
              "       'white blood cell count', 'red blood cell count', 'ypertension',\n",
              "       'diabetes mellitus', 'coronary artery disease', 'appetite',\n",
              "       'pedal edema', 'anemia', 'class'],\n",
              "      dtype='object')"
            ]
          },
          "metadata": {
            "tags": []
          },
          "execution_count": 32
        }
      ]
    },
    {
      "cell_type": "code",
      "metadata": {
        "colab": {
          "base_uri": "https://localhost:8080/",
          "height": 542
        },
        "id": "Ev9Xa4KiZEVd",
        "outputId": "8910f360-6738-4100-eb36-1c115e7af5ab"
      },
      "source": [
        "px.violin(df,y='red blood cell count',x='class',color='class')"
      ],
      "execution_count": 33,
      "outputs": [
        {
          "output_type": "display_data",
          "data": {
            "text/html": [
              "<html>\n",
              "<head><meta charset=\"utf-8\" /></head>\n",
              "<body>\n",
              "    <div>\n",
              "            <script src=\"https://cdnjs.cloudflare.com/ajax/libs/mathjax/2.7.5/MathJax.js?config=TeX-AMS-MML_SVG\"></script><script type=\"text/javascript\">if (window.MathJax) {MathJax.Hub.Config({SVG: {font: \"STIX-Web\"}});}</script>\n",
              "                <script type=\"text/javascript\">window.PlotlyConfig = {MathJaxConfig: 'local'};</script>\n",
              "        <script src=\"https://cdn.plot.ly/plotly-latest.min.js\"></script>    \n",
              "            <div id=\"b1890d1d-1937-4726-9b63-d8a52123ec4c\" class=\"plotly-graph-div\" style=\"height:525px; width:100%;\"></div>\n",
              "            <script type=\"text/javascript\">\n",
              "                \n",
              "                    window.PLOTLYENV=window.PLOTLYENV || {};\n",
              "                    \n",
              "                if (document.getElementById(\"b1890d1d-1937-4726-9b63-d8a52123ec4c\")) {\n",
              "                    Plotly.newPlot(\n",
              "                        'b1890d1d-1937-4726-9b63-d8a52123ec4c',\n",
              "                        [{\"alignmentgroup\": \"True\", \"box\": {\"visible\": false}, \"hoverlabel\": {\"namelength\": 0}, \"hovertemplate\": \"class=%{x}<br>red blood cell count=%{y}\", \"legendgroup\": \"class=ckd\", \"marker\": {\"color\": \"#636efa\"}, \"name\": \"class=ckd\", \"offsetgroup\": \"class=ckd\", \"orientation\": \"v\", \"scalegroup\": \"True\", \"showlegend\": true, \"type\": \"violin\", \"x\": [\"ckd\", \"ckd\", \"ckd\", \"ckd\", \"ckd\", \"ckd\", \"ckd\", \"ckd\", \"ckd\", \"ckd\", \"ckd\", \"ckd\", \"ckd\", \"ckd\", \"ckd\", \"ckd\", \"ckd\", \"ckd\", \"ckd\", \"ckd\", \"ckd\", \"ckd\", \"ckd\", \"ckd\", \"ckd\", \"ckd\", \"ckd\", \"ckd\", \"ckd\", \"ckd\", \"ckd\", \"ckd\", \"ckd\", \"ckd\", \"ckd\", \"ckd\", \"ckd\", \"ckd\", \"ckd\", \"ckd\", \"ckd\", \"ckd\", \"ckd\", \"ckd\", \"ckd\", \"ckd\", \"ckd\", \"ckd\", \"ckd\", \"ckd\", \"ckd\", \"ckd\", \"ckd\", \"ckd\", \"ckd\", \"ckd\", \"ckd\", \"ckd\", \"ckd\", \"ckd\", \"ckd\", \"ckd\", \"ckd\", \"ckd\", \"ckd\", \"ckd\", \"ckd\", \"ckd\", \"ckd\", \"ckd\", \"ckd\", \"ckd\", \"ckd\", \"ckd\", \"ckd\", \"ckd\", \"ckd\", \"ckd\", \"ckd\", \"ckd\", \"ckd\", \"ckd\", \"ckd\", \"ckd\", \"ckd\", \"ckd\", \"ckd\", \"ckd\", \"ckd\", \"ckd\", \"ckd\", \"ckd\", \"ckd\", \"ckd\", \"ckd\", \"ckd\", \"ckd\", \"ckd\", \"ckd\", \"ckd\", \"ckd\", \"ckd\", \"ckd\", \"ckd\", \"ckd\", \"ckd\", \"ckd\", \"ckd\", \"ckd\", \"ckd\", \"ckd\", \"ckd\", \"ckd\", \"ckd\", \"ckd\", \"ckd\", \"ckd\", \"ckd\", \"ckd\", \"ckd\", \"ckd\", \"ckd\", \"ckd\", \"ckd\", \"ckd\", \"ckd\", \"ckd\", \"ckd\", \"ckd\", \"ckd\", \"ckd\", \"ckd\", \"ckd\", \"ckd\", \"ckd\", \"ckd\", \"ckd\", \"ckd\", \"ckd\", \"ckd\", \"ckd\", \"ckd\", \"ckd\", \"ckd\", \"ckd\", \"ckd\", \"ckd\", \"ckd\", \"ckd\", \"ckd\", \"ckd\", \"ckd\", \"ckd\", \"ckd\", \"ckd\", \"ckd\", \"ckd\", \"ckd\", \"ckd\", \"ckd\", \"ckd\", \"ckd\", \"ckd\", \"ckd\", \"ckd\", \"ckd\", \"ckd\", \"ckd\", \"ckd\", \"ckd\", \"ckd\", \"ckd\", \"ckd\", \"ckd\", \"ckd\", \"ckd\", \"ckd\", \"ckd\", \"ckd\", \"ckd\", \"ckd\", \"ckd\", \"ckd\", \"ckd\", \"ckd\", \"ckd\", \"ckd\", \"ckd\", \"ckd\", \"ckd\", \"ckd\", \"ckd\", \"ckd\", \"ckd\", \"ckd\", \"ckd\", \"ckd\", \"ckd\", \"ckd\", \"ckd\", \"ckd\", \"ckd\", \"ckd\", \"ckd\", \"ckd\", \"ckd\", \"ckd\", \"ckd\", \"ckd\", \"ckd\", \"ckd\", \"ckd\", \"ckd\", \"ckd\", \"ckd\", \"ckd\", \"ckd\", \"ckd\", \"ckd\", \"ckd\", \"ckd\", \"ckd\", \"ckd\", \"ckd\", \"ckd\", \"ckd\", \"ckd\", \"ckd\", \"ckd\", \"ckd\", \"ckd\", \"ckd\", \"ckd\", \"ckd\", \"ckd\", \"ckd\", \"ckd\", \"ckd\", \"ckd\", \"ckd\", \"ckd\", \"ckd\", \"ckd\", \"ckd\", \"ckd\", \"ckd\", \"ckd\", \"ckd\", \"ckd\", \"ckd\"], \"x0\": \" \", \"xaxis\": \"x\", \"y\": [5.2, null, null, 3.9, 4.6, 4.4, null, 5.0, 4.0, 3.7, null, 3.8, 3.4, null, 2.6, 2.8, null, null, 4.3, 3.7, 3.2, 3.6, 3.4, null, 4.6, 3.7, 4.0, 4.1, null, null, null, 4.0, 4.0, null, null, 4.9, null, 2.5, null, 4.2, 4.1, null, 4.5, 3.1, null, null, 4.7, null, 3.5, 3.5, 3.8, null, 3.7, 4.7, 4.2, null, 3.4, null, 4.3, null, null, null, 3.8, null, null, null, null, null, null, 6.0, 5.2, 3.2, null, null, 3.4, null, 4.0, 3.7, null, 5.0, 3.8, 3.7, null, null, 2.1, null, null, 5.0, 4.7, null, 4.2, 5.6, 3.6, 3.2, 3.9, null, null, 4.0, 2.3, 4.2, null, 3.9, null, 4.2, null, 5.2, null, 4.4, 4.2, null, 4.7, 3.9, null, null, null, 4.3, null, 4.4, null, null, null, null, null, null, 3.6, null, 4.5, 4.3, 2.9, null, 2.7, null, 2.7, 8.0, 3.8, null, null, null, null, null, null, null, null, null, 4.1, 3.3, null, 3.0, null, null, null, null, null, 2.9, 3.0, null, null, 3.9, null, 4.3, 2.4, 4.8, null, 3.2, 5.4, null, null, null, null, null, 4.4, 3.1, 4.9, null, 4.6, 3.4, 3.9, null, null, null, null, 3.7, null, null, 3.6, null, null, null, null, 3.4, 4.8, 3.4, null, 2.8, null, null, 3.5, 3.0, 3.9, 3.2, 3.9, null, null, null, null, null, null, 4.6, 4.9, null, 3.9, null, 3.4, 3.7, 5.2, null, null, 4.3, null, 3.3, null, null, null, 4.6, null, 4.5, 3.4, 3.8, null, 3.8, null, null, null, null, 5.2, null, null, null, null, null, 4.1, 3.9, 3.3, 6.1, 4.6, 2.6, 2.5, null, 4.1, 2.1], \"y0\": \" \", \"yaxis\": \"y\"}, {\"alignmentgroup\": \"True\", \"box\": {\"visible\": false}, \"hoverlabel\": {\"namelength\": 0}, \"hovertemplate\": \"class=%{x}<br>red blood cell count=%{y}\", \"legendgroup\": \"class=notckd\", \"marker\": {\"color\": \"#EF553B\"}, \"name\": \"class=notckd\", \"offsetgroup\": \"class=notckd\", \"orientation\": \"v\", \"scalegroup\": \"True\", \"showlegend\": true, \"type\": \"violin\", \"x\": [\"notckd\", \"notckd\", \"notckd\", \"notckd\", \"notckd\", \"notckd\", \"notckd\", \"notckd\", \"notckd\", \"notckd\", \"notckd\", \"notckd\", \"notckd\", \"notckd\", \"notckd\", \"notckd\", \"notckd\", \"notckd\", \"notckd\", \"notckd\", \"notckd\", \"notckd\", \"notckd\", \"notckd\", \"notckd\", \"notckd\", \"notckd\", \"notckd\", \"notckd\", \"notckd\", \"notckd\", \"notckd\", \"notckd\", \"notckd\", \"notckd\", \"notckd\", \"notckd\", \"notckd\", \"notckd\", \"notckd\", \"notckd\", \"notckd\", \"notckd\", \"notckd\", \"notckd\", \"notckd\", \"notckd\", \"notckd\", \"notckd\", \"notckd\", \"notckd\", \"notckd\", \"notckd\", \"notckd\", \"notckd\", \"notckd\", \"notckd\", \"notckd\", \"notckd\", \"notckd\", \"notckd\", \"notckd\", \"notckd\", \"notckd\", \"notckd\", \"notckd\", \"notckd\", \"notckd\", \"notckd\", \"notckd\", \"notckd\", \"notckd\", \"notckd\", \"notckd\", \"notckd\", \"notckd\", \"notckd\", \"notckd\", \"notckd\", \"notckd\", \"notckd\", \"notckd\", \"notckd\", \"notckd\", \"notckd\", \"notckd\", \"notckd\", \"notckd\", \"notckd\", \"notckd\", \"notckd\", \"notckd\", \"notckd\", \"notckd\", \"notckd\", \"notckd\", \"notckd\", \"notckd\", \"notckd\", \"notckd\", \"notckd\", \"notckd\", \"notckd\", \"notckd\", \"notckd\", \"notckd\", \"notckd\", \"notckd\", \"notckd\", \"notckd\", \"notckd\", \"notckd\", \"notckd\", \"notckd\", \"notckd\", \"notckd\", \"notckd\", \"notckd\", \"notckd\", \"notckd\", \"notckd\", \"notckd\", \"notckd\", \"notckd\", \"notckd\", \"notckd\", \"notckd\", \"notckd\", \"notckd\", \"notckd\", \"notckd\", \"notckd\", \"notckd\", \"notckd\", \"notckd\", \"notckd\", \"notckd\", \"notckd\", \"notckd\", \"notckd\", \"notckd\", \"notckd\", \"notckd\", \"notckd\", \"notckd\", \"notckd\", \"notckd\", \"notckd\", \"notckd\", \"notckd\"], \"x0\": \" \", \"xaxis\": \"x\", \"y\": [4.5, 5.0, 4.7, 6.2, 5.2, 6.3, 5.1, 5.8, 5.5, 5.2, 5.3, 4.9, 5.4, 5.2, 4.5, 5.0, 5.3, 4.8, 4.9, 5.3, 5.0, 4.5, 5.5, null, null, 4.6, 5.5, 4.8, 6.4, 5.6, 5.2, 6.0, 4.8, 5.7, 6.0, 5.9, 6.0, null, 5.1, 5.3, 5.9, 5.7, 5.0, 5.4, 5.8, 6.5, 5.9, 5.2, 4.9, 4.7, 5.8, 5.0, null, 6.1, 4.5, 5.2, 5.7, 4.5, 4.9, 5.9, 5.4, 5.6, 6.1, 4.8, 4.7, 4.4, 5.2, 4.9, 5.3, null, 6.2, 4.8, 4.9, 4.5, null, 6.5, 5.2, 5.8, 6.5, 5.1, null, 4.5, 6.1, 5.5, 4.5, 5.6, 5.2, 6.2, 4.5, 4.9, 5.9, 4.7, 6.3, 5.7, 4.7, 6.4, 5.8, 5.5, 6.4, 6.1, 4.5, 4.7, 5.2, 4.5, 5.1, 4.6, 6.1, 4.9, 5.6, 4.5, 6.2, 5.8, 4.8, 5.2, 4.7, 6.3, 5.3, 6.1, 5.9, 4.8, 5.4, 5.0, 5.5, 4.9, 6.4, 5.6, 5.2, 4.8, 5.5, 5.7, 4.9, 5.9, 6.5, 5.0, 4.5, 5.1, 6.5, 5.2, 6.4, 5.8, 5.3, 6.3, 5.5, 5.4, 4.6, 4.9, 6.2, 5.4, 5.9, 6.1], \"y0\": \" \", \"yaxis\": \"y\"}],\n",
              "                        {\"legend\": {\"tracegroupgap\": 0}, \"margin\": {\"t\": 60}, \"template\": {\"data\": {\"bar\": [{\"error_x\": {\"color\": \"#2a3f5f\"}, \"error_y\": {\"color\": \"#2a3f5f\"}, \"marker\": {\"line\": {\"color\": \"#E5ECF6\", \"width\": 0.5}}, \"type\": \"bar\"}], \"barpolar\": [{\"marker\": {\"line\": {\"color\": \"#E5ECF6\", \"width\": 0.5}}, \"type\": \"barpolar\"}], \"carpet\": [{\"aaxis\": {\"endlinecolor\": \"#2a3f5f\", \"gridcolor\": \"white\", \"linecolor\": \"white\", \"minorgridcolor\": \"white\", \"startlinecolor\": \"#2a3f5f\"}, \"baxis\": {\"endlinecolor\": \"#2a3f5f\", \"gridcolor\": \"white\", \"linecolor\": \"white\", \"minorgridcolor\": \"white\", \"startlinecolor\": \"#2a3f5f\"}, \"type\": \"carpet\"}], \"choropleth\": [{\"colorbar\": {\"outlinewidth\": 0, \"ticks\": \"\"}, \"type\": \"choropleth\"}], \"contour\": [{\"colorbar\": {\"outlinewidth\": 0, \"ticks\": \"\"}, \"colorscale\": [[0.0, \"#0d0887\"], [0.1111111111111111, \"#46039f\"], [0.2222222222222222, \"#7201a8\"], [0.3333333333333333, \"#9c179e\"], [0.4444444444444444, \"#bd3786\"], [0.5555555555555556, \"#d8576b\"], [0.6666666666666666, \"#ed7953\"], [0.7777777777777778, \"#fb9f3a\"], [0.8888888888888888, \"#fdca26\"], [1.0, \"#f0f921\"]], \"type\": \"contour\"}], \"contourcarpet\": [{\"colorbar\": {\"outlinewidth\": 0, \"ticks\": \"\"}, \"type\": \"contourcarpet\"}], \"heatmap\": [{\"colorbar\": {\"outlinewidth\": 0, \"ticks\": \"\"}, \"colorscale\": [[0.0, \"#0d0887\"], [0.1111111111111111, \"#46039f\"], [0.2222222222222222, \"#7201a8\"], [0.3333333333333333, \"#9c179e\"], [0.4444444444444444, \"#bd3786\"], [0.5555555555555556, \"#d8576b\"], [0.6666666666666666, \"#ed7953\"], [0.7777777777777778, \"#fb9f3a\"], [0.8888888888888888, \"#fdca26\"], [1.0, \"#f0f921\"]], \"type\": \"heatmap\"}], \"heatmapgl\": [{\"colorbar\": {\"outlinewidth\": 0, \"ticks\": \"\"}, \"colorscale\": [[0.0, \"#0d0887\"], [0.1111111111111111, \"#46039f\"], [0.2222222222222222, \"#7201a8\"], [0.3333333333333333, \"#9c179e\"], [0.4444444444444444, \"#bd3786\"], [0.5555555555555556, \"#d8576b\"], [0.6666666666666666, \"#ed7953\"], [0.7777777777777778, \"#fb9f3a\"], [0.8888888888888888, \"#fdca26\"], [1.0, \"#f0f921\"]], \"type\": \"heatmapgl\"}], \"histogram\": [{\"marker\": {\"colorbar\": {\"outlinewidth\": 0, \"ticks\": \"\"}}, \"type\": \"histogram\"}], \"histogram2d\": [{\"colorbar\": {\"outlinewidth\": 0, \"ticks\": \"\"}, \"colorscale\": [[0.0, \"#0d0887\"], [0.1111111111111111, \"#46039f\"], [0.2222222222222222, \"#7201a8\"], [0.3333333333333333, \"#9c179e\"], [0.4444444444444444, \"#bd3786\"], [0.5555555555555556, \"#d8576b\"], [0.6666666666666666, \"#ed7953\"], [0.7777777777777778, \"#fb9f3a\"], [0.8888888888888888, \"#fdca26\"], [1.0, \"#f0f921\"]], \"type\": \"histogram2d\"}], \"histogram2dcontour\": [{\"colorbar\": {\"outlinewidth\": 0, \"ticks\": \"\"}, \"colorscale\": [[0.0, \"#0d0887\"], [0.1111111111111111, \"#46039f\"], [0.2222222222222222, \"#7201a8\"], [0.3333333333333333, \"#9c179e\"], [0.4444444444444444, \"#bd3786\"], [0.5555555555555556, \"#d8576b\"], [0.6666666666666666, \"#ed7953\"], [0.7777777777777778, \"#fb9f3a\"], [0.8888888888888888, \"#fdca26\"], [1.0, \"#f0f921\"]], \"type\": \"histogram2dcontour\"}], \"mesh3d\": [{\"colorbar\": {\"outlinewidth\": 0, \"ticks\": \"\"}, \"type\": \"mesh3d\"}], \"parcoords\": [{\"line\": {\"colorbar\": {\"outlinewidth\": 0, \"ticks\": \"\"}}, \"type\": \"parcoords\"}], \"pie\": [{\"automargin\": true, \"type\": \"pie\"}], \"scatter\": [{\"marker\": {\"colorbar\": {\"outlinewidth\": 0, \"ticks\": \"\"}}, \"type\": \"scatter\"}], \"scatter3d\": [{\"line\": {\"colorbar\": {\"outlinewidth\": 0, \"ticks\": \"\"}}, \"marker\": {\"colorbar\": {\"outlinewidth\": 0, \"ticks\": \"\"}}, \"type\": \"scatter3d\"}], \"scattercarpet\": [{\"marker\": {\"colorbar\": {\"outlinewidth\": 0, \"ticks\": \"\"}}, \"type\": \"scattercarpet\"}], \"scattergeo\": [{\"marker\": {\"colorbar\": {\"outlinewidth\": 0, \"ticks\": \"\"}}, \"type\": \"scattergeo\"}], \"scattergl\": [{\"marker\": {\"colorbar\": {\"outlinewidth\": 0, \"ticks\": \"\"}}, \"type\": \"scattergl\"}], \"scattermapbox\": [{\"marker\": {\"colorbar\": {\"outlinewidth\": 0, \"ticks\": \"\"}}, \"type\": \"scattermapbox\"}], \"scatterpolar\": [{\"marker\": {\"colorbar\": {\"outlinewidth\": 0, \"ticks\": \"\"}}, \"type\": \"scatterpolar\"}], \"scatterpolargl\": [{\"marker\": {\"colorbar\": {\"outlinewidth\": 0, \"ticks\": \"\"}}, \"type\": \"scatterpolargl\"}], \"scatterternary\": [{\"marker\": {\"colorbar\": {\"outlinewidth\": 0, \"ticks\": \"\"}}, \"type\": \"scatterternary\"}], \"surface\": [{\"colorbar\": {\"outlinewidth\": 0, \"ticks\": \"\"}, \"colorscale\": [[0.0, \"#0d0887\"], [0.1111111111111111, \"#46039f\"], [0.2222222222222222, \"#7201a8\"], [0.3333333333333333, \"#9c179e\"], [0.4444444444444444, \"#bd3786\"], [0.5555555555555556, \"#d8576b\"], [0.6666666666666666, \"#ed7953\"], [0.7777777777777778, \"#fb9f3a\"], [0.8888888888888888, \"#fdca26\"], [1.0, \"#f0f921\"]], \"type\": \"surface\"}], \"table\": [{\"cells\": {\"fill\": {\"color\": \"#EBF0F8\"}, \"line\": {\"color\": \"white\"}}, \"header\": {\"fill\": {\"color\": \"#C8D4E3\"}, \"line\": {\"color\": \"white\"}}, \"type\": \"table\"}]}, \"layout\": {\"annotationdefaults\": {\"arrowcolor\": \"#2a3f5f\", \"arrowhead\": 0, \"arrowwidth\": 1}, \"coloraxis\": {\"colorbar\": {\"outlinewidth\": 0, \"ticks\": \"\"}}, \"colorscale\": {\"diverging\": [[0, \"#8e0152\"], [0.1, \"#c51b7d\"], [0.2, \"#de77ae\"], [0.3, \"#f1b6da\"], [0.4, \"#fde0ef\"], [0.5, \"#f7f7f7\"], [0.6, \"#e6f5d0\"], [0.7, \"#b8e186\"], [0.8, \"#7fbc41\"], [0.9, \"#4d9221\"], [1, \"#276419\"]], \"sequential\": [[0.0, \"#0d0887\"], [0.1111111111111111, \"#46039f\"], [0.2222222222222222, \"#7201a8\"], [0.3333333333333333, \"#9c179e\"], [0.4444444444444444, \"#bd3786\"], [0.5555555555555556, \"#d8576b\"], [0.6666666666666666, \"#ed7953\"], [0.7777777777777778, \"#fb9f3a\"], [0.8888888888888888, \"#fdca26\"], [1.0, \"#f0f921\"]], \"sequentialminus\": [[0.0, \"#0d0887\"], [0.1111111111111111, \"#46039f\"], [0.2222222222222222, \"#7201a8\"], [0.3333333333333333, \"#9c179e\"], [0.4444444444444444, \"#bd3786\"], [0.5555555555555556, \"#d8576b\"], [0.6666666666666666, \"#ed7953\"], [0.7777777777777778, \"#fb9f3a\"], [0.8888888888888888, \"#fdca26\"], [1.0, \"#f0f921\"]]}, \"colorway\": [\"#636efa\", \"#EF553B\", \"#00cc96\", \"#ab63fa\", \"#FFA15A\", \"#19d3f3\", \"#FF6692\", \"#B6E880\", \"#FF97FF\", \"#FECB52\"], \"font\": {\"color\": \"#2a3f5f\"}, \"geo\": {\"bgcolor\": \"white\", \"lakecolor\": \"white\", \"landcolor\": \"#E5ECF6\", \"showlakes\": true, \"showland\": true, \"subunitcolor\": \"white\"}, \"hoverlabel\": {\"align\": \"left\"}, \"hovermode\": \"closest\", \"mapbox\": {\"style\": \"light\"}, \"paper_bgcolor\": \"white\", \"plot_bgcolor\": \"#E5ECF6\", \"polar\": {\"angularaxis\": {\"gridcolor\": \"white\", \"linecolor\": \"white\", \"ticks\": \"\"}, \"bgcolor\": \"#E5ECF6\", \"radialaxis\": {\"gridcolor\": \"white\", \"linecolor\": \"white\", \"ticks\": \"\"}}, \"scene\": {\"xaxis\": {\"backgroundcolor\": \"#E5ECF6\", \"gridcolor\": \"white\", \"gridwidth\": 2, \"linecolor\": \"white\", \"showbackground\": true, \"ticks\": \"\", \"zerolinecolor\": \"white\"}, \"yaxis\": {\"backgroundcolor\": \"#E5ECF6\", \"gridcolor\": \"white\", \"gridwidth\": 2, \"linecolor\": \"white\", \"showbackground\": true, \"ticks\": \"\", \"zerolinecolor\": \"white\"}, \"zaxis\": {\"backgroundcolor\": \"#E5ECF6\", \"gridcolor\": \"white\", \"gridwidth\": 2, \"linecolor\": \"white\", \"showbackground\": true, \"ticks\": \"\", \"zerolinecolor\": \"white\"}}, \"shapedefaults\": {\"line\": {\"color\": \"#2a3f5f\"}}, \"ternary\": {\"aaxis\": {\"gridcolor\": \"white\", \"linecolor\": \"white\", \"ticks\": \"\"}, \"baxis\": {\"gridcolor\": \"white\", \"linecolor\": \"white\", \"ticks\": \"\"}, \"bgcolor\": \"#E5ECF6\", \"caxis\": {\"gridcolor\": \"white\", \"linecolor\": \"white\", \"ticks\": \"\"}}, \"title\": {\"x\": 0.05}, \"xaxis\": {\"automargin\": true, \"gridcolor\": \"white\", \"linecolor\": \"white\", \"ticks\": \"\", \"title\": {\"standoff\": 15}, \"zerolinecolor\": \"white\", \"zerolinewidth\": 2}, \"yaxis\": {\"automargin\": true, \"gridcolor\": \"white\", \"linecolor\": \"white\", \"ticks\": \"\", \"title\": {\"standoff\": 15}, \"zerolinecolor\": \"white\", \"zerolinewidth\": 2}}}, \"violinmode\": \"group\", \"xaxis\": {\"anchor\": \"y\", \"categoryarray\": [\"ckd\", \"notckd\"], \"categoryorder\": \"array\", \"domain\": [0.0, 1.0], \"title\": {\"text\": \"class\"}}, \"yaxis\": {\"anchor\": \"x\", \"domain\": [0.0, 1.0], \"title\": {\"text\": \"red blood cell count\"}}},\n",
              "                        {\"responsive\": true}\n",
              "                    ).then(function(){\n",
              "                            \n",
              "var gd = document.getElementById('b1890d1d-1937-4726-9b63-d8a52123ec4c');\n",
              "var x = new MutationObserver(function (mutations, observer) {{\n",
              "        var display = window.getComputedStyle(gd).display;\n",
              "        if (!display || display === 'none') {{\n",
              "            console.log([gd, 'removed!']);\n",
              "            Plotly.purge(gd);\n",
              "            observer.disconnect();\n",
              "        }}\n",
              "}});\n",
              "\n",
              "// Listen for the removal of the full notebook cells\n",
              "var notebookContainer = gd.closest('#notebook-container');\n",
              "if (notebookContainer) {{\n",
              "    x.observe(notebookContainer, {childList: true});\n",
              "}}\n",
              "\n",
              "// Listen for the clearing of the current output cell\n",
              "var outputEl = gd.closest('.output');\n",
              "if (outputEl) {{\n",
              "    x.observe(outputEl, {childList: true});\n",
              "}}\n",
              "\n",
              "                        })\n",
              "                };\n",
              "                \n",
              "            </script>\n",
              "        </div>\n",
              "</body>\n",
              "</html>"
            ]
          },
          "metadata": {
            "tags": []
          }
        }
      ]
    },
    {
      "cell_type": "code",
      "metadata": {
        "colab": {
          "base_uri": "https://localhost:8080/",
          "height": 542
        },
        "id": "K2CJ4RTn-jnf",
        "outputId": "538b9142-70e9-47d7-b83a-e45afff68019"
      },
      "source": [
        "px.scatter(df,x='haemoglobin',y='packed cell volume')"
      ],
      "execution_count": 34,
      "outputs": [
        {
          "output_type": "display_data",
          "data": {
            "text/html": [
              "<html>\n",
              "<head><meta charset=\"utf-8\" /></head>\n",
              "<body>\n",
              "    <div>\n",
              "            <script src=\"https://cdnjs.cloudflare.com/ajax/libs/mathjax/2.7.5/MathJax.js?config=TeX-AMS-MML_SVG\"></script><script type=\"text/javascript\">if (window.MathJax) {MathJax.Hub.Config({SVG: {font: \"STIX-Web\"}});}</script>\n",
              "                <script type=\"text/javascript\">window.PlotlyConfig = {MathJaxConfig: 'local'};</script>\n",
              "        <script src=\"https://cdn.plot.ly/plotly-latest.min.js\"></script>    \n",
              "            <div id=\"f7067468-734d-4ec7-9f57-d13e83a57287\" class=\"plotly-graph-div\" style=\"height:525px; width:100%;\"></div>\n",
              "            <script type=\"text/javascript\">\n",
              "                \n",
              "                    window.PLOTLYENV=window.PLOTLYENV || {};\n",
              "                    \n",
              "                if (document.getElementById(\"f7067468-734d-4ec7-9f57-d13e83a57287\")) {\n",
              "                    Plotly.newPlot(\n",
              "                        'f7067468-734d-4ec7-9f57-d13e83a57287',\n",
              "                        [{\"hoverlabel\": {\"namelength\": 0}, \"hovertemplate\": \"haemoglobin=%{x}<br>packed cell volume=%{y}\", \"legendgroup\": \"\", \"marker\": {\"color\": \"#636efa\", \"symbol\": \"circle\"}, \"mode\": \"markers\", \"name\": \"\", \"showlegend\": false, \"type\": \"scatter\", \"x\": [15.4, 11.3, 9.6, 11.2, 11.6, 12.2, 12.4, 12.4, 10.8, 9.5, 9.4, 10.8, 9.7, 9.8, 5.6, 7.6, 12.6, 12.1, 12.7, 10.3, 7.7, 10.9, 9.8, null, 11.1, 9.9, 11.6, 12.5, null, 12.9, null, 10.1, 11.3, 10.1, null, 12.0, 10.3, 9.7, 12.5, 13.0, 11.1, null, 9.7, 7.9, 9.7, 9.3, 12.4, 15.0, 10.0, 9.7, 8.6, 10.3, 10.9, 13.6, 13.0, 9.5, 10.2, null, 10.5, 6.6, null, null, 11.0, 7.5, 9.8, 15.0, null, null, 10.9, 15.6, 15.2, 9.8, 10.3, 4.8, 9.1, 8.1, 10.3, 11.9, 10.1, 13.5, 10.8, 8.3, null, null, 7.1, 9.9, null, 11.1, null, null, 13.0, 16.1, 10.4, 9.2, 11.6, null, 11.2, 10.0, 6.2, 11.2, null, 11.3, 13.9, 10.2, null, 14.1, 6.0, 11.2, 11.8, 11.7, 11.7, 10.0, 10.8, null, 12.1, 12.4, null, 12.5, 11.4, null, 12.6, 15.0, 6.0, 14.0, 9.1, null, 12.0, 11.4, 8.1, 11.1, 8.2, 11.8, 8.6, 12.0, 10.8, 13.2, 9.3, 10.0, null, 11.1, null, 6.1, null, null, 11.1, 8.0, null, 7.9, null, 10.5, 12.3, 9.6, 10.9, 8.3, 8.4, 11.1, null, 12.6, 10.9, 10.4, 10.9, 14.3, 9.8, 9.0, 14.3, null, null, 12.7, 11.0, 8.7, 12.5, 8.7, 10.6, 13.1, 11.0, null, 8.3, 13.2, 9.8, 11.9, 10.3, 10.0, 11.3, null, 11.3, 12.0, null, 10.7, 12.2, 9.5, 9.9, 9.1, null, 5.5, null, 5.8, 8.1, 6.8, 11.2, 8.8, 12.0, 7.9, 8.0, 8.5, 8.8, 12.6, 13.8, 12.0, 12.3, 11.5, 7.3, null, 10.9, 10.9, 13.7, null, 12.8, 12.2, 11.8, 9.8, 11.9, null, null, 13.0, null, 11.5, 7.9, 11.3, null, 9.6, null, 11.5, null, null, 15.0, 7.9, 9.1, 12.7, 9.4, 11.9, 11.4, 10.4, 9.4, 13.4, 12.2, 6.3, 8.6, null, 12.6, 3.1, 15.0, 17.0, 15.9, 15.4, 13.0, 13.6, 14.5, 14.0, 13.9, 16.1, 14.1, 17.0, 15.5, 16.2, 14.4, 14.2, 13.2, 13.9, 16.3, 15.0, 14.3, 13.8, 14.8, null, 14.4, 16.5, 14.0, 15.7, 14.5, 16.3, 13.3, 15.5, 14.6, 16.4, 16.9, 16.0, 14.7, 13.4, 15.9, 16.6, 14.8, 14.9, 16.7, 14.9, 14.3, 15.0, 16.8, 15.8, 13.5, 15.1, 15.0, 16.9, 14.8, 17.0, 13.1, 17.1, 15.2, 13.6, 13.9, 17.2, 13.2, 13.7, 15.3, 17.3, 15.6, 13.8, 15.4, 15.0, 17.4, null, 15.7, 13.9, 16.0, 15.9, null, 14.0, 15.8, 13.4, null, 14.1, null, 13.5, 15.3, 17.7, 15.4, 14.2, 15.2, 14.0, 17.8, 13.3, 14.3, 13.4, 15.0, 16.2, 14.4, 13.5, 15.5, 17.8, 13.6, 14.5, 16.1, 17.5, 15.0, 13.6, 14.6, 15.0, 17.1, 13.6, 13.0, 17.2, 14.7, 13.7, 15.0, 17.8, 14.8, null, 15.0, 17.4, 14.9, 13.6, 16.2, 17.6, 15.0, 13.7, 16.3, 15.1, 16.4, 13.8, 15.2, 16.1, 15.3, 16.6, 16.8, 13.9, 15.4, 16.5, 16.4, 16.7, 15.5, 17.0, 15.0, 15.6, 14.8, 13.0, 14.1, 15.7, 16.5, 15.8, 14.2, 15.8], \"xaxis\": \"x\", \"y\": [44.0, 38.0, 31.0, 32.0, 35.0, 39.0, 36.0, 44.0, 33.0, 29.0, 28.0, 32.0, 28.0, null, 16.0, 24.0, null, null, 37.0, 30.0, 24.0, 32.0, 32.0, null, 39.0, 29.0, 35.0, 37.0, null, 38.0, null, 30.0, 34.0, 29.0, null, 36.0, 32.0, 28.0, null, 40.0, 32.0, null, 33.0, 24.0, 28.0, null, 37.0, 45.0, 29.0, 29.0, 28.0, 33.0, 34.0, 40.0, 40.0, 28.0, 30.0, null, 33.0, null, null, null, 33.0, 27.0, null, 48.0, null, null, 37.0, 52.0, 44.0, 28.0, null, 14.0, 29.0, null, 36.0, 34.0, 30.0, 40.0, 31.0, 29.0, null, null, 22.0, null, null, 32.0, null, null, 40.0, 52.0, 33.0, 30.0, 36.0, null, 36.0, 32.0, 18.0, 32.0, null, 33.0, 52.0, 36.0, null, 42.0, 17.0, 34.0, 37.0, null, 34.0, 32.0, 33.0, null, null, 44.0, null, 37.0, null, null, null, 46.0, null, 42.0, 28.0, null, 37.0, 35.0, 23.0, null, 22.0, 36.0, 24.0, 37.0, 33.0, 39.0, null, 29.0, null, 33.0, null, 19.0, null, null, 33.0, 24.0, null, 25.0, null, 32.0, 41.0, 30.0, 32.0, 22.0, 26.0, 36.0, null, 39.0, 31.0, 35.0, 35.0, 42.0, 37.0, 27.0, 40.0, null, null, 42.0, 39.0, 27.0, 33.0, 26.0, 34.0, 41.0, 35.0, null, 23.0, 41.0, 34.0, 39.0, 28.0, 30.0, 35.0, null, 31.0, 34.0, null, 34.0, 38.0, 29.0, 30.0, 26.0, null, 15.0, null, null, 24.0, null, 30.0, 25.0, 37.0, 21.0, 24.0, null, 31.0, 43.0, 41.0, 41.0, 41.0, null, 20.0, null, 31.0, 34.0, 43.0, null, 38.0, 36.0, 34.0, 28.0, 36.0, null, null, 38.0, null, 35.0, 26.0, 36.0, null, 31.0, null, 35.0, null, null, 44.0, 26.0, 25.0, 40.0, 28.0, 39.0, 36.0, 31.0, 28.0, 47.0, 40.0, 19.0, 26.0, null, 37.0, 9.0, 48.0, 52.0, 46.0, 42.0, 49.0, 52.0, 41.0, 46.0, 44.0, 45.0, 45.0, 41.0, 43.0, 45.0, 50.0, 48.0, 41.0, 48.0, 53.0, 48.0, 41.0, 42.0, 42.0, null, 44.0, 43.0, 41.0, 50.0, 44.0, 48.0, 52.0, 41.0, 44.0, 43.0, 52.0, 41.0, 44.0, 43.0, 50.0, 43.0, 52.0, 41.0, 52.0, 48.0, 40.0, 50.0, 41.0, 45.0, 48.0, 52.0, 43.0, 41.0, 48.0, 50.0, 45.0, 41.0, 52.0, 44.0, 48.0, 40.0, 44.0, 45.0, 48.0, 52.0, 41.0, 48.0, 48.0, 40.0, 52.0, null, 44.0, 48.0, 43.0, 45.0, null, 50.0, 41.0, 44.0, 45.0, 48.0, 42.0, 46.0, 44.0, 46.0, 43.0, 48.0, 40.0, 52.0, 44.0, 48.0, 43.0, 41.0, 50.0, 50.0, 42.0, 42.0, 52.0, 43.0, 44.0, 52.0, 43.0, 40.0, 48.0, 51.0, 41.0, 52.0, 47.0, 42.0, 45.0, 53.0, 43.0, 54.0, 40.0, 44.0, 45.0, null, 46.0, 50.0, 45.0, 46.0, 50.0, 51.0, 52.0, 47.0, 40.0, 48.0, 53.0, 49.0, 42.0, 50.0, 54.0, 40.0, 51.0, 49.0, 42.0, 52.0, 43.0, 50.0, 46.0, 52.0, 52.0, 44.0, 46.0, 54.0, 45.0, 47.0, 54.0, 49.0, 51.0, 53.0], \"yaxis\": \"y\"}],\n",
              "                        {\"legend\": {\"tracegroupgap\": 0}, \"margin\": {\"t\": 60}, \"template\": {\"data\": {\"bar\": [{\"error_x\": {\"color\": \"#2a3f5f\"}, \"error_y\": {\"color\": \"#2a3f5f\"}, \"marker\": {\"line\": {\"color\": \"#E5ECF6\", \"width\": 0.5}}, \"type\": \"bar\"}], \"barpolar\": [{\"marker\": {\"line\": {\"color\": \"#E5ECF6\", \"width\": 0.5}}, \"type\": \"barpolar\"}], \"carpet\": [{\"aaxis\": {\"endlinecolor\": \"#2a3f5f\", \"gridcolor\": \"white\", \"linecolor\": \"white\", \"minorgridcolor\": \"white\", \"startlinecolor\": \"#2a3f5f\"}, \"baxis\": {\"endlinecolor\": \"#2a3f5f\", \"gridcolor\": \"white\", \"linecolor\": \"white\", \"minorgridcolor\": \"white\", \"startlinecolor\": \"#2a3f5f\"}, \"type\": \"carpet\"}], \"choropleth\": [{\"colorbar\": {\"outlinewidth\": 0, \"ticks\": \"\"}, \"type\": \"choropleth\"}], \"contour\": [{\"colorbar\": {\"outlinewidth\": 0, \"ticks\": \"\"}, \"colorscale\": [[0.0, \"#0d0887\"], [0.1111111111111111, \"#46039f\"], [0.2222222222222222, \"#7201a8\"], [0.3333333333333333, \"#9c179e\"], [0.4444444444444444, \"#bd3786\"], [0.5555555555555556, \"#d8576b\"], [0.6666666666666666, \"#ed7953\"], [0.7777777777777778, \"#fb9f3a\"], [0.8888888888888888, \"#fdca26\"], [1.0, \"#f0f921\"]], \"type\": \"contour\"}], \"contourcarpet\": [{\"colorbar\": {\"outlinewidth\": 0, \"ticks\": \"\"}, \"type\": \"contourcarpet\"}], \"heatmap\": [{\"colorbar\": {\"outlinewidth\": 0, \"ticks\": \"\"}, \"colorscale\": [[0.0, \"#0d0887\"], [0.1111111111111111, \"#46039f\"], [0.2222222222222222, \"#7201a8\"], [0.3333333333333333, \"#9c179e\"], [0.4444444444444444, \"#bd3786\"], [0.5555555555555556, \"#d8576b\"], [0.6666666666666666, \"#ed7953\"], [0.7777777777777778, \"#fb9f3a\"], [0.8888888888888888, \"#fdca26\"], [1.0, \"#f0f921\"]], \"type\": \"heatmap\"}], \"heatmapgl\": [{\"colorbar\": {\"outlinewidth\": 0, \"ticks\": \"\"}, \"colorscale\": [[0.0, \"#0d0887\"], [0.1111111111111111, \"#46039f\"], [0.2222222222222222, \"#7201a8\"], [0.3333333333333333, \"#9c179e\"], [0.4444444444444444, \"#bd3786\"], [0.5555555555555556, \"#d8576b\"], [0.6666666666666666, \"#ed7953\"], [0.7777777777777778, \"#fb9f3a\"], [0.8888888888888888, \"#fdca26\"], [1.0, \"#f0f921\"]], \"type\": \"heatmapgl\"}], \"histogram\": [{\"marker\": {\"colorbar\": {\"outlinewidth\": 0, \"ticks\": \"\"}}, \"type\": \"histogram\"}], \"histogram2d\": [{\"colorbar\": {\"outlinewidth\": 0, \"ticks\": \"\"}, \"colorscale\": [[0.0, \"#0d0887\"], [0.1111111111111111, \"#46039f\"], [0.2222222222222222, \"#7201a8\"], [0.3333333333333333, \"#9c179e\"], [0.4444444444444444, \"#bd3786\"], [0.5555555555555556, \"#d8576b\"], [0.6666666666666666, \"#ed7953\"], [0.7777777777777778, \"#fb9f3a\"], [0.8888888888888888, \"#fdca26\"], [1.0, \"#f0f921\"]], \"type\": \"histogram2d\"}], \"histogram2dcontour\": [{\"colorbar\": {\"outlinewidth\": 0, \"ticks\": \"\"}, \"colorscale\": [[0.0, \"#0d0887\"], [0.1111111111111111, \"#46039f\"], [0.2222222222222222, \"#7201a8\"], [0.3333333333333333, \"#9c179e\"], [0.4444444444444444, \"#bd3786\"], [0.5555555555555556, \"#d8576b\"], [0.6666666666666666, \"#ed7953\"], [0.7777777777777778, \"#fb9f3a\"], [0.8888888888888888, \"#fdca26\"], [1.0, \"#f0f921\"]], \"type\": \"histogram2dcontour\"}], \"mesh3d\": [{\"colorbar\": {\"outlinewidth\": 0, \"ticks\": \"\"}, \"type\": \"mesh3d\"}], \"parcoords\": [{\"line\": {\"colorbar\": {\"outlinewidth\": 0, \"ticks\": \"\"}}, \"type\": \"parcoords\"}], \"pie\": [{\"automargin\": true, \"type\": \"pie\"}], \"scatter\": [{\"marker\": {\"colorbar\": {\"outlinewidth\": 0, \"ticks\": \"\"}}, \"type\": \"scatter\"}], \"scatter3d\": [{\"line\": {\"colorbar\": {\"outlinewidth\": 0, \"ticks\": \"\"}}, \"marker\": {\"colorbar\": {\"outlinewidth\": 0, \"ticks\": \"\"}}, \"type\": \"scatter3d\"}], \"scattercarpet\": [{\"marker\": {\"colorbar\": {\"outlinewidth\": 0, \"ticks\": \"\"}}, \"type\": \"scattercarpet\"}], \"scattergeo\": [{\"marker\": {\"colorbar\": {\"outlinewidth\": 0, \"ticks\": \"\"}}, \"type\": \"scattergeo\"}], \"scattergl\": [{\"marker\": {\"colorbar\": {\"outlinewidth\": 0, \"ticks\": \"\"}}, \"type\": \"scattergl\"}], \"scattermapbox\": [{\"marker\": {\"colorbar\": {\"outlinewidth\": 0, \"ticks\": \"\"}}, \"type\": \"scattermapbox\"}], \"scatterpolar\": [{\"marker\": {\"colorbar\": {\"outlinewidth\": 0, \"ticks\": \"\"}}, \"type\": \"scatterpolar\"}], \"scatterpolargl\": [{\"marker\": {\"colorbar\": {\"outlinewidth\": 0, \"ticks\": \"\"}}, \"type\": \"scatterpolargl\"}], \"scatterternary\": [{\"marker\": {\"colorbar\": {\"outlinewidth\": 0, \"ticks\": \"\"}}, \"type\": \"scatterternary\"}], \"surface\": [{\"colorbar\": {\"outlinewidth\": 0, \"ticks\": \"\"}, \"colorscale\": [[0.0, \"#0d0887\"], [0.1111111111111111, \"#46039f\"], [0.2222222222222222, \"#7201a8\"], [0.3333333333333333, \"#9c179e\"], [0.4444444444444444, \"#bd3786\"], [0.5555555555555556, \"#d8576b\"], [0.6666666666666666, \"#ed7953\"], [0.7777777777777778, \"#fb9f3a\"], [0.8888888888888888, \"#fdca26\"], [1.0, \"#f0f921\"]], \"type\": \"surface\"}], \"table\": [{\"cells\": {\"fill\": {\"color\": \"#EBF0F8\"}, \"line\": {\"color\": \"white\"}}, \"header\": {\"fill\": {\"color\": \"#C8D4E3\"}, \"line\": {\"color\": \"white\"}}, \"type\": \"table\"}]}, \"layout\": {\"annotationdefaults\": {\"arrowcolor\": \"#2a3f5f\", \"arrowhead\": 0, \"arrowwidth\": 1}, \"coloraxis\": {\"colorbar\": {\"outlinewidth\": 0, \"ticks\": \"\"}}, \"colorscale\": {\"diverging\": [[0, \"#8e0152\"], [0.1, \"#c51b7d\"], [0.2, \"#de77ae\"], [0.3, \"#f1b6da\"], [0.4, \"#fde0ef\"], [0.5, \"#f7f7f7\"], [0.6, \"#e6f5d0\"], [0.7, \"#b8e186\"], [0.8, \"#7fbc41\"], [0.9, \"#4d9221\"], [1, \"#276419\"]], \"sequential\": [[0.0, \"#0d0887\"], [0.1111111111111111, \"#46039f\"], [0.2222222222222222, \"#7201a8\"], [0.3333333333333333, \"#9c179e\"], [0.4444444444444444, \"#bd3786\"], [0.5555555555555556, \"#d8576b\"], [0.6666666666666666, \"#ed7953\"], [0.7777777777777778, \"#fb9f3a\"], [0.8888888888888888, \"#fdca26\"], [1.0, \"#f0f921\"]], \"sequentialminus\": [[0.0, \"#0d0887\"], [0.1111111111111111, \"#46039f\"], [0.2222222222222222, \"#7201a8\"], [0.3333333333333333, \"#9c179e\"], [0.4444444444444444, \"#bd3786\"], [0.5555555555555556, \"#d8576b\"], [0.6666666666666666, \"#ed7953\"], [0.7777777777777778, \"#fb9f3a\"], [0.8888888888888888, \"#fdca26\"], [1.0, \"#f0f921\"]]}, \"colorway\": [\"#636efa\", \"#EF553B\", \"#00cc96\", \"#ab63fa\", \"#FFA15A\", \"#19d3f3\", \"#FF6692\", \"#B6E880\", \"#FF97FF\", \"#FECB52\"], \"font\": {\"color\": \"#2a3f5f\"}, \"geo\": {\"bgcolor\": \"white\", \"lakecolor\": \"white\", \"landcolor\": \"#E5ECF6\", \"showlakes\": true, \"showland\": true, \"subunitcolor\": \"white\"}, \"hoverlabel\": {\"align\": \"left\"}, \"hovermode\": \"closest\", \"mapbox\": {\"style\": \"light\"}, \"paper_bgcolor\": \"white\", \"plot_bgcolor\": \"#E5ECF6\", \"polar\": {\"angularaxis\": {\"gridcolor\": \"white\", \"linecolor\": \"white\", \"ticks\": \"\"}, \"bgcolor\": \"#E5ECF6\", \"radialaxis\": {\"gridcolor\": \"white\", \"linecolor\": \"white\", \"ticks\": \"\"}}, \"scene\": {\"xaxis\": {\"backgroundcolor\": \"#E5ECF6\", \"gridcolor\": \"white\", \"gridwidth\": 2, \"linecolor\": \"white\", \"showbackground\": true, \"ticks\": \"\", \"zerolinecolor\": \"white\"}, \"yaxis\": {\"backgroundcolor\": \"#E5ECF6\", \"gridcolor\": \"white\", \"gridwidth\": 2, \"linecolor\": \"white\", \"showbackground\": true, \"ticks\": \"\", \"zerolinecolor\": \"white\"}, \"zaxis\": {\"backgroundcolor\": \"#E5ECF6\", \"gridcolor\": \"white\", \"gridwidth\": 2, \"linecolor\": \"white\", \"showbackground\": true, \"ticks\": \"\", \"zerolinecolor\": \"white\"}}, \"shapedefaults\": {\"line\": {\"color\": \"#2a3f5f\"}}, \"ternary\": {\"aaxis\": {\"gridcolor\": \"white\", \"linecolor\": \"white\", \"ticks\": \"\"}, \"baxis\": {\"gridcolor\": \"white\", \"linecolor\": \"white\", \"ticks\": \"\"}, \"bgcolor\": \"#E5ECF6\", \"caxis\": {\"gridcolor\": \"white\", \"linecolor\": \"white\", \"ticks\": \"\"}}, \"title\": {\"x\": 0.05}, \"xaxis\": {\"automargin\": true, \"gridcolor\": \"white\", \"linecolor\": \"white\", \"ticks\": \"\", \"title\": {\"standoff\": 15}, \"zerolinecolor\": \"white\", \"zerolinewidth\": 2}, \"yaxis\": {\"automargin\": true, \"gridcolor\": \"white\", \"linecolor\": \"white\", \"ticks\": \"\", \"title\": {\"standoff\": 15}, \"zerolinecolor\": \"white\", \"zerolinewidth\": 2}}}, \"xaxis\": {\"anchor\": \"y\", \"domain\": [0.0, 1.0], \"title\": {\"text\": \"haemoglobin\"}}, \"yaxis\": {\"anchor\": \"x\", \"domain\": [0.0, 1.0], \"title\": {\"text\": \"packed cell volume\"}}},\n",
              "                        {\"responsive\": true}\n",
              "                    ).then(function(){\n",
              "                            \n",
              "var gd = document.getElementById('f7067468-734d-4ec7-9f57-d13e83a57287');\n",
              "var x = new MutationObserver(function (mutations, observer) {{\n",
              "        var display = window.getComputedStyle(gd).display;\n",
              "        if (!display || display === 'none') {{\n",
              "            console.log([gd, 'removed!']);\n",
              "            Plotly.purge(gd);\n",
              "            observer.disconnect();\n",
              "        }}\n",
              "}});\n",
              "\n",
              "// Listen for the removal of the full notebook cells\n",
              "var notebookContainer = gd.closest('#notebook-container');\n",
              "if (notebookContainer) {{\n",
              "    x.observe(notebookContainer, {childList: true});\n",
              "}}\n",
              "\n",
              "// Listen for the clearing of the current output cell\n",
              "var outputEl = gd.closest('.output');\n",
              "if (outputEl) {{\n",
              "    x.observe(outputEl, {childList: true});\n",
              "}}\n",
              "\n",
              "                        })\n",
              "                };\n",
              "                \n",
              "            </script>\n",
              "        </div>\n",
              "</body>\n",
              "</html>"
            ]
          },
          "metadata": {
            "tags": []
          }
        }
      ]
    },
    {
      "cell_type": "code",
      "metadata": {
        "colab": {
          "base_uri": "https://localhost:8080/",
          "height": 242
        },
        "id": "BBWQ963D-1BF",
        "outputId": "03fd060e-942b-4e25-aed3-1c0aeb7aef30"
      },
      "source": [
        "grid=sns.FacetGrid(df,hue='class',aspect=3)\n",
        "grid.map(sns.kdeplot,'red blood cell count')\n",
        "grid.add_legend()"
      ],
      "execution_count": 41,
      "outputs": [
        {
          "output_type": "execute_result",
          "data": {
            "text/plain": [
              "<seaborn.axisgrid.FacetGrid at 0x7f61ab3420d0>"
            ]
          },
          "metadata": {
            "tags": []
          },
          "execution_count": 41
        },
        {
          "output_type": "display_data",
          "data": {
            "image/png": "[encoded data removed]",
            "text/plain": [
              "<Figure size 717.875x216 with 1 Axes>"
            ]
          },
          "metadata": {
            "tags": [],
            "needs_background": "light"
          }
        }
      ]
    },
    {
      "cell_type": "code",
      "metadata": {
        "id": "F7P2wBfu_gOV"
      },
      "source": [
        "def violin(col):\n",
        "  fig=px.violin(df,y=col,x='class',color='class',box=True)\n",
        "  return fig.show()"
      ],
      "execution_count": 57,
      "outputs": []
    },
    {
      "cell_type": "code",
      "metadata": {
        "id": "U41zYaqP-vK8"
      },
      "source": [
        "def scatters(col1,col2):\n",
        "  fig=px.scatter(df,x=col1,y=col2,color='class')\n",
        "  return fig.show()"
      ],
      "execution_count": 52,
      "outputs": []
    },
    {
      "cell_type": "code",
      "metadata": {
        "id": "TfyWOFAjAPBX"
      },
      "source": [
        "def kde_plot(feature):\n",
        "  grid=sns.FacetGrid(df,hue='class',aspect=3)\n",
        "  grid.map(sns.kdeplot,feature)\n",
        "  grid.add_legend()"
      ],
      "execution_count": 45,
      "outputs": []
    },
    {
      "cell_type": "code",
      "metadata": {
        "colab": {
          "base_uri": "https://localhost:8080/",
          "height": 225
        },
        "id": "gFkc4_YrAZfR",
        "outputId": "55e75720-2119-4415-cf4f-de64d7aa1cae"
      },
      "source": [
        "kde_plot('red blood cell count')"
      ],
      "execution_count": 46,
      "outputs": [
        {
          "output_type": "display_data",
          "data": {
            "image/png": "[encoded data removed]",
            "text/plain": [
              "<Figure size 717.875x216 with 1 Axes>"
            ]
          },
          "metadata": {
            "tags": [],
            "needs_background": "light"
          }
        }
      ]
    },
    {
      "cell_type": "code",
      "metadata": {
        "colab": {
          "base_uri": "https://localhost:8080/"
        },
        "id": "J3KEBEh2AkPI",
        "outputId": "78672b73-a542-4859-9416-6c82b6d31e7f"
      },
      "source": [
        "df.columns"
      ],
      "execution_count": 47,
      "outputs": [
        {
          "output_type": "execute_result",
          "data": {
            "text/plain": [
              "Index(['age', 'blood pressure', 'specific gravity', 'albumin', 'sugar',\n",
              "       'red blood cells', ' pus cell', 'pus cell clumps', 'bacteria',\n",
              "       'blood glucose random', 'blood urea', 'serum creatinine', 'sodium',\n",
              "       'potassium', 'haemoglobin', 'packed cell volume',\n",
              "       'white blood cell count', 'red blood cell count', 'ypertension',\n",
              "       'diabetes mellitus', 'coronary artery disease', 'appetite',\n",
              "       'pedal edema', 'anemia', 'class'],\n",
              "      dtype='object')"
            ]
          },
          "metadata": {
            "tags": []
          },
          "execution_count": 47
        }
      ]
    },
    {
      "cell_type": "code",
      "metadata": {
        "colab": {
          "base_uri": "https://localhost:8080/",
          "height": 225
        },
        "id": "Ko4RwuzBA5on",
        "outputId": "05f65535-c887-483c-c7e0-90f3004b569d"
      },
      "source": [
        "kde_plot('age')"
      ],
      "execution_count": 48,
      "outputs": [
        {
          "output_type": "display_data",
          "data": {
            "image/png": "[encoded data removed]",
            "text/plain": [
              "<Figure size 717.875x216 with 1 Axes>"
            ]
          },
          "metadata": {
            "tags": [],
            "needs_background": "light"
          }
        }
      ]
    },
    {
      "cell_type": "code",
      "metadata": {
        "colab": {
          "base_uri": "https://localhost:8080/",
          "height": 225
        },
        "id": "72nEAomzAkQm",
        "outputId": "655d37c3-a899-4bb2-ddcd-926de420f8e3"
      },
      "source": [
        "kde_plot('haemoglobin')"
      ],
      "execution_count": 49,
      "outputs": [
        {
          "output_type": "display_data",
          "data": {
            "image/png": "[encoded data removed]",
            "text/plain": [
              "<Figure size 717.875x216 with 1 Axes>"
            ]
          },
          "metadata": {
            "tags": [],
            "needs_background": "light"
          }
        }
      ]
    },
    {
      "cell_type": "code",
      "metadata": {
        "colab": {
          "base_uri": "https://localhost:8080/",
          "height": 542
        },
        "id": "0IW61LHKBEVJ",
        "outputId": "35b0b0d6-5b8d-431e-f2bd-289be387669e"
      },
      "source": [
        "scatters('red blood cell count','packed cell volume')"
      ],
      "execution_count": 53,
      "outputs": [
        {
          "output_type": "display_data",
          "data": {
            "text/html": [
              "<html>\n",
              "<head><meta charset=\"utf-8\" /></head>\n",
              "<body>\n",
              "    <div>\n",
              "            <script src=\"https://cdnjs.cloudflare.com/ajax/libs/mathjax/2.7.5/MathJax.js?config=TeX-AMS-MML_SVG\"></script><script type=\"text/javascript\">if (window.MathJax) {MathJax.Hub.Config({SVG: {font: \"STIX-Web\"}});}</script>\n",
              "                <script type=\"text/javascript\">window.PlotlyConfig = {MathJaxConfig: 'local'};</script>\n",
              "        <script src=\"https://cdn.plot.ly/plotly-latest.min.js\"></script>    \n",
              "            <div id=\"e04742e8-3517-4647-88f8-b47cd4a079de\" class=\"plotly-graph-div\" style=\"height:525px; width:100%;\"></div>\n",
              "            <script type=\"text/javascript\">\n",
              "                \n",
              "                    window.PLOTLYENV=window.PLOTLYENV || {};\n",
              "                    \n",
              "                if (document.getElementById(\"e04742e8-3517-4647-88f8-b47cd4a079de\")) {\n",
              "                    Plotly.newPlot(\n",
              "                        'e04742e8-3517-4647-88f8-b47cd4a079de',\n",
              "                        [{\"hoverlabel\": {\"namelength\": 0}, \"hovertemplate\": \"class=ckd<br>red blood cell count=%{x}<br>packed cell volume=%{y}\", \"legendgroup\": \"class=ckd\", \"marker\": {\"color\": \"#636efa\", \"symbol\": \"circle\"}, \"mode\": \"markers\", \"name\": \"class=ckd\", \"showlegend\": true, \"type\": \"scatter\", \"x\": [5.2, null, null, 3.9, 4.6, 4.4, null, 5.0, 4.0, 3.7, null, 3.8, 3.4, null, 2.6, 2.8, null, null, 4.3, 3.7, 3.2, 3.6, 3.4, null, 4.6, 3.7, 4.0, 4.1, null, null, null, 4.0, 4.0, null, null, 4.9, null, 2.5, null, 4.2, 4.1, null, 4.5, 3.1, null, null, 4.7, null, 3.5, 3.5, 3.8, null, 3.7, 4.7, 4.2, null, 3.4, null, 4.3, null, null, null, 3.8, null, null, null, null, null, null, 6.0, 5.2, 3.2, null, null, 3.4, null, 4.0, 3.7, null, 5.0, 3.8, 3.7, null, null, 2.1, null, null, 5.0, 4.7, null, 4.2, 5.6, 3.6, 3.2, 3.9, null, null, 4.0, 2.3, 4.2, null, 3.9, null, 4.2, null, 5.2, null, 4.4, 4.2, null, 4.7, 3.9, null, null, null, 4.3, null, 4.4, null, null, null, null, null, null, 3.6, null, 4.5, 4.3, 2.9, null, 2.7, null, 2.7, 8.0, 3.8, null, null, null, null, null, null, null, null, null, 4.1, 3.3, null, 3.0, null, null, null, null, null, 2.9, 3.0, null, null, 3.9, null, 4.3, 2.4, 4.8, null, 3.2, 5.4, null, null, null, null, null, 4.4, 3.1, 4.9, null, 4.6, 3.4, 3.9, null, null, null, null, 3.7, null, null, 3.6, null, null, null, null, 3.4, 4.8, 3.4, null, 2.8, null, null, 3.5, 3.0, 3.9, 3.2, 3.9, null, null, null, null, null, null, 4.6, 4.9, null, 3.9, null, 3.4, 3.7, 5.2, null, null, 4.3, null, 3.3, null, null, null, 4.6, null, 4.5, 3.4, 3.8, null, 3.8, null, null, null, null, 5.2, null, null, null, null, null, 4.1, 3.9, 3.3, 6.1, 4.6, 2.6, 2.5, null, 4.1, 2.1], \"xaxis\": \"x\", \"y\": [44.0, 38.0, 31.0, 32.0, 35.0, 39.0, 36.0, 44.0, 33.0, 29.0, 28.0, 32.0, 28.0, null, 16.0, 24.0, null, null, 37.0, 30.0, 24.0, 32.0, 32.0, null, 39.0, 29.0, 35.0, 37.0, null, 38.0, null, 30.0, 34.0, 29.0, null, 36.0, 32.0, 28.0, null, 40.0, 32.0, null, 33.0, 24.0, 28.0, null, 37.0, 45.0, 29.0, 29.0, 28.0, 33.0, 34.0, 40.0, 40.0, 28.0, 30.0, null, 33.0, null, null, null, 33.0, 27.0, null, 48.0, null, null, 37.0, 52.0, 44.0, 28.0, null, 14.0, 29.0, null, 36.0, 34.0, 30.0, 40.0, 31.0, 29.0, null, null, 22.0, null, null, 32.0, null, null, 40.0, 52.0, 33.0, 30.0, 36.0, null, 36.0, 32.0, 18.0, 32.0, null, 33.0, 52.0, 36.0, null, 42.0, 17.0, 34.0, 37.0, null, 34.0, 32.0, 33.0, null, null, 44.0, null, 37.0, null, null, null, 46.0, null, 42.0, 28.0, null, 37.0, 35.0, 23.0, null, 22.0, 36.0, 24.0, 37.0, 33.0, 39.0, null, 29.0, null, 33.0, null, 19.0, null, null, 33.0, 24.0, null, 25.0, null, 32.0, 41.0, 30.0, 32.0, 22.0, 26.0, 36.0, null, 39.0, 31.0, 35.0, 35.0, 42.0, 37.0, 27.0, 40.0, null, null, 42.0, 39.0, 27.0, 33.0, 26.0, 34.0, 41.0, 35.0, null, 23.0, 41.0, 34.0, 39.0, 28.0, 30.0, 35.0, null, 31.0, 34.0, null, 34.0, 38.0, 29.0, 30.0, 26.0, null, 15.0, null, null, 24.0, null, 30.0, 25.0, 37.0, 21.0, 24.0, null, 31.0, 43.0, 41.0, 41.0, 41.0, null, 20.0, null, 31.0, 34.0, 43.0, null, 38.0, 36.0, 34.0, 28.0, 36.0, null, null, 38.0, null, 35.0, 26.0, 36.0, null, 31.0, null, 35.0, null, null, 44.0, 26.0, 25.0, 40.0, 28.0, 39.0, 36.0, 31.0, 28.0, 47.0, 40.0, 19.0, 26.0, null, 37.0, 9.0], \"yaxis\": \"y\"}, {\"hoverlabel\": {\"namelength\": 0}, \"hovertemplate\": \"class=notckd<br>red blood cell count=%{x}<br>packed cell volume=%{y}\", \"legendgroup\": \"class=notckd\", \"marker\": {\"color\": \"#EF553B\", \"symbol\": \"circle\"}, \"mode\": \"markers\", \"name\": \"class=notckd\", \"showlegend\": true, \"type\": \"scatter\", \"x\": [4.5, 5.0, 4.7, 6.2, 5.2, 6.3, 5.1, 5.8, 5.5, 5.2, 5.3, 4.9, 5.4, 5.2, 4.5, 5.0, 5.3, 4.8, 4.9, 5.3, 5.0, 4.5, 5.5, null, null, 4.6, 5.5, 4.8, 6.4, 5.6, 5.2, 6.0, 4.8, 5.7, 6.0, 5.9, 6.0, null, 5.1, 5.3, 5.9, 5.7, 5.0, 5.4, 5.8, 6.5, 5.9, 5.2, 4.9, 4.7, 5.8, 5.0, null, 6.1, 4.5, 5.2, 5.7, 4.5, 4.9, 5.9, 5.4, 5.6, 6.1, 4.8, 4.7, 4.4, 5.2, 4.9, 5.3, null, 6.2, 4.8, 4.9, 4.5, null, 6.5, 5.2, 5.8, 6.5, 5.1, null, 4.5, 6.1, 5.5, 4.5, 5.6, 5.2, 6.2, 4.5, 4.9, 5.9, 4.7, 6.3, 5.7, 4.7, 6.4, 5.8, 5.5, 6.4, 6.1, 4.5, 4.7, 5.2, 4.5, 5.1, 4.6, 6.1, 4.9, 5.6, 4.5, 6.2, 5.8, 4.8, 5.2, 4.7, 6.3, 5.3, 6.1, 5.9, 4.8, 5.4, 5.0, 5.5, 4.9, 6.4, 5.6, 5.2, 4.8, 5.5, 5.7, 4.9, 5.9, 6.5, 5.0, 4.5, 5.1, 6.5, 5.2, 6.4, 5.8, 5.3, 6.3, 5.5, 5.4, 4.6, 4.9, 6.2, 5.4, 5.9, 6.1], \"xaxis\": \"x\", \"y\": [48.0, 52.0, 46.0, 42.0, 49.0, 52.0, 41.0, 46.0, 44.0, 45.0, 45.0, 41.0, 43.0, 45.0, 50.0, 48.0, 41.0, 48.0, 53.0, 48.0, 41.0, 42.0, 42.0, null, 44.0, 43.0, 41.0, 50.0, 44.0, 48.0, 52.0, 41.0, 44.0, 43.0, 52.0, 41.0, 44.0, 43.0, 50.0, 43.0, 52.0, 41.0, 52.0, 48.0, 40.0, 50.0, 41.0, 45.0, 48.0, 52.0, 43.0, 41.0, 48.0, 50.0, 45.0, 41.0, 52.0, 44.0, 48.0, 40.0, 44.0, 45.0, 48.0, 52.0, 41.0, 48.0, 48.0, 40.0, 52.0, null, 44.0, 48.0, 43.0, 45.0, null, 50.0, 41.0, 44.0, 45.0, 48.0, 42.0, 46.0, 44.0, 46.0, 43.0, 48.0, 40.0, 52.0, 44.0, 48.0, 43.0, 41.0, 50.0, 50.0, 42.0, 42.0, 52.0, 43.0, 44.0, 52.0, 43.0, 40.0, 48.0, 51.0, 41.0, 52.0, 47.0, 42.0, 45.0, 53.0, 43.0, 54.0, 40.0, 44.0, 45.0, null, 46.0, 50.0, 45.0, 46.0, 50.0, 51.0, 52.0, 47.0, 40.0, 48.0, 53.0, 49.0, 42.0, 50.0, 54.0, 40.0, 51.0, 49.0, 42.0, 52.0, 43.0, 50.0, 46.0, 52.0, 52.0, 44.0, 46.0, 54.0, 45.0, 47.0, 54.0, 49.0, 51.0, 53.0], \"yaxis\": \"y\"}],\n",
              "                        {\"legend\": {\"tracegroupgap\": 0}, \"margin\": {\"t\": 60}, \"template\": {\"data\": {\"bar\": [{\"error_x\": {\"color\": \"#2a3f5f\"}, \"error_y\": {\"color\": \"#2a3f5f\"}, \"marker\": {\"line\": {\"color\": \"#E5ECF6\", \"width\": 0.5}}, \"type\": \"bar\"}], \"barpolar\": [{\"marker\": {\"line\": {\"color\": \"#E5ECF6\", \"width\": 0.5}}, \"type\": \"barpolar\"}], \"carpet\": [{\"aaxis\": {\"endlinecolor\": \"#2a3f5f\", \"gridcolor\": \"white\", \"linecolor\": \"white\", \"minorgridcolor\": \"white\", \"startlinecolor\": \"#2a3f5f\"}, \"baxis\": {\"endlinecolor\": \"#2a3f5f\", \"gridcolor\": \"white\", \"linecolor\": \"white\", \"minorgridcolor\": \"white\", \"startlinecolor\": \"#2a3f5f\"}, \"type\": \"carpet\"}], \"choropleth\": [{\"colorbar\": {\"outlinewidth\": 0, \"ticks\": \"\"}, \"type\": \"choropleth\"}], \"contour\": [{\"colorbar\": {\"outlinewidth\": 0, \"ticks\": \"\"}, \"colorscale\": [[0.0, \"#0d0887\"], [0.1111111111111111, \"#46039f\"], [0.2222222222222222, \"#7201a8\"], [0.3333333333333333, \"#9c179e\"], [0.4444444444444444, \"#bd3786\"], [0.5555555555555556, \"#d8576b\"], [0.6666666666666666, \"#ed7953\"], [0.7777777777777778, \"#fb9f3a\"], [0.8888888888888888, \"#fdca26\"], [1.0, \"#f0f921\"]], \"type\": \"contour\"}], \"contourcarpet\": [{\"colorbar\": {\"outlinewidth\": 0, \"ticks\": \"\"}, \"type\": \"contourcarpet\"}], \"heatmap\": [{\"colorbar\": {\"outlinewidth\": 0, \"ticks\": \"\"}, \"colorscale\": [[0.0, \"#0d0887\"], [0.1111111111111111, \"#46039f\"], [0.2222222222222222, \"#7201a8\"], [0.3333333333333333, \"#9c179e\"], [0.4444444444444444, \"#bd3786\"], [0.5555555555555556, \"#d8576b\"], [0.6666666666666666, \"#ed7953\"], [0.7777777777777778, \"#fb9f3a\"], [0.8888888888888888, \"#fdca26\"], [1.0, \"#f0f921\"]], \"type\": \"heatmap\"}], \"heatmapgl\": [{\"colorbar\": {\"outlinewidth\": 0, \"ticks\": \"\"}, \"colorscale\": [[0.0, \"#0d0887\"], [0.1111111111111111, \"#46039f\"], [0.2222222222222222, \"#7201a8\"], [0.3333333333333333, \"#9c179e\"], [0.4444444444444444, \"#bd3786\"], [0.5555555555555556, \"#d8576b\"], [0.6666666666666666, \"#ed7953\"], [0.7777777777777778, \"#fb9f3a\"], [0.8888888888888888, \"#fdca26\"], [1.0, \"#f0f921\"]], \"type\": \"heatmapgl\"}], \"histogram\": [{\"marker\": {\"colorbar\": {\"outlinewidth\": 0, \"ticks\": \"\"}}, \"type\": \"histogram\"}], \"histogram2d\": [{\"colorbar\": {\"outlinewidth\": 0, \"ticks\": \"\"}, \"colorscale\": [[0.0, \"#0d0887\"], [0.1111111111111111, \"#46039f\"], [0.2222222222222222, \"#7201a8\"], [0.3333333333333333, \"#9c179e\"], [0.4444444444444444, \"#bd3786\"], [0.5555555555555556, \"#d8576b\"], [0.6666666666666666, \"#ed7953\"], [0.7777777777777778, \"#fb9f3a\"], [0.8888888888888888, \"#fdca26\"], [1.0, \"#f0f921\"]], \"type\": \"histogram2d\"}], \"histogram2dcontour\": [{\"colorbar\": {\"outlinewidth\": 0, \"ticks\": \"\"}, \"colorscale\": [[0.0, \"#0d0887\"], [0.1111111111111111, \"#46039f\"], [0.2222222222222222, \"#7201a8\"], [0.3333333333333333, \"#9c179e\"], [0.4444444444444444, \"#bd3786\"], [0.5555555555555556, \"#d8576b\"], [0.6666666666666666, \"#ed7953\"], [0.7777777777777778, \"#fb9f3a\"], [0.8888888888888888, \"#fdca26\"], [1.0, \"#f0f921\"]], \"type\": \"histogram2dcontour\"}], \"mesh3d\": [{\"colorbar\": {\"outlinewidth\": 0, \"ticks\": \"\"}, \"type\": \"mesh3d\"}], \"parcoords\": [{\"line\": {\"colorbar\": {\"outlinewidth\": 0, \"ticks\": \"\"}}, \"type\": \"parcoords\"}], \"pie\": [{\"automargin\": true, \"type\": \"pie\"}], \"scatter\": [{\"marker\": {\"colorbar\": {\"outlinewidth\": 0, \"ticks\": \"\"}}, \"type\": \"scatter\"}], \"scatter3d\": [{\"line\": {\"colorbar\": {\"outlinewidth\": 0, \"ticks\": \"\"}}, \"marker\": {\"colorbar\": {\"outlinewidth\": 0, \"ticks\": \"\"}}, \"type\": \"scatter3d\"}], \"scattercarpet\": [{\"marker\": {\"colorbar\": {\"outlinewidth\": 0, \"ticks\": \"\"}}, \"type\": \"scattercarpet\"}], \"scattergeo\": [{\"marker\": {\"colorbar\": {\"outlinewidth\": 0, \"ticks\": \"\"}}, \"type\": \"scattergeo\"}], \"scattergl\": [{\"marker\": {\"colorbar\": {\"outlinewidth\": 0, \"ticks\": \"\"}}, \"type\": \"scattergl\"}], \"scattermapbox\": [{\"marker\": {\"colorbar\": {\"outlinewidth\": 0, \"ticks\": \"\"}}, \"type\": \"scattermapbox\"}], \"scatterpolar\": [{\"marker\": {\"colorbar\": {\"outlinewidth\": 0, \"ticks\": \"\"}}, \"type\": \"scatterpolar\"}], \"scatterpolargl\": [{\"marker\": {\"colorbar\": {\"outlinewidth\": 0, \"ticks\": \"\"}}, \"type\": \"scatterpolargl\"}], \"scatterternary\": [{\"marker\": {\"colorbar\": {\"outlinewidth\": 0, \"ticks\": \"\"}}, \"type\": \"scatterternary\"}], \"surface\": [{\"colorbar\": {\"outlinewidth\": 0, \"ticks\": \"\"}, \"colorscale\": [[0.0, \"#0d0887\"], [0.1111111111111111, \"#46039f\"], [0.2222222222222222, \"#7201a8\"], [0.3333333333333333, \"#9c179e\"], [0.4444444444444444, \"#bd3786\"], [0.5555555555555556, \"#d8576b\"], [0.6666666666666666, \"#ed7953\"], [0.7777777777777778, \"#fb9f3a\"], [0.8888888888888888, \"#fdca26\"], [1.0, \"#f0f921\"]], \"type\": \"surface\"}], \"table\": [{\"cells\": {\"fill\": {\"color\": \"#EBF0F8\"}, \"line\": {\"color\": \"white\"}}, \"header\": {\"fill\": {\"color\": \"#C8D4E3\"}, \"line\": {\"color\": \"white\"}}, \"type\": \"table\"}]}, \"layout\": {\"annotationdefaults\": {\"arrowcolor\": \"#2a3f5f\", \"arrowhead\": 0, \"arrowwidth\": 1}, \"coloraxis\": {\"colorbar\": {\"outlinewidth\": 0, \"ticks\": \"\"}}, \"colorscale\": {\"diverging\": [[0, \"#8e0152\"], [0.1, \"#c51b7d\"], [0.2, \"#de77ae\"], [0.3, \"#f1b6da\"], [0.4, \"#fde0ef\"], [0.5, \"#f7f7f7\"], [0.6, \"#e6f5d0\"], [0.7, \"#b8e186\"], [0.8, \"#7fbc41\"], [0.9, \"#4d9221\"], [1, \"#276419\"]], \"sequential\": [[0.0, \"#0d0887\"], [0.1111111111111111, \"#46039f\"], [0.2222222222222222, \"#7201a8\"], [0.3333333333333333, \"#9c179e\"], [0.4444444444444444, \"#bd3786\"], [0.5555555555555556, \"#d8576b\"], [0.6666666666666666, \"#ed7953\"], [0.7777777777777778, \"#fb9f3a\"], [0.8888888888888888, \"#fdca26\"], [1.0, \"#f0f921\"]], \"sequentialminus\": [[0.0, \"#0d0887\"], [0.1111111111111111, \"#46039f\"], [0.2222222222222222, \"#7201a8\"], [0.3333333333333333, \"#9c179e\"], [0.4444444444444444, \"#bd3786\"], [0.5555555555555556, \"#d8576b\"], [0.6666666666666666, \"#ed7953\"], [0.7777777777777778, \"#fb9f3a\"], [0.8888888888888888, \"#fdca26\"], [1.0, \"#f0f921\"]]}, \"colorway\": [\"#636efa\", \"#EF553B\", \"#00cc96\", \"#ab63fa\", \"#FFA15A\", \"#19d3f3\", \"#FF6692\", \"#B6E880\", \"#FF97FF\", \"#FECB52\"], \"font\": {\"color\": \"#2a3f5f\"}, \"geo\": {\"bgcolor\": \"white\", \"lakecolor\": \"white\", \"landcolor\": \"#E5ECF6\", \"showlakes\": true, \"showland\": true, \"subunitcolor\": \"white\"}, \"hoverlabel\": {\"align\": \"left\"}, \"hovermode\": \"closest\", \"mapbox\": {\"style\": \"light\"}, \"paper_bgcolor\": \"white\", \"plot_bgcolor\": \"#E5ECF6\", \"polar\": {\"angularaxis\": {\"gridcolor\": \"white\", \"linecolor\": \"white\", \"ticks\": \"\"}, \"bgcolor\": \"#E5ECF6\", \"radialaxis\": {\"gridcolor\": \"white\", \"linecolor\": \"white\", \"ticks\": \"\"}}, \"scene\": {\"xaxis\": {\"backgroundcolor\": \"#E5ECF6\", \"gridcolor\": \"white\", \"gridwidth\": 2, \"linecolor\": \"white\", \"showbackground\": true, \"ticks\": \"\", \"zerolinecolor\": \"white\"}, \"yaxis\": {\"backgroundcolor\": \"#E5ECF6\", \"gridcolor\": \"white\", \"gridwidth\": 2, \"linecolor\": \"white\", \"showbackground\": true, \"ticks\": \"\", \"zerolinecolor\": \"white\"}, \"zaxis\": {\"backgroundcolor\": \"#E5ECF6\", \"gridcolor\": \"white\", \"gridwidth\": 2, \"linecolor\": \"white\", \"showbackground\": true, \"ticks\": \"\", \"zerolinecolor\": \"white\"}}, \"shapedefaults\": {\"line\": {\"color\": \"#2a3f5f\"}}, \"ternary\": {\"aaxis\": {\"gridcolor\": \"white\", \"linecolor\": \"white\", \"ticks\": \"\"}, \"baxis\": {\"gridcolor\": \"white\", \"linecolor\": \"white\", \"ticks\": \"\"}, \"bgcolor\": \"#E5ECF6\", \"caxis\": {\"gridcolor\": \"white\", \"linecolor\": \"white\", \"ticks\": \"\"}}, \"title\": {\"x\": 0.05}, \"xaxis\": {\"automargin\": true, \"gridcolor\": \"white\", \"linecolor\": \"white\", \"ticks\": \"\", \"title\": {\"standoff\": 15}, \"zerolinecolor\": \"white\", \"zerolinewidth\": 2}, \"yaxis\": {\"automargin\": true, \"gridcolor\": \"white\", \"linecolor\": \"white\", \"ticks\": \"\", \"title\": {\"standoff\": 15}, \"zerolinecolor\": \"white\", \"zerolinewidth\": 2}}}, \"xaxis\": {\"anchor\": \"y\", \"domain\": [0.0, 1.0], \"title\": {\"text\": \"red blood cell count\"}}, \"yaxis\": {\"anchor\": \"x\", \"domain\": [0.0, 1.0], \"title\": {\"text\": \"packed cell volume\"}}},\n",
              "                        {\"responsive\": true}\n",
              "                    ).then(function(){\n",
              "                            \n",
              "var gd = document.getElementById('e04742e8-3517-4647-88f8-b47cd4a079de');\n",
              "var x = new MutationObserver(function (mutations, observer) {{\n",
              "        var display = window.getComputedStyle(gd).display;\n",
              "        if (!display || display === 'none') {{\n",
              "            console.log([gd, 'removed!']);\n",
              "            Plotly.purge(gd);\n",
              "            observer.disconnect();\n",
              "        }}\n",
              "}});\n",
              "\n",
              "// Listen for the removal of the full notebook cells\n",
              "var notebookContainer = gd.closest('#notebook-container');\n",
              "if (notebookContainer) {{\n",
              "    x.observe(notebookContainer, {childList: true});\n",
              "}}\n",
              "\n",
              "// Listen for the clearing of the current output cell\n",
              "var outputEl = gd.closest('.output');\n",
              "if (outputEl) {{\n",
              "    x.observe(outputEl, {childList: true});\n",
              "}}\n",
              "\n",
              "                        })\n",
              "                };\n",
              "                \n",
              "            </script>\n",
              "        </div>\n",
              "</body>\n",
              "</html>"
            ]
          },
          "metadata": {
            "tags": []
          }
        }
      ]
    },
    {
      "cell_type": "code",
      "metadata": {
        "colab": {
          "base_uri": "https://localhost:8080/",
          "height": 542
        },
        "id": "AYIjazhTBjQ2",
        "outputId": "6f32d722-3183-47f6-8dec-821b7d23e6c3"
      },
      "source": [
        "scatters('red blood cell count','haemoglobin')"
      ],
      "execution_count": 54,
      "outputs": [
        {
          "output_type": "display_data",
          "data": {
            "text/html": [
              "<html>\n",
              "<head><meta charset=\"utf-8\" /></head>\n",
              "<body>\n",
              "    <div>\n",
              "            <script src=\"https://cdnjs.cloudflare.com/ajax/libs/mathjax/2.7.5/MathJax.js?config=TeX-AMS-MML_SVG\"></script><script type=\"text/javascript\">if (window.MathJax) {MathJax.Hub.Config({SVG: {font: \"STIX-Web\"}});}</script>\n",
              "                <script type=\"text/javascript\">window.PlotlyConfig = {MathJaxConfig: 'local'};</script>\n",
              "        <script src=\"https://cdn.plot.ly/plotly-latest.min.js\"></script>    \n",
              "            <div id=\"465a8fbb-ae75-4061-91ca-f674c6da69ef\" class=\"plotly-graph-div\" style=\"height:525px; width:100%;\"></div>\n",
              "            <script type=\"text/javascript\">\n",
              "                \n",
              "                    window.PLOTLYENV=window.PLOTLYENV || {};\n",
              "                    \n",
              "                if (document.getElementById(\"465a8fbb-ae75-4061-91ca-f674c6da69ef\")) {\n",
              "                    Plotly.newPlot(\n",
              "                        '465a8fbb-ae75-4061-91ca-f674c6da69ef',\n",
              "                        [{\"hoverlabel\": {\"namelength\": 0}, \"hovertemplate\": \"class=ckd<br>red blood cell count=%{x}<br>haemoglobin=%{y}\", \"legendgroup\": \"class=ckd\", \"marker\": {\"color\": \"#636efa\", \"symbol\": \"circle\"}, \"mode\": \"markers\", \"name\": \"class=ckd\", \"showlegend\": true, \"type\": \"scatter\", \"x\": [5.2, null, null, 3.9, 4.6, 4.4, null, 5.0, 4.0, 3.7, null, 3.8, 3.4, null, 2.6, 2.8, null, null, 4.3, 3.7, 3.2, 3.6, 3.4, null, 4.6, 3.7, 4.0, 4.1, null, null, null, 4.0, 4.0, null, null, 4.9, null, 2.5, null, 4.2, 4.1, null, 4.5, 3.1, null, null, 4.7, null, 3.5, 3.5, 3.8, null, 3.7, 4.7, 4.2, null, 3.4, null, 4.3, null, null, null, 3.8, null, null, null, null, null, null, 6.0, 5.2, 3.2, null, null, 3.4, null, 4.0, 3.7, null, 5.0, 3.8, 3.7, null, null, 2.1, null, null, 5.0, 4.7, null, 4.2, 5.6, 3.6, 3.2, 3.9, null, null, 4.0, 2.3, 4.2, null, 3.9, null, 4.2, null, 5.2, null, 4.4, 4.2, null, 4.7, 3.9, null, null, null, 4.3, null, 4.4, null, null, null, null, null, null, 3.6, null, 4.5, 4.3, 2.9, null, 2.7, null, 2.7, 8.0, 3.8, null, null, null, null, null, null, null, null, null, 4.1, 3.3, null, 3.0, null, null, null, null, null, 2.9, 3.0, null, null, 3.9, null, 4.3, 2.4, 4.8, null, 3.2, 5.4, null, null, null, null, null, 4.4, 3.1, 4.9, null, 4.6, 3.4, 3.9, null, null, null, null, 3.7, null, null, 3.6, null, null, null, null, 3.4, 4.8, 3.4, null, 2.8, null, null, 3.5, 3.0, 3.9, 3.2, 3.9, null, null, null, null, null, null, 4.6, 4.9, null, 3.9, null, 3.4, 3.7, 5.2, null, null, 4.3, null, 3.3, null, null, null, 4.6, null, 4.5, 3.4, 3.8, null, 3.8, null, null, null, null, 5.2, null, null, null, null, null, 4.1, 3.9, 3.3, 6.1, 4.6, 2.6, 2.5, null, 4.1, 2.1], \"xaxis\": \"x\", \"y\": [15.4, 11.3, 9.6, 11.2, 11.6, 12.2, 12.4, 12.4, 10.8, 9.5, 9.4, 10.8, 9.7, 9.8, 5.6, 7.6, 12.6, 12.1, 12.7, 10.3, 7.7, 10.9, 9.8, null, 11.1, 9.9, 11.6, 12.5, null, 12.9, null, 10.1, 11.3, 10.1, null, 12.0, 10.3, 9.7, 12.5, 13.0, 11.1, null, 9.7, 7.9, 9.7, 9.3, 12.4, 15.0, 10.0, 9.7, 8.6, 10.3, 10.9, 13.6, 13.0, 9.5, 10.2, null, 10.5, 6.6, null, null, 11.0, 7.5, 9.8, 15.0, null, null, 10.9, 15.6, 15.2, 9.8, 10.3, 4.8, 9.1, 8.1, 10.3, 11.9, 10.1, 13.5, 10.8, 8.3, null, null, 7.1, 9.9, null, 11.1, null, null, 13.0, 16.1, 10.4, 9.2, 11.6, null, 11.2, 10.0, 6.2, 11.2, null, 11.3, 13.9, 10.2, null, 14.1, 6.0, 11.2, 11.8, 11.7, 11.7, 10.0, 10.8, null, 12.1, 12.4, null, 12.5, 11.4, null, 12.6, 15.0, 6.0, 14.0, 9.1, null, 12.0, 11.4, 8.1, 11.1, 8.2, 11.8, 8.6, 12.0, 10.8, 13.2, 9.3, 10.0, null, 11.1, null, 6.1, null, null, 11.1, 8.0, null, 7.9, null, 10.5, 12.3, 9.6, 10.9, 8.3, 8.4, 11.1, null, 12.6, 10.9, 10.4, 10.9, 14.3, 9.8, 9.0, 14.3, null, null, 12.7, 11.0, 8.7, 12.5, 8.7, 10.6, 13.1, 11.0, null, 8.3, 13.2, 9.8, 11.9, 10.3, 10.0, 11.3, null, 11.3, 12.0, null, 10.7, 12.2, 9.5, 9.9, 9.1, null, 5.5, null, 5.8, 8.1, 6.8, 11.2, 8.8, 12.0, 7.9, 8.0, 8.5, 8.8, 12.6, 13.8, 12.0, 12.3, 11.5, 7.3, null, 10.9, 10.9, 13.7, null, 12.8, 12.2, 11.8, 9.8, 11.9, null, null, 13.0, null, 11.5, 7.9, 11.3, null, 9.6, null, 11.5, null, null, 15.0, 7.9, 9.1, 12.7, 9.4, 11.9, 11.4, 10.4, 9.4, 13.4, 12.2, 6.3, 8.6, null, 12.6, 3.1], \"yaxis\": \"y\"}, {\"hoverlabel\": {\"namelength\": 0}, \"hovertemplate\": \"class=notckd<br>red blood cell count=%{x}<br>haemoglobin=%{y}\", \"legendgroup\": \"class=notckd\", \"marker\": {\"color\": \"#EF553B\", \"symbol\": \"circle\"}, \"mode\": \"markers\", \"name\": \"class=notckd\", \"showlegend\": true, \"type\": \"scatter\", \"x\": [4.5, 5.0, 4.7, 6.2, 5.2, 6.3, 5.1, 5.8, 5.5, 5.2, 5.3, 4.9, 5.4, 5.2, 4.5, 5.0, 5.3, 4.8, 4.9, 5.3, 5.0, 4.5, 5.5, null, null, 4.6, 5.5, 4.8, 6.4, 5.6, 5.2, 6.0, 4.8, 5.7, 6.0, 5.9, 6.0, null, 5.1, 5.3, 5.9, 5.7, 5.0, 5.4, 5.8, 6.5, 5.9, 5.2, 4.9, 4.7, 5.8, 5.0, null, 6.1, 4.5, 5.2, 5.7, 4.5, 4.9, 5.9, 5.4, 5.6, 6.1, 4.8, 4.7, 4.4, 5.2, 4.9, 5.3, null, 6.2, 4.8, 4.9, 4.5, null, 6.5, 5.2, 5.8, 6.5, 5.1, null, 4.5, 6.1, 5.5, 4.5, 5.6, 5.2, 6.2, 4.5, 4.9, 5.9, 4.7, 6.3, 5.7, 4.7, 6.4, 5.8, 5.5, 6.4, 6.1, 4.5, 4.7, 5.2, 4.5, 5.1, 4.6, 6.1, 4.9, 5.6, 4.5, 6.2, 5.8, 4.8, 5.2, 4.7, 6.3, 5.3, 6.1, 5.9, 4.8, 5.4, 5.0, 5.5, 4.9, 6.4, 5.6, 5.2, 4.8, 5.5, 5.7, 4.9, 5.9, 6.5, 5.0, 4.5, 5.1, 6.5, 5.2, 6.4, 5.8, 5.3, 6.3, 5.5, 5.4, 4.6, 4.9, 6.2, 5.4, 5.9, 6.1], \"xaxis\": \"x\", \"y\": [15.0, 17.0, 15.9, 15.4, 13.0, 13.6, 14.5, 14.0, 13.9, 16.1, 14.1, 17.0, 15.5, 16.2, 14.4, 14.2, 13.2, 13.9, 16.3, 15.0, 14.3, 13.8, 14.8, null, 14.4, 16.5, 14.0, 15.7, 14.5, 16.3, 13.3, 15.5, 14.6, 16.4, 16.9, 16.0, 14.7, 13.4, 15.9, 16.6, 14.8, 14.9, 16.7, 14.9, 14.3, 15.0, 16.8, 15.8, 13.5, 15.1, 15.0, 16.9, 14.8, 17.0, 13.1, 17.1, 15.2, 13.6, 13.9, 17.2, 13.2, 13.7, 15.3, 17.3, 15.6, 13.8, 15.4, 15.0, 17.4, null, 15.7, 13.9, 16.0, 15.9, null, 14.0, 15.8, 13.4, null, 14.1, null, 13.5, 15.3, 17.7, 15.4, 14.2, 15.2, 14.0, 17.8, 13.3, 14.3, 13.4, 15.0, 16.2, 14.4, 13.5, 15.5, 17.8, 13.6, 14.5, 16.1, 17.5, 15.0, 13.6, 14.6, 15.0, 17.1, 13.6, 13.0, 17.2, 14.7, 13.7, 15.0, 17.8, 14.8, null, 15.0, 17.4, 14.9, 13.6, 16.2, 17.6, 15.0, 13.7, 16.3, 15.1, 16.4, 13.8, 15.2, 16.1, 15.3, 16.6, 16.8, 13.9, 15.4, 16.5, 16.4, 16.7, 15.5, 17.0, 15.0, 15.6, 14.8, 13.0, 14.1, 15.7, 16.5, 15.8, 14.2, 15.8], \"yaxis\": \"y\"}],\n",
              "                        {\"legend\": {\"tracegroupgap\": 0}, \"margin\": {\"t\": 60}, \"template\": {\"data\": {\"bar\": [{\"error_x\": {\"color\": \"#2a3f5f\"}, \"error_y\": {\"color\": \"#2a3f5f\"}, \"marker\": {\"line\": {\"color\": \"#E5ECF6\", \"width\": 0.5}}, \"type\": \"bar\"}], \"barpolar\": [{\"marker\": {\"line\": {\"color\": \"#E5ECF6\", \"width\": 0.5}}, \"type\": \"barpolar\"}], \"carpet\": [{\"aaxis\": {\"endlinecolor\": \"#2a3f5f\", \"gridcolor\": \"white\", \"linecolor\": \"white\", \"minorgridcolor\": \"white\", \"startlinecolor\": \"#2a3f5f\"}, \"baxis\": {\"endlinecolor\": \"#2a3f5f\", \"gridcolor\": \"white\", \"linecolor\": \"white\", \"minorgridcolor\": \"white\", \"startlinecolor\": \"#2a3f5f\"}, \"type\": \"carpet\"}], \"choropleth\": [{\"colorbar\": {\"outlinewidth\": 0, \"ticks\": \"\"}, \"type\": \"choropleth\"}], \"contour\": [{\"colorbar\": {\"outlinewidth\": 0, \"ticks\": \"\"}, \"colorscale\": [[0.0, \"#0d0887\"], [0.1111111111111111, \"#46039f\"], [0.2222222222222222, \"#7201a8\"], [0.3333333333333333, \"#9c179e\"], [0.4444444444444444, \"#bd3786\"], [0.5555555555555556, \"#d8576b\"], [0.6666666666666666, \"#ed7953\"], [0.7777777777777778, \"#fb9f3a\"], [0.8888888888888888, \"#fdca26\"], [1.0, \"#f0f921\"]], \"type\": \"contour\"}], \"contourcarpet\": [{\"colorbar\": {\"outlinewidth\": 0, \"ticks\": \"\"}, \"type\": \"contourcarpet\"}], \"heatmap\": [{\"colorbar\": {\"outlinewidth\": 0, \"ticks\": \"\"}, \"colorscale\": [[0.0, \"#0d0887\"], [0.1111111111111111, \"#46039f\"], [0.2222222222222222, \"#7201a8\"], [0.3333333333333333, \"#9c179e\"], [0.4444444444444444, \"#bd3786\"], [0.5555555555555556, \"#d8576b\"], [0.6666666666666666, \"#ed7953\"], [0.7777777777777778, \"#fb9f3a\"], [0.8888888888888888, \"#fdca26\"], [1.0, \"#f0f921\"]], \"type\": \"heatmap\"}], \"heatmapgl\": [{\"colorbar\": {\"outlinewidth\": 0, \"ticks\": \"\"}, \"colorscale\": [[0.0, \"#0d0887\"], [0.1111111111111111, \"#46039f\"], [0.2222222222222222, \"#7201a8\"], [0.3333333333333333, \"#9c179e\"], [0.4444444444444444, \"#bd3786\"], [0.5555555555555556, \"#d8576b\"], [0.6666666666666666, \"#ed7953\"], [0.7777777777777778, \"#fb9f3a\"], [0.8888888888888888, \"#fdca26\"], [1.0, \"#f0f921\"]], \"type\": \"heatmapgl\"}], \"histogram\": [{\"marker\": {\"colorbar\": {\"outlinewidth\": 0, \"ticks\": \"\"}}, \"type\": \"histogram\"}], \"histogram2d\": [{\"colorbar\": {\"outlinewidth\": 0, \"ticks\": \"\"}, \"colorscale\": [[0.0, \"#0d0887\"], [0.1111111111111111, \"#46039f\"], [0.2222222222222222, \"#7201a8\"], [0.3333333333333333, \"#9c179e\"], [0.4444444444444444, \"#bd3786\"], [0.5555555555555556, \"#d8576b\"], [0.6666666666666666, \"#ed7953\"], [0.7777777777777778, \"#fb9f3a\"], [0.8888888888888888, \"#fdca26\"], [1.0, \"#f0f921\"]], \"type\": \"histogram2d\"}], \"histogram2dcontour\": [{\"colorbar\": {\"outlinewidth\": 0, \"ticks\": \"\"}, \"colorscale\": [[0.0, \"#0d0887\"], [0.1111111111111111, \"#46039f\"], [0.2222222222222222, \"#7201a8\"], [0.3333333333333333, \"#9c179e\"], [0.4444444444444444, \"#bd3786\"], [0.5555555555555556, \"#d8576b\"], [0.6666666666666666, \"#ed7953\"], [0.7777777777777778, \"#fb9f3a\"], [0.8888888888888888, \"#fdca26\"], [1.0, \"#f0f921\"]], \"type\": \"histogram2dcontour\"}], \"mesh3d\": [{\"colorbar\": {\"outlinewidth\": 0, \"ticks\": \"\"}, \"type\": \"mesh3d\"}], \"parcoords\": [{\"line\": {\"colorbar\": {\"outlinewidth\": 0, \"ticks\": \"\"}}, \"type\": \"parcoords\"}], \"pie\": [{\"automargin\": true, \"type\": \"pie\"}], \"scatter\": [{\"marker\": {\"colorbar\": {\"outlinewidth\": 0, \"ticks\": \"\"}}, \"type\": \"scatter\"}], \"scatter3d\": [{\"line\": {\"colorbar\": {\"outlinewidth\": 0, \"ticks\": \"\"}}, \"marker\": {\"colorbar\": {\"outlinewidth\": 0, \"ticks\": \"\"}}, \"type\": \"scatter3d\"}], \"scattercarpet\": [{\"marker\": {\"colorbar\": {\"outlinewidth\": 0, \"ticks\": \"\"}}, \"type\": \"scattercarpet\"}], \"scattergeo\": [{\"marker\": {\"colorbar\": {\"outlinewidth\": 0, \"ticks\": \"\"}}, \"type\": \"scattergeo\"}], \"scattergl\": [{\"marker\": {\"colorbar\": {\"outlinewidth\": 0, \"ticks\": \"\"}}, \"type\": \"scattergl\"}], \"scattermapbox\": [{\"marker\": {\"colorbar\": {\"outlinewidth\": 0, \"ticks\": \"\"}}, \"type\": \"scattermapbox\"}], \"scatterpolar\": [{\"marker\": {\"colorbar\": {\"outlinewidth\": 0, \"ticks\": \"\"}}, \"type\": \"scatterpolar\"}], \"scatterpolargl\": [{\"marker\": {\"colorbar\": {\"outlinewidth\": 0, \"ticks\": \"\"}}, \"type\": \"scatterpolargl\"}], \"scatterternary\": [{\"marker\": {\"colorbar\": {\"outlinewidth\": 0, \"ticks\": \"\"}}, \"type\": \"scatterternary\"}], \"surface\": [{\"colorbar\": {\"outlinewidth\": 0, \"ticks\": \"\"}, \"colorscale\": [[0.0, \"#0d0887\"], [0.1111111111111111, \"#46039f\"], [0.2222222222222222, \"#7201a8\"], [0.3333333333333333, \"#9c179e\"], [0.4444444444444444, \"#bd3786\"], [0.5555555555555556, \"#d8576b\"], [0.6666666666666666, \"#ed7953\"], [0.7777777777777778, \"#fb9f3a\"], [0.8888888888888888, \"#fdca26\"], [1.0, \"#f0f921\"]], \"type\": \"surface\"}], \"table\": [{\"cells\": {\"fill\": {\"color\": \"#EBF0F8\"}, \"line\": {\"color\": \"white\"}}, \"header\": {\"fill\": {\"color\": \"#C8D4E3\"}, \"line\": {\"color\": \"white\"}}, \"type\": \"table\"}]}, \"layout\": {\"annotationdefaults\": {\"arrowcolor\": \"#2a3f5f\", \"arrowhead\": 0, \"arrowwidth\": 1}, \"coloraxis\": {\"colorbar\": {\"outlinewidth\": 0, \"ticks\": \"\"}}, \"colorscale\": {\"diverging\": [[0, \"#8e0152\"], [0.1, \"#c51b7d\"], [0.2, \"#de77ae\"], [0.3, \"#f1b6da\"], [0.4, \"#fde0ef\"], [0.5, \"#f7f7f7\"], [0.6, \"#e6f5d0\"], [0.7, \"#b8e186\"], [0.8, \"#7fbc41\"], [0.9, \"#4d9221\"], [1, \"#276419\"]], \"sequential\": [[0.0, \"#0d0887\"], [0.1111111111111111, \"#46039f\"], [0.2222222222222222, \"#7201a8\"], [0.3333333333333333, \"#9c179e\"], [0.4444444444444444, \"#bd3786\"], [0.5555555555555556, \"#d8576b\"], [0.6666666666666666, \"#ed7953\"], [0.7777777777777778, \"#fb9f3a\"], [0.8888888888888888, \"#fdca26\"], [1.0, \"#f0f921\"]], \"sequentialminus\": [[0.0, \"#0d0887\"], [0.1111111111111111, \"#46039f\"], [0.2222222222222222, \"#7201a8\"], [0.3333333333333333, \"#9c179e\"], [0.4444444444444444, \"#bd3786\"], [0.5555555555555556, \"#d8576b\"], [0.6666666666666666, \"#ed7953\"], [0.7777777777777778, \"#fb9f3a\"], [0.8888888888888888, \"#fdca26\"], [1.0, \"#f0f921\"]]}, \"colorway\": [\"#636efa\", \"#EF553B\", \"#00cc96\", \"#ab63fa\", \"#FFA15A\", \"#19d3f3\", \"#FF6692\", \"#B6E880\", \"#FF97FF\", \"#FECB52\"], \"font\": {\"color\": \"#2a3f5f\"}, \"geo\": {\"bgcolor\": \"white\", \"lakecolor\": \"white\", \"landcolor\": \"#E5ECF6\", \"showlakes\": true, \"showland\": true, \"subunitcolor\": \"white\"}, \"hoverlabel\": {\"align\": \"left\"}, \"hovermode\": \"closest\", \"mapbox\": {\"style\": \"light\"}, \"paper_bgcolor\": \"white\", \"plot_bgcolor\": \"#E5ECF6\", \"polar\": {\"angularaxis\": {\"gridcolor\": \"white\", \"linecolor\": \"white\", \"ticks\": \"\"}, \"bgcolor\": \"#E5ECF6\", \"radialaxis\": {\"gridcolor\": \"white\", \"linecolor\": \"white\", \"ticks\": \"\"}}, \"scene\": {\"xaxis\": {\"backgroundcolor\": \"#E5ECF6\", \"gridcolor\": \"white\", \"gridwidth\": 2, \"linecolor\": \"white\", \"showbackground\": true, \"ticks\": \"\", \"zerolinecolor\": \"white\"}, \"yaxis\": {\"backgroundcolor\": \"#E5ECF6\", \"gridcolor\": \"white\", \"gridwidth\": 2, \"linecolor\": \"white\", \"showbackground\": true, \"ticks\": \"\", \"zerolinecolor\": \"white\"}, \"zaxis\": {\"backgroundcolor\": \"#E5ECF6\", \"gridcolor\": \"white\", \"gridwidth\": 2, \"linecolor\": \"white\", \"showbackground\": true, \"ticks\": \"\", \"zerolinecolor\": \"white\"}}, \"shapedefaults\": {\"line\": {\"color\": \"#2a3f5f\"}}, \"ternary\": {\"aaxis\": {\"gridcolor\": \"white\", \"linecolor\": \"white\", \"ticks\": \"\"}, \"baxis\": {\"gridcolor\": \"white\", \"linecolor\": \"white\", \"ticks\": \"\"}, \"bgcolor\": \"#E5ECF6\", \"caxis\": {\"gridcolor\": \"white\", \"linecolor\": \"white\", \"ticks\": \"\"}}, \"title\": {\"x\": 0.05}, \"xaxis\": {\"automargin\": true, \"gridcolor\": \"white\", \"linecolor\": \"white\", \"ticks\": \"\", \"title\": {\"standoff\": 15}, \"zerolinecolor\": \"white\", \"zerolinewidth\": 2}, \"yaxis\": {\"automargin\": true, \"gridcolor\": \"white\", \"linecolor\": \"white\", \"ticks\": \"\", \"title\": {\"standoff\": 15}, \"zerolinecolor\": \"white\", \"zerolinewidth\": 2}}}, \"xaxis\": {\"anchor\": \"y\", \"domain\": [0.0, 1.0], \"title\": {\"text\": \"red blood cell count\"}}, \"yaxis\": {\"anchor\": \"x\", \"domain\": [0.0, 1.0], \"title\": {\"text\": \"haemoglobin\"}}},\n",
              "                        {\"responsive\": true}\n",
              "                    ).then(function(){\n",
              "                            \n",
              "var gd = document.getElementById('465a8fbb-ae75-4061-91ca-f674c6da69ef');\n",
              "var x = new MutationObserver(function (mutations, observer) {{\n",
              "        var display = window.getComputedStyle(gd).display;\n",
              "        if (!display || display === 'none') {{\n",
              "            console.log([gd, 'removed!']);\n",
              "            Plotly.purge(gd);\n",
              "            observer.disconnect();\n",
              "        }}\n",
              "}});\n",
              "\n",
              "// Listen for the removal of the full notebook cells\n",
              "var notebookContainer = gd.closest('#notebook-container');\n",
              "if (notebookContainer) {{\n",
              "    x.observe(notebookContainer, {childList: true});\n",
              "}}\n",
              "\n",
              "// Listen for the clearing of the current output cell\n",
              "var outputEl = gd.closest('.output');\n",
              "if (outputEl) {{\n",
              "    x.observe(outputEl, {childList: true});\n",
              "}}\n",
              "\n",
              "                        })\n",
              "                };\n",
              "                \n",
              "            </script>\n",
              "        </div>\n",
              "</body>\n",
              "</html>"
            ]
          },
          "metadata": {
            "tags": []
          }
        }
      ]
    },
    {
      "cell_type": "code",
      "metadata": {
        "colab": {
          "base_uri": "https://localhost:8080/",
          "height": 542
        },
        "id": "jPxZ4tYIBrKI",
        "outputId": "7a64ee90-ff53-4738-c1d6-648d66c5b8c5"
      },
      "source": [
        "scatters('packed cell volume','haemoglobin')"
      ],
      "execution_count": 55,
      "outputs": [
        {
          "output_type": "display_data",
          "data": {
            "text/html": [
              "<html>\n",
              "<head><meta charset=\"utf-8\" /></head>\n",
              "<body>\n",
              "    <div>\n",
              "            <script src=\"https://cdnjs.cloudflare.com/ajax/libs/mathjax/2.7.5/MathJax.js?config=TeX-AMS-MML_SVG\"></script><script type=\"text/javascript\">if (window.MathJax) {MathJax.Hub.Config({SVG: {font: \"STIX-Web\"}});}</script>\n",
              "                <script type=\"text/javascript\">window.PlotlyConfig = {MathJaxConfig: 'local'};</script>\n",
              "        <script src=\"https://cdn.plot.ly/plotly-latest.min.js\"></script>    \n",
              "            <div id=\"2ad1875a-24d6-435c-beff-5a1868c5faef\" class=\"plotly-graph-div\" style=\"height:525px; width:100%;\"></div>\n",
              "            <script type=\"text/javascript\">\n",
              "                \n",
              "                    window.PLOTLYENV=window.PLOTLYENV || {};\n",
              "                    \n",
              "                if (document.getElementById(\"2ad1875a-24d6-435c-beff-5a1868c5faef\")) {\n",
              "                    Plotly.newPlot(\n",
              "                        '2ad1875a-24d6-435c-beff-5a1868c5faef',\n",
              "                        [{\"hoverlabel\": {\"namelength\": 0}, \"hovertemplate\": \"class=ckd<br>packed cell volume=%{x}<br>haemoglobin=%{y}\", \"legendgroup\": \"class=ckd\", \"marker\": {\"color\": \"#636efa\", \"symbol\": \"circle\"}, \"mode\": \"markers\", \"name\": \"class=ckd\", \"showlegend\": true, \"type\": \"scatter\", \"x\": [44.0, 38.0, 31.0, 32.0, 35.0, 39.0, 36.0, 44.0, 33.0, 29.0, 28.0, 32.0, 28.0, null, 16.0, 24.0, null, null, 37.0, 30.0, 24.0, 32.0, 32.0, null, 39.0, 29.0, 35.0, 37.0, null, 38.0, null, 30.0, 34.0, 29.0, null, 36.0, 32.0, 28.0, null, 40.0, 32.0, null, 33.0, 24.0, 28.0, null, 37.0, 45.0, 29.0, 29.0, 28.0, 33.0, 34.0, 40.0, 40.0, 28.0, 30.0, null, 33.0, null, null, null, 33.0, 27.0, null, 48.0, null, null, 37.0, 52.0, 44.0, 28.0, null, 14.0, 29.0, null, 36.0, 34.0, 30.0, 40.0, 31.0, 29.0, null, null, 22.0, null, null, 32.0, null, null, 40.0, 52.0, 33.0, 30.0, 36.0, null, 36.0, 32.0, 18.0, 32.0, null, 33.0, 52.0, 36.0, null, 42.0, 17.0, 34.0, 37.0, null, 34.0, 32.0, 33.0, null, null, 44.0, null, 37.0, null, null, null, 46.0, null, 42.0, 28.0, null, 37.0, 35.0, 23.0, null, 22.0, 36.0, 24.0, 37.0, 33.0, 39.0, null, 29.0, null, 33.0, null, 19.0, null, null, 33.0, 24.0, null, 25.0, null, 32.0, 41.0, 30.0, 32.0, 22.0, 26.0, 36.0, null, 39.0, 31.0, 35.0, 35.0, 42.0, 37.0, 27.0, 40.0, null, null, 42.0, 39.0, 27.0, 33.0, 26.0, 34.0, 41.0, 35.0, null, 23.0, 41.0, 34.0, 39.0, 28.0, 30.0, 35.0, null, 31.0, 34.0, null, 34.0, 38.0, 29.0, 30.0, 26.0, null, 15.0, null, null, 24.0, null, 30.0, 25.0, 37.0, 21.0, 24.0, null, 31.0, 43.0, 41.0, 41.0, 41.0, null, 20.0, null, 31.0, 34.0, 43.0, null, 38.0, 36.0, 34.0, 28.0, 36.0, null, null, 38.0, null, 35.0, 26.0, 36.0, null, 31.0, null, 35.0, null, null, 44.0, 26.0, 25.0, 40.0, 28.0, 39.0, 36.0, 31.0, 28.0, 47.0, 40.0, 19.0, 26.0, null, 37.0, 9.0], \"xaxis\": \"x\", \"y\": [15.4, 11.3, 9.6, 11.2, 11.6, 12.2, 12.4, 12.4, 10.8, 9.5, 9.4, 10.8, 9.7, 9.8, 5.6, 7.6, 12.6, 12.1, 12.7, 10.3, 7.7, 10.9, 9.8, null, 11.1, 9.9, 11.6, 12.5, null, 12.9, null, 10.1, 11.3, 10.1, null, 12.0, 10.3, 9.7, 12.5, 13.0, 11.1, null, 9.7, 7.9, 9.7, 9.3, 12.4, 15.0, 10.0, 9.7, 8.6, 10.3, 10.9, 13.6, 13.0, 9.5, 10.2, null, 10.5, 6.6, null, null, 11.0, 7.5, 9.8, 15.0, null, null, 10.9, 15.6, 15.2, 9.8, 10.3, 4.8, 9.1, 8.1, 10.3, 11.9, 10.1, 13.5, 10.8, 8.3, null, null, 7.1, 9.9, null, 11.1, null, null, 13.0, 16.1, 10.4, 9.2, 11.6, null, 11.2, 10.0, 6.2, 11.2, null, 11.3, 13.9, 10.2, null, 14.1, 6.0, 11.2, 11.8, 11.7, 11.7, 10.0, 10.8, null, 12.1, 12.4, null, 12.5, 11.4, null, 12.6, 15.0, 6.0, 14.0, 9.1, null, 12.0, 11.4, 8.1, 11.1, 8.2, 11.8, 8.6, 12.0, 10.8, 13.2, 9.3, 10.0, null, 11.1, null, 6.1, null, null, 11.1, 8.0, null, 7.9, null, 10.5, 12.3, 9.6, 10.9, 8.3, 8.4, 11.1, null, 12.6, 10.9, 10.4, 10.9, 14.3, 9.8, 9.0, 14.3, null, null, 12.7, 11.0, 8.7, 12.5, 8.7, 10.6, 13.1, 11.0, null, 8.3, 13.2, 9.8, 11.9, 10.3, 10.0, 11.3, null, 11.3, 12.0, null, 10.7, 12.2, 9.5, 9.9, 9.1, null, 5.5, null, 5.8, 8.1, 6.8, 11.2, 8.8, 12.0, 7.9, 8.0, 8.5, 8.8, 12.6, 13.8, 12.0, 12.3, 11.5, 7.3, null, 10.9, 10.9, 13.7, null, 12.8, 12.2, 11.8, 9.8, 11.9, null, null, 13.0, null, 11.5, 7.9, 11.3, null, 9.6, null, 11.5, null, null, 15.0, 7.9, 9.1, 12.7, 9.4, 11.9, 11.4, 10.4, 9.4, 13.4, 12.2, 6.3, 8.6, null, 12.6, 3.1], \"yaxis\": \"y\"}, {\"hoverlabel\": {\"namelength\": 0}, \"hovertemplate\": \"class=notckd<br>packed cell volume=%{x}<br>haemoglobin=%{y}\", \"legendgroup\": \"class=notckd\", \"marker\": {\"color\": \"#EF553B\", \"symbol\": \"circle\"}, \"mode\": \"markers\", \"name\": \"class=notckd\", \"showlegend\": true, \"type\": \"scatter\", \"x\": [48.0, 52.0, 46.0, 42.0, 49.0, 52.0, 41.0, 46.0, 44.0, 45.0, 45.0, 41.0, 43.0, 45.0, 50.0, 48.0, 41.0, 48.0, 53.0, 48.0, 41.0, 42.0, 42.0, null, 44.0, 43.0, 41.0, 50.0, 44.0, 48.0, 52.0, 41.0, 44.0, 43.0, 52.0, 41.0, 44.0, 43.0, 50.0, 43.0, 52.0, 41.0, 52.0, 48.0, 40.0, 50.0, 41.0, 45.0, 48.0, 52.0, 43.0, 41.0, 48.0, 50.0, 45.0, 41.0, 52.0, 44.0, 48.0, 40.0, 44.0, 45.0, 48.0, 52.0, 41.0, 48.0, 48.0, 40.0, 52.0, null, 44.0, 48.0, 43.0, 45.0, null, 50.0, 41.0, 44.0, 45.0, 48.0, 42.0, 46.0, 44.0, 46.0, 43.0, 48.0, 40.0, 52.0, 44.0, 48.0, 43.0, 41.0, 50.0, 50.0, 42.0, 42.0, 52.0, 43.0, 44.0, 52.0, 43.0, 40.0, 48.0, 51.0, 41.0, 52.0, 47.0, 42.0, 45.0, 53.0, 43.0, 54.0, 40.0, 44.0, 45.0, null, 46.0, 50.0, 45.0, 46.0, 50.0, 51.0, 52.0, 47.0, 40.0, 48.0, 53.0, 49.0, 42.0, 50.0, 54.0, 40.0, 51.0, 49.0, 42.0, 52.0, 43.0, 50.0, 46.0, 52.0, 52.0, 44.0, 46.0, 54.0, 45.0, 47.0, 54.0, 49.0, 51.0, 53.0], \"xaxis\": \"x\", \"y\": [15.0, 17.0, 15.9, 15.4, 13.0, 13.6, 14.5, 14.0, 13.9, 16.1, 14.1, 17.0, 15.5, 16.2, 14.4, 14.2, 13.2, 13.9, 16.3, 15.0, 14.3, 13.8, 14.8, null, 14.4, 16.5, 14.0, 15.7, 14.5, 16.3, 13.3, 15.5, 14.6, 16.4, 16.9, 16.0, 14.7, 13.4, 15.9, 16.6, 14.8, 14.9, 16.7, 14.9, 14.3, 15.0, 16.8, 15.8, 13.5, 15.1, 15.0, 16.9, 14.8, 17.0, 13.1, 17.1, 15.2, 13.6, 13.9, 17.2, 13.2, 13.7, 15.3, 17.3, 15.6, 13.8, 15.4, 15.0, 17.4, null, 15.7, 13.9, 16.0, 15.9, null, 14.0, 15.8, 13.4, null, 14.1, null, 13.5, 15.3, 17.7, 15.4, 14.2, 15.2, 14.0, 17.8, 13.3, 14.3, 13.4, 15.0, 16.2, 14.4, 13.5, 15.5, 17.8, 13.6, 14.5, 16.1, 17.5, 15.0, 13.6, 14.6, 15.0, 17.1, 13.6, 13.0, 17.2, 14.7, 13.7, 15.0, 17.8, 14.8, null, 15.0, 17.4, 14.9, 13.6, 16.2, 17.6, 15.0, 13.7, 16.3, 15.1, 16.4, 13.8, 15.2, 16.1, 15.3, 16.6, 16.8, 13.9, 15.4, 16.5, 16.4, 16.7, 15.5, 17.0, 15.0, 15.6, 14.8, 13.0, 14.1, 15.7, 16.5, 15.8, 14.2, 15.8], \"yaxis\": \"y\"}],\n",
              "                        {\"legend\": {\"tracegroupgap\": 0}, \"margin\": {\"t\": 60}, \"template\": {\"data\": {\"bar\": [{\"error_x\": {\"color\": \"#2a3f5f\"}, \"error_y\": {\"color\": \"#2a3f5f\"}, \"marker\": {\"line\": {\"color\": \"#E5ECF6\", \"width\": 0.5}}, \"type\": \"bar\"}], \"barpolar\": [{\"marker\": {\"line\": {\"color\": \"#E5ECF6\", \"width\": 0.5}}, \"type\": \"barpolar\"}], \"carpet\": [{\"aaxis\": {\"endlinecolor\": \"#2a3f5f\", \"gridcolor\": \"white\", \"linecolor\": \"white\", \"minorgridcolor\": \"white\", \"startlinecolor\": \"#2a3f5f\"}, \"baxis\": {\"endlinecolor\": \"#2a3f5f\", \"gridcolor\": \"white\", \"linecolor\": \"white\", \"minorgridcolor\": \"white\", \"startlinecolor\": \"#2a3f5f\"}, \"type\": \"carpet\"}], \"choropleth\": [{\"colorbar\": {\"outlinewidth\": 0, \"ticks\": \"\"}, \"type\": \"choropleth\"}], \"contour\": [{\"colorbar\": {\"outlinewidth\": 0, \"ticks\": \"\"}, \"colorscale\": [[0.0, \"#0d0887\"], [0.1111111111111111, \"#46039f\"], [0.2222222222222222, \"#7201a8\"], [0.3333333333333333, \"#9c179e\"], [0.4444444444444444, \"#bd3786\"], [0.5555555555555556, \"#d8576b\"], [0.6666666666666666, \"#ed7953\"], [0.7777777777777778, \"#fb9f3a\"], [0.8888888888888888, \"#fdca26\"], [1.0, \"#f0f921\"]], \"type\": \"contour\"}], \"contourcarpet\": [{\"colorbar\": {\"outlinewidth\": 0, \"ticks\": \"\"}, \"type\": \"contourcarpet\"}], \"heatmap\": [{\"colorbar\": {\"outlinewidth\": 0, \"ticks\": \"\"}, \"colorscale\": [[0.0, \"#0d0887\"], [0.1111111111111111, \"#46039f\"], [0.2222222222222222, \"#7201a8\"], [0.3333333333333333, \"#9c179e\"], [0.4444444444444444, \"#bd3786\"], [0.5555555555555556, \"#d8576b\"], [0.6666666666666666, \"#ed7953\"], [0.7777777777777778, \"#fb9f3a\"], [0.8888888888888888, \"#fdca26\"], [1.0, \"#f0f921\"]], \"type\": \"heatmap\"}], \"heatmapgl\": [{\"colorbar\": {\"outlinewidth\": 0, \"ticks\": \"\"}, \"colorscale\": [[0.0, \"#0d0887\"], [0.1111111111111111, \"#46039f\"], [0.2222222222222222, \"#7201a8\"], [0.3333333333333333, \"#9c179e\"], [0.4444444444444444, \"#bd3786\"], [0.5555555555555556, \"#d8576b\"], [0.6666666666666666, \"#ed7953\"], [0.7777777777777778, \"#fb9f3a\"], [0.8888888888888888, \"#fdca26\"], [1.0, \"#f0f921\"]], \"type\": \"heatmapgl\"}], \"histogram\": [{\"marker\": {\"colorbar\": {\"outlinewidth\": 0, \"ticks\": \"\"}}, \"type\": \"histogram\"}], \"histogram2d\": [{\"colorbar\": {\"outlinewidth\": 0, \"ticks\": \"\"}, \"colorscale\": [[0.0, \"#0d0887\"], [0.1111111111111111, \"#46039f\"], [0.2222222222222222, \"#7201a8\"], [0.3333333333333333, \"#9c179e\"], [0.4444444444444444, \"#bd3786\"], [0.5555555555555556, \"#d8576b\"], [0.6666666666666666, \"#ed7953\"], [0.7777777777777778, \"#fb9f3a\"], [0.8888888888888888, \"#fdca26\"], [1.0, \"#f0f921\"]], \"type\": \"histogram2d\"}], \"histogram2dcontour\": [{\"colorbar\": {\"outlinewidth\": 0, \"ticks\": \"\"}, \"colorscale\": [[0.0, \"#0d0887\"], [0.1111111111111111, \"#46039f\"], [0.2222222222222222, \"#7201a8\"], [0.3333333333333333, \"#9c179e\"], [0.4444444444444444, \"#bd3786\"], [0.5555555555555556, \"#d8576b\"], [0.6666666666666666, \"#ed7953\"], [0.7777777777777778, \"#fb9f3a\"], [0.8888888888888888, \"#fdca26\"], [1.0, \"#f0f921\"]], \"type\": \"histogram2dcontour\"}], \"mesh3d\": [{\"colorbar\": {\"outlinewidth\": 0, \"ticks\": \"\"}, \"type\": \"mesh3d\"}], \"parcoords\": [{\"line\": {\"colorbar\": {\"outlinewidth\": 0, \"ticks\": \"\"}}, \"type\": \"parcoords\"}], \"pie\": [{\"automargin\": true, \"type\": \"pie\"}], \"scatter\": [{\"marker\": {\"colorbar\": {\"outlinewidth\": 0, \"ticks\": \"\"}}, \"type\": \"scatter\"}], \"scatter3d\": [{\"line\": {\"colorbar\": {\"outlinewidth\": 0, \"ticks\": \"\"}}, \"marker\": {\"colorbar\": {\"outlinewidth\": 0, \"ticks\": \"\"}}, \"type\": \"scatter3d\"}], \"scattercarpet\": [{\"marker\": {\"colorbar\": {\"outlinewidth\": 0, \"ticks\": \"\"}}, \"type\": \"scattercarpet\"}], \"scattergeo\": [{\"marker\": {\"colorbar\": {\"outlinewidth\": 0, \"ticks\": \"\"}}, \"type\": \"scattergeo\"}], \"scattergl\": [{\"marker\": {\"colorbar\": {\"outlinewidth\": 0, \"ticks\": \"\"}}, \"type\": \"scattergl\"}], \"scattermapbox\": [{\"marker\": {\"colorbar\": {\"outlinewidth\": 0, \"ticks\": \"\"}}, \"type\": \"scattermapbox\"}], \"scatterpolar\": [{\"marker\": {\"colorbar\": {\"outlinewidth\": 0, \"ticks\": \"\"}}, \"type\": \"scatterpolar\"}], \"scatterpolargl\": [{\"marker\": {\"colorbar\": {\"outlinewidth\": 0, \"ticks\": \"\"}}, \"type\": \"scatterpolargl\"}], \"scatterternary\": [{\"marker\": {\"colorbar\": {\"outlinewidth\": 0, \"ticks\": \"\"}}, \"type\": \"scatterternary\"}], \"surface\": [{\"colorbar\": {\"outlinewidth\": 0, \"ticks\": \"\"}, \"colorscale\": [[0.0, \"#0d0887\"], [0.1111111111111111, \"#46039f\"], [0.2222222222222222, \"#7201a8\"], [0.3333333333333333, \"#9c179e\"], [0.4444444444444444, \"#bd3786\"], [0.5555555555555556, \"#d8576b\"], [0.6666666666666666, \"#ed7953\"], [0.7777777777777778, \"#fb9f3a\"], [0.8888888888888888, \"#fdca26\"], [1.0, \"#f0f921\"]], \"type\": \"surface\"}], \"table\": [{\"cells\": {\"fill\": {\"color\": \"#EBF0F8\"}, \"line\": {\"color\": \"white\"}}, \"header\": {\"fill\": {\"color\": \"#C8D4E3\"}, \"line\": {\"color\": \"white\"}}, \"type\": \"table\"}]}, \"layout\": {\"annotationdefaults\": {\"arrowcolor\": \"#2a3f5f\", \"arrowhead\": 0, \"arrowwidth\": 1}, \"coloraxis\": {\"colorbar\": {\"outlinewidth\": 0, \"ticks\": \"\"}}, \"colorscale\": {\"diverging\": [[0, \"#8e0152\"], [0.1, \"#c51b7d\"], [0.2, \"#de77ae\"], [0.3, \"#f1b6da\"], [0.4, \"#fde0ef\"], [0.5, \"#f7f7f7\"], [0.6, \"#e6f5d0\"], [0.7, \"#b8e186\"], [0.8, \"#7fbc41\"], [0.9, \"#4d9221\"], [1, \"#276419\"]], \"sequential\": [[0.0, \"#0d0887\"], [0.1111111111111111, \"#46039f\"], [0.2222222222222222, \"#7201a8\"], [0.3333333333333333, \"#9c179e\"], [0.4444444444444444, \"#bd3786\"], [0.5555555555555556, \"#d8576b\"], [0.6666666666666666, \"#ed7953\"], [0.7777777777777778, \"#fb9f3a\"], [0.8888888888888888, \"#fdca26\"], [1.0, \"#f0f921\"]], \"sequentialminus\": [[0.0, \"#0d0887\"], [0.1111111111111111, \"#46039f\"], [0.2222222222222222, \"#7201a8\"], [0.3333333333333333, \"#9c179e\"], [0.4444444444444444, \"#bd3786\"], [0.5555555555555556, \"#d8576b\"], [0.6666666666666666, \"#ed7953\"], [0.7777777777777778, \"#fb9f3a\"], [0.8888888888888888, \"#fdca26\"], [1.0, \"#f0f921\"]]}, \"colorway\": [\"#636efa\", \"#EF553B\", \"#00cc96\", \"#ab63fa\", \"#FFA15A\", \"#19d3f3\", \"#FF6692\", \"#B6E880\", \"#FF97FF\", \"#FECB52\"], \"font\": {\"color\": \"#2a3f5f\"}, \"geo\": {\"bgcolor\": \"white\", \"lakecolor\": \"white\", \"landcolor\": \"#E5ECF6\", \"showlakes\": true, \"showland\": true, \"subunitcolor\": \"white\"}, \"hoverlabel\": {\"align\": \"left\"}, \"hovermode\": \"closest\", \"mapbox\": {\"style\": \"light\"}, \"paper_bgcolor\": \"white\", \"plot_bgcolor\": \"#E5ECF6\", \"polar\": {\"angularaxis\": {\"gridcolor\": \"white\", \"linecolor\": \"white\", \"ticks\": \"\"}, \"bgcolor\": \"#E5ECF6\", \"radialaxis\": {\"gridcolor\": \"white\", \"linecolor\": \"white\", \"ticks\": \"\"}}, \"scene\": {\"xaxis\": {\"backgroundcolor\": \"#E5ECF6\", \"gridcolor\": \"white\", \"gridwidth\": 2, \"linecolor\": \"white\", \"showbackground\": true, \"ticks\": \"\", \"zerolinecolor\": \"white\"}, \"yaxis\": {\"backgroundcolor\": \"#E5ECF6\", \"gridcolor\": \"white\", \"gridwidth\": 2, \"linecolor\": \"white\", \"showbackground\": true, \"ticks\": \"\", \"zerolinecolor\": \"white\"}, \"zaxis\": {\"backgroundcolor\": \"#E5ECF6\", \"gridcolor\": \"white\", \"gridwidth\": 2, \"linecolor\": \"white\", \"showbackground\": true, \"ticks\": \"\", \"zerolinecolor\": \"white\"}}, \"shapedefaults\": {\"line\": {\"color\": \"#2a3f5f\"}}, \"ternary\": {\"aaxis\": {\"gridcolor\": \"white\", \"linecolor\": \"white\", \"ticks\": \"\"}, \"baxis\": {\"gridcolor\": \"white\", \"linecolor\": \"white\", \"ticks\": \"\"}, \"bgcolor\": \"#E5ECF6\", \"caxis\": {\"gridcolor\": \"white\", \"linecolor\": \"white\", \"ticks\": \"\"}}, \"title\": {\"x\": 0.05}, \"xaxis\": {\"automargin\": true, \"gridcolor\": \"white\", \"linecolor\": \"white\", \"ticks\": \"\", \"title\": {\"standoff\": 15}, \"zerolinecolor\": \"white\", \"zerolinewidth\": 2}, \"yaxis\": {\"automargin\": true, \"gridcolor\": \"white\", \"linecolor\": \"white\", \"ticks\": \"\", \"title\": {\"standoff\": 15}, \"zerolinecolor\": \"white\", \"zerolinewidth\": 2}}}, \"xaxis\": {\"anchor\": \"y\", \"domain\": [0.0, 1.0], \"title\": {\"text\": \"packed cell volume\"}}, \"yaxis\": {\"anchor\": \"x\", \"domain\": [0.0, 1.0], \"title\": {\"text\": \"haemoglobin\"}}},\n",
              "                        {\"responsive\": true}\n",
              "                    ).then(function(){\n",
              "                            \n",
              "var gd = document.getElementById('2ad1875a-24d6-435c-beff-5a1868c5faef');\n",
              "var x = new MutationObserver(function (mutations, observer) {{\n",
              "        var display = window.getComputedStyle(gd).display;\n",
              "        if (!display || display === 'none') {{\n",
              "            console.log([gd, 'removed!']);\n",
              "            Plotly.purge(gd);\n",
              "            observer.disconnect();\n",
              "        }}\n",
              "}});\n",
              "\n",
              "// Listen for the removal of the full notebook cells\n",
              "var notebookContainer = gd.closest('#notebook-container');\n",
              "if (notebookContainer) {{\n",
              "    x.observe(notebookContainer, {childList: true});\n",
              "}}\n",
              "\n",
              "// Listen for the clearing of the current output cell\n",
              "var outputEl = gd.closest('.output');\n",
              "if (outputEl) {{\n",
              "    x.observe(outputEl, {childList: true});\n",
              "}}\n",
              "\n",
              "                        })\n",
              "                };\n",
              "                \n",
              "            </script>\n",
              "        </div>\n",
              "</body>\n",
              "</html>"
            ]
          },
          "metadata": {
            "tags": []
          }
        }
      ]
    },
    {
      "cell_type": "code",
      "metadata": {
        "colab": {
          "base_uri": "https://localhost:8080/",
          "height": 542
        },
        "id": "ins9E5TuByqE",
        "outputId": "b4236573-b807-420c-fb55-0f14b8687628"
      },
      "source": [
        "violin('red blood cell count')"
      ],
      "execution_count": 58,
      "outputs": [
        {
          "output_type": "display_data",
          "data": {
            "text/html": [
              "<html>\n",
              "<head><meta charset=\"utf-8\" /></head>\n",
              "<body>\n",
              "    <div>\n",
              "            <script src=\"https://cdnjs.cloudflare.com/ajax/libs/mathjax/2.7.5/MathJax.js?config=TeX-AMS-MML_SVG\"></script><script type=\"text/javascript\">if (window.MathJax) {MathJax.Hub.Config({SVG: {font: \"STIX-Web\"}});}</script>\n",
              "                <script type=\"text/javascript\">window.PlotlyConfig = {MathJaxConfig: 'local'};</script>\n",
              "        <script src=\"https://cdn.plot.ly/plotly-latest.min.js\"></script>    \n",
              "            <div id=\"39af43db-cf20-4428-b2bf-da3f35c518b2\" class=\"plotly-graph-div\" style=\"height:525px; width:100%;\"></div>\n",
              "            <script type=\"text/javascript\">\n",
              "                \n",
              "                    window.PLOTLYENV=window.PLOTLYENV || {};\n",
              "                    \n",
              "                if (document.getElementById(\"39af43db-cf20-4428-b2bf-da3f35c518b2\")) {\n",
              "                    Plotly.newPlot(\n",
              "                        '39af43db-cf20-4428-b2bf-da3f35c518b2',\n",
              "                        [{\"alignmentgroup\": \"True\", \"box\": {\"visible\": true}, \"hoverlabel\": {\"namelength\": 0}, \"hovertemplate\": \"class=%{x}<br>red blood cell count=%{y}\", \"legendgroup\": \"class=ckd\", \"marker\": {\"color\": \"#636efa\"}, \"name\": \"class=ckd\", \"offsetgroup\": \"class=ckd\", \"orientation\": \"v\", \"scalegroup\": \"True\", \"showlegend\": true, \"type\": \"violin\", \"x\": [\"ckd\", \"ckd\", \"ckd\", \"ckd\", \"ckd\", \"ckd\", \"ckd\", \"ckd\", \"ckd\", \"ckd\", \"ckd\", \"ckd\", \"ckd\", \"ckd\", \"ckd\", \"ckd\", \"ckd\", \"ckd\", \"ckd\", \"ckd\", \"ckd\", \"ckd\", \"ckd\", \"ckd\", \"ckd\", \"ckd\", \"ckd\", \"ckd\", \"ckd\", \"ckd\", \"ckd\", \"ckd\", \"ckd\", \"ckd\", \"ckd\", \"ckd\", \"ckd\", \"ckd\", \"ckd\", \"ckd\", \"ckd\", \"ckd\", \"ckd\", \"ckd\", \"ckd\", \"ckd\", \"ckd\", \"ckd\", \"ckd\", \"ckd\", \"ckd\", \"ckd\", \"ckd\", \"ckd\", \"ckd\", \"ckd\", \"ckd\", \"ckd\", \"ckd\", \"ckd\", \"ckd\", \"ckd\", \"ckd\", \"ckd\", \"ckd\", \"ckd\", \"ckd\", \"ckd\", \"ckd\", \"ckd\", \"ckd\", \"ckd\", \"ckd\", \"ckd\", \"ckd\", \"ckd\", \"ckd\", \"ckd\", \"ckd\", \"ckd\", \"ckd\", \"ckd\", \"ckd\", \"ckd\", \"ckd\", \"ckd\", \"ckd\", \"ckd\", \"ckd\", \"ckd\", \"ckd\", \"ckd\", \"ckd\", \"ckd\", \"ckd\", \"ckd\", \"ckd\", \"ckd\", \"ckd\", \"ckd\", \"ckd\", \"ckd\", \"ckd\", \"ckd\", \"ckd\", \"ckd\", \"ckd\", \"ckd\", \"ckd\", \"ckd\", \"ckd\", \"ckd\", \"ckd\", \"ckd\", \"ckd\", \"ckd\", \"ckd\", \"ckd\", \"ckd\", \"ckd\", \"ckd\", \"ckd\", \"ckd\", \"ckd\", \"ckd\", \"ckd\", \"ckd\", \"ckd\", \"ckd\", \"ckd\", \"ckd\", \"ckd\", \"ckd\", \"ckd\", \"ckd\", \"ckd\", \"ckd\", \"ckd\", \"ckd\", \"ckd\", \"ckd\", \"ckd\", \"ckd\", \"ckd\", \"ckd\", \"ckd\", \"ckd\", \"ckd\", \"ckd\", \"ckd\", \"ckd\", \"ckd\", \"ckd\", \"ckd\", \"ckd\", \"ckd\", \"ckd\", \"ckd\", \"ckd\", \"ckd\", \"ckd\", \"ckd\", \"ckd\", \"ckd\", \"ckd\", \"ckd\", \"ckd\", \"ckd\", \"ckd\", \"ckd\", \"ckd\", \"ckd\", \"ckd\", \"ckd\", \"ckd\", \"ckd\", \"ckd\", \"ckd\", \"ckd\", \"ckd\", \"ckd\", \"ckd\", \"ckd\", \"ckd\", \"ckd\", \"ckd\", \"ckd\", \"ckd\", \"ckd\", \"ckd\", \"ckd\", \"ckd\", \"ckd\", \"ckd\", \"ckd\", \"ckd\", \"ckd\", \"ckd\", \"ckd\", \"ckd\", \"ckd\", \"ckd\", \"ckd\", \"ckd\", \"ckd\", \"ckd\", \"ckd\", \"ckd\", \"ckd\", \"ckd\", \"ckd\", \"ckd\", \"ckd\", \"ckd\", \"ckd\", \"ckd\", \"ckd\", \"ckd\", \"ckd\", \"ckd\", \"ckd\", \"ckd\", \"ckd\", \"ckd\", \"ckd\", \"ckd\", \"ckd\", \"ckd\", \"ckd\", \"ckd\", \"ckd\", \"ckd\", \"ckd\", \"ckd\", \"ckd\", \"ckd\", \"ckd\", \"ckd\", \"ckd\", \"ckd\", \"ckd\", \"ckd\", \"ckd\", \"ckd\", \"ckd\", \"ckd\", \"ckd\", \"ckd\", \"ckd\", \"ckd\"], \"x0\": \" \", \"xaxis\": \"x\", \"y\": [5.2, null, null, 3.9, 4.6, 4.4, null, 5.0, 4.0, 3.7, null, 3.8, 3.4, null, 2.6, 2.8, null, null, 4.3, 3.7, 3.2, 3.6, 3.4, null, 4.6, 3.7, 4.0, 4.1, null, null, null, 4.0, 4.0, null, null, 4.9, null, 2.5, null, 4.2, 4.1, null, 4.5, 3.1, null, null, 4.7, null, 3.5, 3.5, 3.8, null, 3.7, 4.7, 4.2, null, 3.4, null, 4.3, null, null, null, 3.8, null, null, null, null, null, null, 6.0, 5.2, 3.2, null, null, 3.4, null, 4.0, 3.7, null, 5.0, 3.8, 3.7, null, null, 2.1, null, null, 5.0, 4.7, null, 4.2, 5.6, 3.6, 3.2, 3.9, null, null, 4.0, 2.3, 4.2, null, 3.9, null, 4.2, null, 5.2, null, 4.4, 4.2, null, 4.7, 3.9, null, null, null, 4.3, null, 4.4, null, null, null, null, null, null, 3.6, null, 4.5, 4.3, 2.9, null, 2.7, null, 2.7, 8.0, 3.8, null, null, null, null, null, null, null, null, null, 4.1, 3.3, null, 3.0, null, null, null, null, null, 2.9, 3.0, null, null, 3.9, null, 4.3, 2.4, 4.8, null, 3.2, 5.4, null, null, null, null, null, 4.4, 3.1, 4.9, null, 4.6, 3.4, 3.9, null, null, null, null, 3.7, null, null, 3.6, null, null, null, null, 3.4, 4.8, 3.4, null, 2.8, null, null, 3.5, 3.0, 3.9, 3.2, 3.9, null, null, null, null, null, null, 4.6, 4.9, null, 3.9, null, 3.4, 3.7, 5.2, null, null, 4.3, null, 3.3, null, null, null, 4.6, null, 4.5, 3.4, 3.8, null, 3.8, null, null, null, null, 5.2, null, null, null, null, null, 4.1, 3.9, 3.3, 6.1, 4.6, 2.6, 2.5, null, 4.1, 2.1], \"y0\": \" \", \"yaxis\": \"y\"}, {\"alignmentgroup\": \"True\", \"box\": {\"visible\": true}, \"hoverlabel\": {\"namelength\": 0}, \"hovertemplate\": \"class=%{x}<br>red blood cell count=%{y}\", \"legendgroup\": \"class=notckd\", \"marker\": {\"color\": \"#EF553B\"}, \"name\": \"class=notckd\", \"offsetgroup\": \"class=notckd\", \"orientation\": \"v\", \"scalegroup\": \"True\", \"showlegend\": true, \"type\": \"violin\", \"x\": [\"notckd\", \"notckd\", \"notckd\", \"notckd\", \"notckd\", \"notckd\", \"notckd\", \"notckd\", \"notckd\", \"notckd\", \"notckd\", \"notckd\", \"notckd\", \"notckd\", \"notckd\", \"notckd\", \"notckd\", \"notckd\", \"notckd\", \"notckd\", \"notckd\", \"notckd\", \"notckd\", \"notckd\", \"notckd\", \"notckd\", \"notckd\", \"notckd\", \"notckd\", \"notckd\", \"notckd\", \"notckd\", \"notckd\", \"notckd\", \"notckd\", \"notckd\", \"notckd\", \"notckd\", \"notckd\", \"notckd\", \"notckd\", \"notckd\", \"notckd\", \"notckd\", \"notckd\", \"notckd\", \"notckd\", \"notckd\", \"notckd\", \"notckd\", \"notckd\", \"notckd\", \"notckd\", \"notckd\", \"notckd\", \"notckd\", \"notckd\", \"notckd\", \"notckd\", \"notckd\", \"notckd\", \"notckd\", \"notckd\", \"notckd\", \"notckd\", \"notckd\", \"notckd\", \"notckd\", \"notckd\", \"notckd\", \"notckd\", \"notckd\", \"notckd\", \"notckd\", \"notckd\", \"notckd\", \"notckd\", \"notckd\", \"notckd\", \"notckd\", \"notckd\", \"notckd\", \"notckd\", \"notckd\", \"notckd\", \"notckd\", \"notckd\", \"notckd\", \"notckd\", \"notckd\", \"notckd\", \"notckd\", \"notckd\", \"notckd\", \"notckd\", \"notckd\", \"notckd\", \"notckd\", \"notckd\", \"notckd\", \"notckd\", \"notckd\", \"notckd\", \"notckd\", \"notckd\", \"notckd\", \"notckd\", \"notckd\", \"notckd\", \"notckd\", \"notckd\", \"notckd\", \"notckd\", \"notckd\", \"notckd\", \"notckd\", \"notckd\", \"notckd\", \"notckd\", \"notckd\", \"notckd\", \"notckd\", \"notckd\", \"notckd\", \"notckd\", \"notckd\", \"notckd\", \"notckd\", \"notckd\", \"notckd\", \"notckd\", \"notckd\", \"notckd\", \"notckd\", \"notckd\", \"notckd\", \"notckd\", \"notckd\", \"notckd\", \"notckd\", \"notckd\", \"notckd\", \"notckd\", \"notckd\", \"notckd\", \"notckd\", \"notckd\", \"notckd\", \"notckd\", \"notckd\"], \"x0\": \" \", \"xaxis\": \"x\", \"y\": [4.5, 5.0, 4.7, 6.2, 5.2, 6.3, 5.1, 5.8, 5.5, 5.2, 5.3, 4.9, 5.4, 5.2, 4.5, 5.0, 5.3, 4.8, 4.9, 5.3, 5.0, 4.5, 5.5, null, null, 4.6, 5.5, 4.8, 6.4, 5.6, 5.2, 6.0, 4.8, 5.7, 6.0, 5.9, 6.0, null, 5.1, 5.3, 5.9, 5.7, 5.0, 5.4, 5.8, 6.5, 5.9, 5.2, 4.9, 4.7, 5.8, 5.0, null, 6.1, 4.5, 5.2, 5.7, 4.5, 4.9, 5.9, 5.4, 5.6, 6.1, 4.8, 4.7, 4.4, 5.2, 4.9, 5.3, null, 6.2, 4.8, 4.9, 4.5, null, 6.5, 5.2, 5.8, 6.5, 5.1, null, 4.5, 6.1, 5.5, 4.5, 5.6, 5.2, 6.2, 4.5, 4.9, 5.9, 4.7, 6.3, 5.7, 4.7, 6.4, 5.8, 5.5, 6.4, 6.1, 4.5, 4.7, 5.2, 4.5, 5.1, 4.6, 6.1, 4.9, 5.6, 4.5, 6.2, 5.8, 4.8, 5.2, 4.7, 6.3, 5.3, 6.1, 5.9, 4.8, 5.4, 5.0, 5.5, 4.9, 6.4, 5.6, 5.2, 4.8, 5.5, 5.7, 4.9, 5.9, 6.5, 5.0, 4.5, 5.1, 6.5, 5.2, 6.4, 5.8, 5.3, 6.3, 5.5, 5.4, 4.6, 4.9, 6.2, 5.4, 5.9, 6.1], \"y0\": \" \", \"yaxis\": \"y\"}],\n",
              "                        {\"legend\": {\"tracegroupgap\": 0}, \"margin\": {\"t\": 60}, \"template\": {\"data\": {\"bar\": [{\"error_x\": {\"color\": \"#2a3f5f\"}, \"error_y\": {\"color\": \"#2a3f5f\"}, \"marker\": {\"line\": {\"color\": \"#E5ECF6\", \"width\": 0.5}}, \"type\": \"bar\"}], \"barpolar\": [{\"marker\": {\"line\": {\"color\": \"#E5ECF6\", \"width\": 0.5}}, \"type\": \"barpolar\"}], \"carpet\": [{\"aaxis\": {\"endlinecolor\": \"#2a3f5f\", \"gridcolor\": \"white\", \"linecolor\": \"white\", \"minorgridcolor\": \"white\", \"startlinecolor\": \"#2a3f5f\"}, \"baxis\": {\"endlinecolor\": \"#2a3f5f\", \"gridcolor\": \"white\", \"linecolor\": \"white\", \"minorgridcolor\": \"white\", \"startlinecolor\": \"#2a3f5f\"}, \"type\": \"carpet\"}], \"choropleth\": [{\"colorbar\": {\"outlinewidth\": 0, \"ticks\": \"\"}, \"type\": \"choropleth\"}], \"contour\": [{\"colorbar\": {\"outlinewidth\": 0, \"ticks\": \"\"}, \"colorscale\": [[0.0, \"#0d0887\"], [0.1111111111111111, \"#46039f\"], [0.2222222222222222, \"#7201a8\"], [0.3333333333333333, \"#9c179e\"], [0.4444444444444444, \"#bd3786\"], [0.5555555555555556, \"#d8576b\"], [0.6666666666666666, \"#ed7953\"], [0.7777777777777778, \"#fb9f3a\"], [0.8888888888888888, \"#fdca26\"], [1.0, \"#f0f921\"]], \"type\": \"contour\"}], \"contourcarpet\": [{\"colorbar\": {\"outlinewidth\": 0, \"ticks\": \"\"}, \"type\": \"contourcarpet\"}], \"heatmap\": [{\"colorbar\": {\"outlinewidth\": 0, \"ticks\": \"\"}, \"colorscale\": [[0.0, \"#0d0887\"], [0.1111111111111111, \"#46039f\"], [0.2222222222222222, \"#7201a8\"], [0.3333333333333333, \"#9c179e\"], [0.4444444444444444, \"#bd3786\"], [0.5555555555555556, \"#d8576b\"], [0.6666666666666666, \"#ed7953\"], [0.7777777777777778, \"#fb9f3a\"], [0.8888888888888888, \"#fdca26\"], [1.0, \"#f0f921\"]], \"type\": \"heatmap\"}], \"heatmapgl\": [{\"colorbar\": {\"outlinewidth\": 0, \"ticks\": \"\"}, \"colorscale\": [[0.0, \"#0d0887\"], [0.1111111111111111, \"#46039f\"], [0.2222222222222222, \"#7201a8\"], [0.3333333333333333, \"#9c179e\"], [0.4444444444444444, \"#bd3786\"], [0.5555555555555556, \"#d8576b\"], [0.6666666666666666, \"#ed7953\"], [0.7777777777777778, \"#fb9f3a\"], [0.8888888888888888, \"#fdca26\"], [1.0, \"#f0f921\"]], \"type\": \"heatmapgl\"}], \"histogram\": [{\"marker\": {\"colorbar\": {\"outlinewidth\": 0, \"ticks\": \"\"}}, \"type\": \"histogram\"}], \"histogram2d\": [{\"colorbar\": {\"outlinewidth\": 0, \"ticks\": \"\"}, \"colorscale\": [[0.0, \"#0d0887\"], [0.1111111111111111, \"#46039f\"], [0.2222222222222222, \"#7201a8\"], [0.3333333333333333, \"#9c179e\"], [0.4444444444444444, \"#bd3786\"], [0.5555555555555556, \"#d8576b\"], [0.6666666666666666, \"#ed7953\"], [0.7777777777777778, \"#fb9f3a\"], [0.8888888888888888, \"#fdca26\"], [1.0, \"#f0f921\"]], \"type\": \"histogram2d\"}], \"histogram2dcontour\": [{\"colorbar\": {\"outlinewidth\": 0, \"ticks\": \"\"}, \"colorscale\": [[0.0, \"#0d0887\"], [0.1111111111111111, \"#46039f\"], [0.2222222222222222, \"#7201a8\"], [0.3333333333333333, \"#9c179e\"], [0.4444444444444444, \"#bd3786\"], [0.5555555555555556, \"#d8576b\"], [0.6666666666666666, \"#ed7953\"], [0.7777777777777778, \"#fb9f3a\"], [0.8888888888888888, \"#fdca26\"], [1.0, \"#f0f921\"]], \"type\": \"histogram2dcontour\"}], \"mesh3d\": [{\"colorbar\": {\"outlinewidth\": 0, \"ticks\": \"\"}, \"type\": \"mesh3d\"}], \"parcoords\": [{\"line\": {\"colorbar\": {\"outlinewidth\": 0, \"ticks\": \"\"}}, \"type\": \"parcoords\"}], \"pie\": [{\"automargin\": true, \"type\": \"pie\"}], \"scatter\": [{\"marker\": {\"colorbar\": {\"outlinewidth\": 0, \"ticks\": \"\"}}, \"type\": \"scatter\"}], \"scatter3d\": [{\"line\": {\"colorbar\": {\"outlinewidth\": 0, \"ticks\": \"\"}}, \"marker\": {\"colorbar\": {\"outlinewidth\": 0, \"ticks\": \"\"}}, \"type\": \"scatter3d\"}], \"scattercarpet\": [{\"marker\": {\"colorbar\": {\"outlinewidth\": 0, \"ticks\": \"\"}}, \"type\": \"scattercarpet\"}], \"scattergeo\": [{\"marker\": {\"colorbar\": {\"outlinewidth\": 0, \"ticks\": \"\"}}, \"type\": \"scattergeo\"}], \"scattergl\": [{\"marker\": {\"colorbar\": {\"outlinewidth\": 0, \"ticks\": \"\"}}, \"type\": \"scattergl\"}], \"scattermapbox\": [{\"marker\": {\"colorbar\": {\"outlinewidth\": 0, \"ticks\": \"\"}}, \"type\": \"scattermapbox\"}], \"scatterpolar\": [{\"marker\": {\"colorbar\": {\"outlinewidth\": 0, \"ticks\": \"\"}}, \"type\": \"scatterpolar\"}], \"scatterpolargl\": [{\"marker\": {\"colorbar\": {\"outlinewidth\": 0, \"ticks\": \"\"}}, \"type\": \"scatterpolargl\"}], \"scatterternary\": [{\"marker\": {\"colorbar\": {\"outlinewidth\": 0, \"ticks\": \"\"}}, \"type\": \"scatterternary\"}], \"surface\": [{\"colorbar\": {\"outlinewidth\": 0, \"ticks\": \"\"}, \"colorscale\": [[0.0, \"#0d0887\"], [0.1111111111111111, \"#46039f\"], [0.2222222222222222, \"#7201a8\"], [0.3333333333333333, \"#9c179e\"], [0.4444444444444444, \"#bd3786\"], [0.5555555555555556, \"#d8576b\"], [0.6666666666666666, \"#ed7953\"], [0.7777777777777778, \"#fb9f3a\"], [0.8888888888888888, \"#fdca26\"], [1.0, \"#f0f921\"]], \"type\": \"surface\"}], \"table\": [{\"cells\": {\"fill\": {\"color\": \"#EBF0F8\"}, \"line\": {\"color\": \"white\"}}, \"header\": {\"fill\": {\"color\": \"#C8D4E3\"}, \"line\": {\"color\": \"white\"}}, \"type\": \"table\"}]}, \"layout\": {\"annotationdefaults\": {\"arrowcolor\": \"#2a3f5f\", \"arrowhead\": 0, \"arrowwidth\": 1}, \"coloraxis\": {\"colorbar\": {\"outlinewidth\": 0, \"ticks\": \"\"}}, \"colorscale\": {\"diverging\": [[0, \"#8e0152\"], [0.1, \"#c51b7d\"], [0.2, \"#de77ae\"], [0.3, \"#f1b6da\"], [0.4, \"#fde0ef\"], [0.5, \"#f7f7f7\"], [0.6, \"#e6f5d0\"], [0.7, \"#b8e186\"], [0.8, \"#7fbc41\"], [0.9, \"#4d9221\"], [1, \"#276419\"]], \"sequential\": [[0.0, \"#0d0887\"], [0.1111111111111111, \"#46039f\"], [0.2222222222222222, \"#7201a8\"], [0.3333333333333333, \"#9c179e\"], [0.4444444444444444, \"#bd3786\"], [0.5555555555555556, \"#d8576b\"], [0.6666666666666666, \"#ed7953\"], [0.7777777777777778, \"#fb9f3a\"], [0.8888888888888888, \"#fdca26\"], [1.0, \"#f0f921\"]], \"sequentialminus\": [[0.0, \"#0d0887\"], [0.1111111111111111, \"#46039f\"], [0.2222222222222222, \"#7201a8\"], [0.3333333333333333, \"#9c179e\"], [0.4444444444444444, \"#bd3786\"], [0.5555555555555556, \"#d8576b\"], [0.6666666666666666, \"#ed7953\"], [0.7777777777777778, \"#fb9f3a\"], [0.8888888888888888, \"#fdca26\"], [1.0, \"#f0f921\"]]}, \"colorway\": [\"#636efa\", \"#EF553B\", \"#00cc96\", \"#ab63fa\", \"#FFA15A\", \"#19d3f3\", \"#FF6692\", \"#B6E880\", \"#FF97FF\", \"#FECB52\"], \"font\": {\"color\": \"#2a3f5f\"}, \"geo\": {\"bgcolor\": \"white\", \"lakecolor\": \"white\", \"landcolor\": \"#E5ECF6\", \"showlakes\": true, \"showland\": true, \"subunitcolor\": \"white\"}, \"hoverlabel\": {\"align\": \"left\"}, \"hovermode\": \"closest\", \"mapbox\": {\"style\": \"light\"}, \"paper_bgcolor\": \"white\", \"plot_bgcolor\": \"#E5ECF6\", \"polar\": {\"angularaxis\": {\"gridcolor\": \"white\", \"linecolor\": \"white\", \"ticks\": \"\"}, \"bgcolor\": \"#E5ECF6\", \"radialaxis\": {\"gridcolor\": \"white\", \"linecolor\": \"white\", \"ticks\": \"\"}}, \"scene\": {\"xaxis\": {\"backgroundcolor\": \"#E5ECF6\", \"gridcolor\": \"white\", \"gridwidth\": 2, \"linecolor\": \"white\", \"showbackground\": true, \"ticks\": \"\", \"zerolinecolor\": \"white\"}, \"yaxis\": {\"backgroundcolor\": \"#E5ECF6\", \"gridcolor\": \"white\", \"gridwidth\": 2, \"linecolor\": \"white\", \"showbackground\": true, \"ticks\": \"\", \"zerolinecolor\": \"white\"}, \"zaxis\": {\"backgroundcolor\": \"#E5ECF6\", \"gridcolor\": \"white\", \"gridwidth\": 2, \"linecolor\": \"white\", \"showbackground\": true, \"ticks\": \"\", \"zerolinecolor\": \"white\"}}, \"shapedefaults\": {\"line\": {\"color\": \"#2a3f5f\"}}, \"ternary\": {\"aaxis\": {\"gridcolor\": \"white\", \"linecolor\": \"white\", \"ticks\": \"\"}, \"baxis\": {\"gridcolor\": \"white\", \"linecolor\": \"white\", \"ticks\": \"\"}, \"bgcolor\": \"#E5ECF6\", \"caxis\": {\"gridcolor\": \"white\", \"linecolor\": \"white\", \"ticks\": \"\"}}, \"title\": {\"x\": 0.05}, \"xaxis\": {\"automargin\": true, \"gridcolor\": \"white\", \"linecolor\": \"white\", \"ticks\": \"\", \"title\": {\"standoff\": 15}, \"zerolinecolor\": \"white\", \"zerolinewidth\": 2}, \"yaxis\": {\"automargin\": true, \"gridcolor\": \"white\", \"linecolor\": \"white\", \"ticks\": \"\", \"title\": {\"standoff\": 15}, \"zerolinecolor\": \"white\", \"zerolinewidth\": 2}}}, \"violinmode\": \"group\", \"xaxis\": {\"anchor\": \"y\", \"categoryarray\": [\"ckd\", \"notckd\"], \"categoryorder\": \"array\", \"domain\": [0.0, 1.0], \"title\": {\"text\": \"class\"}}, \"yaxis\": {\"anchor\": \"x\", \"domain\": [0.0, 1.0], \"title\": {\"text\": \"red blood cell count\"}}},\n",
              "                        {\"responsive\": true}\n",
              "                    ).then(function(){\n",
              "                            \n",
              "var gd = document.getElementById('39af43db-cf20-4428-b2bf-da3f35c518b2');\n",
              "var x = new MutationObserver(function (mutations, observer) {{\n",
              "        var display = window.getComputedStyle(gd).display;\n",
              "        if (!display || display === 'none') {{\n",
              "            console.log([gd, 'removed!']);\n",
              "            Plotly.purge(gd);\n",
              "            observer.disconnect();\n",
              "        }}\n",
              "}});\n",
              "\n",
              "// Listen for the removal of the full notebook cells\n",
              "var notebookContainer = gd.closest('#notebook-container');\n",
              "if (notebookContainer) {{\n",
              "    x.observe(notebookContainer, {childList: true});\n",
              "}}\n",
              "\n",
              "// Listen for the clearing of the current output cell\n",
              "var outputEl = gd.closest('.output');\n",
              "if (outputEl) {{\n",
              "    x.observe(outputEl, {childList: true});\n",
              "}}\n",
              "\n",
              "                        })\n",
              "                };\n",
              "                \n",
              "            </script>\n",
              "        </div>\n",
              "</body>\n",
              "</html>"
            ]
          },
          "metadata": {
            "tags": []
          }
        }
      ]
    },
    {
      "cell_type": "code",
      "metadata": {
        "colab": {
          "base_uri": "https://localhost:8080/",
          "height": 542
        },
        "id": "WyyRziaJCJF8",
        "outputId": "23383287-b066-44b5-fb41-40f8e2621f3f"
      },
      "source": [
        "violin('packed cell volume')"
      ],
      "execution_count": 59,
      "outputs": [
        {
          "output_type": "display_data",
          "data": {
            "text/html": [
              "<html>\n",
              "<head><meta charset=\"utf-8\" /></head>\n",
              "<body>\n",
              "    <div>\n",
              "            <script src=\"https://cdnjs.cloudflare.com/ajax/libs/mathjax/2.7.5/MathJax.js?config=TeX-AMS-MML_SVG\"></script><script type=\"text/javascript\">if (window.MathJax) {MathJax.Hub.Config({SVG: {font: \"STIX-Web\"}});}</script>\n",
              "                <script type=\"text/javascript\">window.PlotlyConfig = {MathJaxConfig: 'local'};</script>\n",
              "        <script src=\"https://cdn.plot.ly/plotly-latest.min.js\"></script>    \n",
              "            <div id=\"8b177e68-e4d9-4244-856b-c054838ab4dc\" class=\"plotly-graph-div\" style=\"height:525px; width:100%;\"></div>\n",
              "            <script type=\"text/javascript\">\n",
              "                \n",
              "                    window.PLOTLYENV=window.PLOTLYENV || {};\n",
              "                    \n",
              "                if (document.getElementById(\"8b177e68-e4d9-4244-856b-c054838ab4dc\")) {\n",
              "                    Plotly.newPlot(\n",
              "                        '8b177e68-e4d9-4244-856b-c054838ab4dc',\n",
              "                        [{\"alignmentgroup\": \"True\", \"box\": {\"visible\": true}, \"hoverlabel\": {\"namelength\": 0}, \"hovertemplate\": \"class=%{x}<br>packed cell volume=%{y}\", \"legendgroup\": \"class=ckd\", \"marker\": {\"color\": \"#636efa\"}, \"name\": \"class=ckd\", \"offsetgroup\": \"class=ckd\", \"orientation\": \"v\", \"scalegroup\": \"True\", \"showlegend\": true, \"type\": \"violin\", \"x\": [\"ckd\", \"ckd\", \"ckd\", \"ckd\", \"ckd\", \"ckd\", \"ckd\", \"ckd\", \"ckd\", \"ckd\", \"ckd\", \"ckd\", \"ckd\", \"ckd\", \"ckd\", \"ckd\", \"ckd\", \"ckd\", \"ckd\", \"ckd\", \"ckd\", \"ckd\", \"ckd\", \"ckd\", \"ckd\", \"ckd\", \"ckd\", \"ckd\", \"ckd\", \"ckd\", \"ckd\", \"ckd\", \"ckd\", \"ckd\", \"ckd\", \"ckd\", \"ckd\", \"ckd\", \"ckd\", \"ckd\", \"ckd\", \"ckd\", \"ckd\", \"ckd\", \"ckd\", \"ckd\", \"ckd\", \"ckd\", \"ckd\", \"ckd\", \"ckd\", \"ckd\", \"ckd\", \"ckd\", \"ckd\", \"ckd\", \"ckd\", \"ckd\", \"ckd\", \"ckd\", \"ckd\", \"ckd\", \"ckd\", \"ckd\", \"ckd\", \"ckd\", \"ckd\", \"ckd\", \"ckd\", \"ckd\", \"ckd\", \"ckd\", \"ckd\", \"ckd\", \"ckd\", \"ckd\", \"ckd\", \"ckd\", \"ckd\", \"ckd\", \"ckd\", \"ckd\", \"ckd\", \"ckd\", \"ckd\", \"ckd\", \"ckd\", \"ckd\", \"ckd\", \"ckd\", \"ckd\", \"ckd\", \"ckd\", \"ckd\", \"ckd\", \"ckd\", \"ckd\", \"ckd\", \"ckd\", \"ckd\", \"ckd\", \"ckd\", \"ckd\", \"ckd\", \"ckd\", \"ckd\", \"ckd\", \"ckd\", \"ckd\", \"ckd\", \"ckd\", \"ckd\", \"ckd\", \"ckd\", \"ckd\", \"ckd\", \"ckd\", \"ckd\", \"ckd\", \"ckd\", \"ckd\", \"ckd\", \"ckd\", \"ckd\", \"ckd\", \"ckd\", \"ckd\", \"ckd\", \"ckd\", \"ckd\", \"ckd\", \"ckd\", \"ckd\", \"ckd\", \"ckd\", \"ckd\", \"ckd\", \"ckd\", \"ckd\", \"ckd\", \"ckd\", \"ckd\", \"ckd\", \"ckd\", \"ckd\", \"ckd\", \"ckd\", \"ckd\", \"ckd\", \"ckd\", \"ckd\", \"ckd\", \"ckd\", \"ckd\", \"ckd\", \"ckd\", \"ckd\", \"ckd\", \"ckd\", \"ckd\", \"ckd\", \"ckd\", \"ckd\", \"ckd\", \"ckd\", \"ckd\", \"ckd\", \"ckd\", \"ckd\", \"ckd\", \"ckd\", \"ckd\", \"ckd\", \"ckd\", \"ckd\", \"ckd\", \"ckd\", \"ckd\", \"ckd\", \"ckd\", \"ckd\", \"ckd\", \"ckd\", \"ckd\", \"ckd\", \"ckd\", \"ckd\", \"ckd\", \"ckd\", \"ckd\", \"ckd\", \"ckd\", \"ckd\", \"ckd\", \"ckd\", \"ckd\", \"ckd\", \"ckd\", \"ckd\", \"ckd\", \"ckd\", \"ckd\", \"ckd\", \"ckd\", \"ckd\", \"ckd\", \"ckd\", \"ckd\", \"ckd\", \"ckd\", \"ckd\", \"ckd\", \"ckd\", \"ckd\", \"ckd\", \"ckd\", \"ckd\", \"ckd\", \"ckd\", \"ckd\", \"ckd\", \"ckd\", \"ckd\", \"ckd\", \"ckd\", \"ckd\", \"ckd\", \"ckd\", \"ckd\", \"ckd\", \"ckd\", \"ckd\", \"ckd\", \"ckd\", \"ckd\", \"ckd\", \"ckd\", \"ckd\", \"ckd\", \"ckd\", \"ckd\", \"ckd\", \"ckd\", \"ckd\", \"ckd\", \"ckd\", \"ckd\", \"ckd\", \"ckd\", \"ckd\"], \"x0\": \" \", \"xaxis\": \"x\", \"y\": [44.0, 38.0, 31.0, 32.0, 35.0, 39.0, 36.0, 44.0, 33.0, 29.0, 28.0, 32.0, 28.0, null, 16.0, 24.0, null, null, 37.0, 30.0, 24.0, 32.0, 32.0, null, 39.0, 29.0, 35.0, 37.0, null, 38.0, null, 30.0, 34.0, 29.0, null, 36.0, 32.0, 28.0, null, 40.0, 32.0, null, 33.0, 24.0, 28.0, null, 37.0, 45.0, 29.0, 29.0, 28.0, 33.0, 34.0, 40.0, 40.0, 28.0, 30.0, null, 33.0, null, null, null, 33.0, 27.0, null, 48.0, null, null, 37.0, 52.0, 44.0, 28.0, null, 14.0, 29.0, null, 36.0, 34.0, 30.0, 40.0, 31.0, 29.0, null, null, 22.0, null, null, 32.0, null, null, 40.0, 52.0, 33.0, 30.0, 36.0, null, 36.0, 32.0, 18.0, 32.0, null, 33.0, 52.0, 36.0, null, 42.0, 17.0, 34.0, 37.0, null, 34.0, 32.0, 33.0, null, null, 44.0, null, 37.0, null, null, null, 46.0, null, 42.0, 28.0, null, 37.0, 35.0, 23.0, null, 22.0, 36.0, 24.0, 37.0, 33.0, 39.0, null, 29.0, null, 33.0, null, 19.0, null, null, 33.0, 24.0, null, 25.0, null, 32.0, 41.0, 30.0, 32.0, 22.0, 26.0, 36.0, null, 39.0, 31.0, 35.0, 35.0, 42.0, 37.0, 27.0, 40.0, null, null, 42.0, 39.0, 27.0, 33.0, 26.0, 34.0, 41.0, 35.0, null, 23.0, 41.0, 34.0, 39.0, 28.0, 30.0, 35.0, null, 31.0, 34.0, null, 34.0, 38.0, 29.0, 30.0, 26.0, null, 15.0, null, null, 24.0, null, 30.0, 25.0, 37.0, 21.0, 24.0, null, 31.0, 43.0, 41.0, 41.0, 41.0, null, 20.0, null, 31.0, 34.0, 43.0, null, 38.0, 36.0, 34.0, 28.0, 36.0, null, null, 38.0, null, 35.0, 26.0, 36.0, null, 31.0, null, 35.0, null, null, 44.0, 26.0, 25.0, 40.0, 28.0, 39.0, 36.0, 31.0, 28.0, 47.0, 40.0, 19.0, 26.0, null, 37.0, 9.0], \"y0\": \" \", \"yaxis\": \"y\"}, {\"alignmentgroup\": \"True\", \"box\": {\"visible\": true}, \"hoverlabel\": {\"namelength\": 0}, \"hovertemplate\": \"class=%{x}<br>packed cell volume=%{y}\", \"legendgroup\": \"class=notckd\", \"marker\": {\"color\": \"#EF553B\"}, \"name\": \"class=notckd\", \"offsetgroup\": \"class=notckd\", \"orientation\": \"v\", \"scalegroup\": \"True\", \"showlegend\": true, \"type\": \"violin\", \"x\": [\"notckd\", \"notckd\", \"notckd\", \"notckd\", \"notckd\", \"notckd\", \"notckd\", \"notckd\", \"notckd\", \"notckd\", \"notckd\", \"notckd\", \"notckd\", \"notckd\", \"notckd\", \"notckd\", \"notckd\", \"notckd\", \"notckd\", \"notckd\", \"notckd\", \"notckd\", \"notckd\", \"notckd\", \"notckd\", \"notckd\", \"notckd\", \"notckd\", \"notckd\", \"notckd\", \"notckd\", \"notckd\", \"notckd\", \"notckd\", \"notckd\", \"notckd\", \"notckd\", \"notckd\", \"notckd\", \"notckd\", \"notckd\", \"notckd\", \"notckd\", \"notckd\", \"notckd\", \"notckd\", \"notckd\", \"notckd\", \"notckd\", \"notckd\", \"notckd\", \"notckd\", \"notckd\", \"notckd\", \"notckd\", \"notckd\", \"notckd\", \"notckd\", \"notckd\", \"notckd\", \"notckd\", \"notckd\", \"notckd\", \"notckd\", \"notckd\", \"notckd\", \"notckd\", \"notckd\", \"notckd\", \"notckd\", \"notckd\", \"notckd\", \"notckd\", \"notckd\", \"notckd\", \"notckd\", \"notckd\", \"notckd\", \"notckd\", \"notckd\", \"notckd\", \"notckd\", \"notckd\", \"notckd\", \"notckd\", \"notckd\", \"notckd\", \"notckd\", \"notckd\", \"notckd\", \"notckd\", \"notckd\", \"notckd\", \"notckd\", \"notckd\", \"notckd\", \"notckd\", \"notckd\", \"notckd\", \"notckd\", \"notckd\", \"notckd\", \"notckd\", \"notckd\", \"notckd\", \"notckd\", \"notckd\", \"notckd\", \"notckd\", \"notckd\", \"notckd\", \"notckd\", \"notckd\", \"notckd\", \"notckd\", \"notckd\", \"notckd\", \"notckd\", \"notckd\", \"notckd\", \"notckd\", \"notckd\", \"notckd\", \"notckd\", \"notckd\", \"notckd\", \"notckd\", \"notckd\", \"notckd\", \"notckd\", \"notckd\", \"notckd\", \"notckd\", \"notckd\", \"notckd\", \"notckd\", \"notckd\", \"notckd\", \"notckd\", \"notckd\", \"notckd\", \"notckd\", \"notckd\", \"notckd\", \"notckd\", \"notckd\", \"notckd\", \"notckd\", \"notckd\", \"notckd\"], \"x0\": \" \", \"xaxis\": \"x\", \"y\": [48.0, 52.0, 46.0, 42.0, 49.0, 52.0, 41.0, 46.0, 44.0, 45.0, 45.0, 41.0, 43.0, 45.0, 50.0, 48.0, 41.0, 48.0, 53.0, 48.0, 41.0, 42.0, 42.0, null, 44.0, 43.0, 41.0, 50.0, 44.0, 48.0, 52.0, 41.0, 44.0, 43.0, 52.0, 41.0, 44.0, 43.0, 50.0, 43.0, 52.0, 41.0, 52.0, 48.0, 40.0, 50.0, 41.0, 45.0, 48.0, 52.0, 43.0, 41.0, 48.0, 50.0, 45.0, 41.0, 52.0, 44.0, 48.0, 40.0, 44.0, 45.0, 48.0, 52.0, 41.0, 48.0, 48.0, 40.0, 52.0, null, 44.0, 48.0, 43.0, 45.0, null, 50.0, 41.0, 44.0, 45.0, 48.0, 42.0, 46.0, 44.0, 46.0, 43.0, 48.0, 40.0, 52.0, 44.0, 48.0, 43.0, 41.0, 50.0, 50.0, 42.0, 42.0, 52.0, 43.0, 44.0, 52.0, 43.0, 40.0, 48.0, 51.0, 41.0, 52.0, 47.0, 42.0, 45.0, 53.0, 43.0, 54.0, 40.0, 44.0, 45.0, null, 46.0, 50.0, 45.0, 46.0, 50.0, 51.0, 52.0, 47.0, 40.0, 48.0, 53.0, 49.0, 42.0, 50.0, 54.0, 40.0, 51.0, 49.0, 42.0, 52.0, 43.0, 50.0, 46.0, 52.0, 52.0, 44.0, 46.0, 54.0, 45.0, 47.0, 54.0, 49.0, 51.0, 53.0], \"y0\": \" \", \"yaxis\": \"y\"}],\n",
              "                        {\"legend\": {\"tracegroupgap\": 0}, \"margin\": {\"t\": 60}, \"template\": {\"data\": {\"bar\": [{\"error_x\": {\"color\": \"#2a3f5f\"}, \"error_y\": {\"color\": \"#2a3f5f\"}, \"marker\": {\"line\": {\"color\": \"#E5ECF6\", \"width\": 0.5}}, \"type\": \"bar\"}], \"barpolar\": [{\"marker\": {\"line\": {\"color\": \"#E5ECF6\", \"width\": 0.5}}, \"type\": \"barpolar\"}], \"carpet\": [{\"aaxis\": {\"endlinecolor\": \"#2a3f5f\", \"gridcolor\": \"white\", \"linecolor\": \"white\", \"minorgridcolor\": \"white\", \"startlinecolor\": \"#2a3f5f\"}, \"baxis\": {\"endlinecolor\": \"#2a3f5f\", \"gridcolor\": \"white\", \"linecolor\": \"white\", \"minorgridcolor\": \"white\", \"startlinecolor\": \"#2a3f5f\"}, \"type\": \"carpet\"}], \"choropleth\": [{\"colorbar\": {\"outlinewidth\": 0, \"ticks\": \"\"}, \"type\": \"choropleth\"}], \"contour\": [{\"colorbar\": {\"outlinewidth\": 0, \"ticks\": \"\"}, \"colorscale\": [[0.0, \"#0d0887\"], [0.1111111111111111, \"#46039f\"], [0.2222222222222222, \"#7201a8\"], [0.3333333333333333, \"#9c179e\"], [0.4444444444444444, \"#bd3786\"], [0.5555555555555556, \"#d8576b\"], [0.6666666666666666, \"#ed7953\"], [0.7777777777777778, \"#fb9f3a\"], [0.8888888888888888, \"#fdca26\"], [1.0, \"#f0f921\"]], \"type\": \"contour\"}], \"contourcarpet\": [{\"colorbar\": {\"outlinewidth\": 0, \"ticks\": \"\"}, \"type\": \"contourcarpet\"}], \"heatmap\": [{\"colorbar\": {\"outlinewidth\": 0, \"ticks\": \"\"}, \"colorscale\": [[0.0, \"#0d0887\"], [0.1111111111111111, \"#46039f\"], [0.2222222222222222, \"#7201a8\"], [0.3333333333333333, \"#9c179e\"], [0.4444444444444444, \"#bd3786\"], [0.5555555555555556, \"#d8576b\"], [0.6666666666666666, \"#ed7953\"], [0.7777777777777778, \"#fb9f3a\"], [0.8888888888888888, \"#fdca26\"], [1.0, \"#f0f921\"]], \"type\": \"heatmap\"}], \"heatmapgl\": [{\"colorbar\": {\"outlinewidth\": 0, \"ticks\": \"\"}, \"colorscale\": [[0.0, \"#0d0887\"], [0.1111111111111111, \"#46039f\"], [0.2222222222222222, \"#7201a8\"], [0.3333333333333333, \"#9c179e\"], [0.4444444444444444, \"#bd3786\"], [0.5555555555555556, \"#d8576b\"], [0.6666666666666666, \"#ed7953\"], [0.7777777777777778, \"#fb9f3a\"], [0.8888888888888888, \"#fdca26\"], [1.0, \"#f0f921\"]], \"type\": \"heatmapgl\"}], \"histogram\": [{\"marker\": {\"colorbar\": {\"outlinewidth\": 0, \"ticks\": \"\"}}, \"type\": \"histogram\"}], \"histogram2d\": [{\"colorbar\": {\"outlinewidth\": 0, \"ticks\": \"\"}, \"colorscale\": [[0.0, \"#0d0887\"], [0.1111111111111111, \"#46039f\"], [0.2222222222222222, \"#7201a8\"], [0.3333333333333333, \"#9c179e\"], [0.4444444444444444, \"#bd3786\"], [0.5555555555555556, \"#d8576b\"], [0.6666666666666666, \"#ed7953\"], [0.7777777777777778, \"#fb9f3a\"], [0.8888888888888888, \"#fdca26\"], [1.0, \"#f0f921\"]], \"type\": \"histogram2d\"}], \"histogram2dcontour\": [{\"colorbar\": {\"outlinewidth\": 0, \"ticks\": \"\"}, \"colorscale\": [[0.0, \"#0d0887\"], [0.1111111111111111, \"#46039f\"], [0.2222222222222222, \"#7201a8\"], [0.3333333333333333, \"#9c179e\"], [0.4444444444444444, \"#bd3786\"], [0.5555555555555556, \"#d8576b\"], [0.6666666666666666, \"#ed7953\"], [0.7777777777777778, \"#fb9f3a\"], [0.8888888888888888, \"#fdca26\"], [1.0, \"#f0f921\"]], \"type\": \"histogram2dcontour\"}], \"mesh3d\": [{\"colorbar\": {\"outlinewidth\": 0, \"ticks\": \"\"}, \"type\": \"mesh3d\"}], \"parcoords\": [{\"line\": {\"colorbar\": {\"outlinewidth\": 0, \"ticks\": \"\"}}, \"type\": \"parcoords\"}], \"pie\": [{\"automargin\": true, \"type\": \"pie\"}], \"scatter\": [{\"marker\": {\"colorbar\": {\"outlinewidth\": 0, \"ticks\": \"\"}}, \"type\": \"scatter\"}], \"scatter3d\": [{\"line\": {\"colorbar\": {\"outlinewidth\": 0, \"ticks\": \"\"}}, \"marker\": {\"colorbar\": {\"outlinewidth\": 0, \"ticks\": \"\"}}, \"type\": \"scatter3d\"}], \"scattercarpet\": [{\"marker\": {\"colorbar\": {\"outlinewidth\": 0, \"ticks\": \"\"}}, \"type\": \"scattercarpet\"}], \"scattergeo\": [{\"marker\": {\"colorbar\": {\"outlinewidth\": 0, \"ticks\": \"\"}}, \"type\": \"scattergeo\"}], \"scattergl\": [{\"marker\": {\"colorbar\": {\"outlinewidth\": 0, \"ticks\": \"\"}}, \"type\": \"scattergl\"}], \"scattermapbox\": [{\"marker\": {\"colorbar\": {\"outlinewidth\": 0, \"ticks\": \"\"}}, \"type\": \"scattermapbox\"}], \"scatterpolar\": [{\"marker\": {\"colorbar\": {\"outlinewidth\": 0, \"ticks\": \"\"}}, \"type\": \"scatterpolar\"}], \"scatterpolargl\": [{\"marker\": {\"colorbar\": {\"outlinewidth\": 0, \"ticks\": \"\"}}, \"type\": \"scatterpolargl\"}], \"scatterternary\": [{\"marker\": {\"colorbar\": {\"outlinewidth\": 0, \"ticks\": \"\"}}, \"type\": \"scatterternary\"}], \"surface\": [{\"colorbar\": {\"outlinewidth\": 0, \"ticks\": \"\"}, \"colorscale\": [[0.0, \"#0d0887\"], [0.1111111111111111, \"#46039f\"], [0.2222222222222222, \"#7201a8\"], [0.3333333333333333, \"#9c179e\"], [0.4444444444444444, \"#bd3786\"], [0.5555555555555556, \"#d8576b\"], [0.6666666666666666, \"#ed7953\"], [0.7777777777777778, \"#fb9f3a\"], [0.8888888888888888, \"#fdca26\"], [1.0, \"#f0f921\"]], \"type\": \"surface\"}], \"table\": [{\"cells\": {\"fill\": {\"color\": \"#EBF0F8\"}, \"line\": {\"color\": \"white\"}}, \"header\": {\"fill\": {\"color\": \"#C8D4E3\"}, \"line\": {\"color\": \"white\"}}, \"type\": \"table\"}]}, \"layout\": {\"annotationdefaults\": {\"arrowcolor\": \"#2a3f5f\", \"arrowhead\": 0, \"arrowwidth\": 1}, \"coloraxis\": {\"colorbar\": {\"outlinewidth\": 0, \"ticks\": \"\"}}, \"colorscale\": {\"diverging\": [[0, \"#8e0152\"], [0.1, \"#c51b7d\"], [0.2, \"#de77ae\"], [0.3, \"#f1b6da\"], [0.4, \"#fde0ef\"], [0.5, \"#f7f7f7\"], [0.6, \"#e6f5d0\"], [0.7, \"#b8e186\"], [0.8, \"#7fbc41\"], [0.9, \"#4d9221\"], [1, \"#276419\"]], \"sequential\": [[0.0, \"#0d0887\"], [0.1111111111111111, \"#46039f\"], [0.2222222222222222, \"#7201a8\"], [0.3333333333333333, \"#9c179e\"], [0.4444444444444444, \"#bd3786\"], [0.5555555555555556, \"#d8576b\"], [0.6666666666666666, \"#ed7953\"], [0.7777777777777778, \"#fb9f3a\"], [0.8888888888888888, \"#fdca26\"], [1.0, \"#f0f921\"]], \"sequentialminus\": [[0.0, \"#0d0887\"], [0.1111111111111111, \"#46039f\"], [0.2222222222222222, \"#7201a8\"], [0.3333333333333333, \"#9c179e\"], [0.4444444444444444, \"#bd3786\"], [0.5555555555555556, \"#d8576b\"], [0.6666666666666666, \"#ed7953\"], [0.7777777777777778, \"#fb9f3a\"], [0.8888888888888888, \"#fdca26\"], [1.0, \"#f0f921\"]]}, \"colorway\": [\"#636efa\", \"#EF553B\", \"#00cc96\", \"#ab63fa\", \"#FFA15A\", \"#19d3f3\", \"#FF6692\", \"#B6E880\", \"#FF97FF\", \"#FECB52\"], \"font\": {\"color\": \"#2a3f5f\"}, \"geo\": {\"bgcolor\": \"white\", \"lakecolor\": \"white\", \"landcolor\": \"#E5ECF6\", \"showlakes\": true, \"showland\": true, \"subunitcolor\": \"white\"}, \"hoverlabel\": {\"align\": \"left\"}, \"hovermode\": \"closest\", \"mapbox\": {\"style\": \"light\"}, \"paper_bgcolor\": \"white\", \"plot_bgcolor\": \"#E5ECF6\", \"polar\": {\"angularaxis\": {\"gridcolor\": \"white\", \"linecolor\": \"white\", \"ticks\": \"\"}, \"bgcolor\": \"#E5ECF6\", \"radialaxis\": {\"gridcolor\": \"white\", \"linecolor\": \"white\", \"ticks\": \"\"}}, \"scene\": {\"xaxis\": {\"backgroundcolor\": \"#E5ECF6\", \"gridcolor\": \"white\", \"gridwidth\": 2, \"linecolor\": \"white\", \"showbackground\": true, \"ticks\": \"\", \"zerolinecolor\": \"white\"}, \"yaxis\": {\"backgroundcolor\": \"#E5ECF6\", \"gridcolor\": \"white\", \"gridwidth\": 2, \"linecolor\": \"white\", \"showbackground\": true, \"ticks\": \"\", \"zerolinecolor\": \"white\"}, \"zaxis\": {\"backgroundcolor\": \"#E5ECF6\", \"gridcolor\": \"white\", \"gridwidth\": 2, \"linecolor\": \"white\", \"showbackground\": true, \"ticks\": \"\", \"zerolinecolor\": \"white\"}}, \"shapedefaults\": {\"line\": {\"color\": \"#2a3f5f\"}}, \"ternary\": {\"aaxis\": {\"gridcolor\": \"white\", \"linecolor\": \"white\", \"ticks\": \"\"}, \"baxis\": {\"gridcolor\": \"white\", \"linecolor\": \"white\", \"ticks\": \"\"}, \"bgcolor\": \"#E5ECF6\", \"caxis\": {\"gridcolor\": \"white\", \"linecolor\": \"white\", \"ticks\": \"\"}}, \"title\": {\"x\": 0.05}, \"xaxis\": {\"automargin\": true, \"gridcolor\": \"white\", \"linecolor\": \"white\", \"ticks\": \"\", \"title\": {\"standoff\": 15}, \"zerolinecolor\": \"white\", \"zerolinewidth\": 2}, \"yaxis\": {\"automargin\": true, \"gridcolor\": \"white\", \"linecolor\": \"white\", \"ticks\": \"\", \"title\": {\"standoff\": 15}, \"zerolinecolor\": \"white\", \"zerolinewidth\": 2}}}, \"violinmode\": \"group\", \"xaxis\": {\"anchor\": \"y\", \"categoryarray\": [\"ckd\", \"notckd\"], \"categoryorder\": \"array\", \"domain\": [0.0, 1.0], \"title\": {\"text\": \"class\"}}, \"yaxis\": {\"anchor\": \"x\", \"domain\": [0.0, 1.0], \"title\": {\"text\": \"packed cell volume\"}}},\n",
              "                        {\"responsive\": true}\n",
              "                    ).then(function(){\n",
              "                            \n",
              "var gd = document.getElementById('8b177e68-e4d9-4244-856b-c054838ab4dc');\n",
              "var x = new MutationObserver(function (mutations, observer) {{\n",
              "        var display = window.getComputedStyle(gd).display;\n",
              "        if (!display || display === 'none') {{\n",
              "            console.log([gd, 'removed!']);\n",
              "            Plotly.purge(gd);\n",
              "            observer.disconnect();\n",
              "        }}\n",
              "}});\n",
              "\n",
              "// Listen for the removal of the full notebook cells\n",
              "var notebookContainer = gd.closest('#notebook-container');\n",
              "if (notebookContainer) {{\n",
              "    x.observe(notebookContainer, {childList: true});\n",
              "}}\n",
              "\n",
              "// Listen for the clearing of the current output cell\n",
              "var outputEl = gd.closest('.output');\n",
              "if (outputEl) {{\n",
              "    x.observe(outputEl, {childList: true});\n",
              "}}\n",
              "\n",
              "                        })\n",
              "                };\n",
              "                \n",
              "            </script>\n",
              "        </div>\n",
              "</body>\n",
              "</html>"
            ]
          },
          "metadata": {
            "tags": []
          }
        }
      ]
    },
    {
      "cell_type": "code",
      "metadata": {
        "colab": {
          "base_uri": "https://localhost:8080/",
          "height": 542
        },
        "id": "0ohDgkTCCWbb",
        "outputId": "8d20e2bc-0578-401f-e076-cc9a44c99d79"
      },
      "source": [
        "scatters('red blood cell count','albumin')"
      ],
      "execution_count": 60,
      "outputs": [
        {
          "output_type": "display_data",
          "data": {
            "text/html": [
              "<html>\n",
              "<head><meta charset=\"utf-8\" /></head>\n",
              "<body>\n",
              "    <div>\n",
              "            <script src=\"https://cdnjs.cloudflare.com/ajax/libs/mathjax/2.7.5/MathJax.js?config=TeX-AMS-MML_SVG\"></script><script type=\"text/javascript\">if (window.MathJax) {MathJax.Hub.Config({SVG: {font: \"STIX-Web\"}});}</script>\n",
              "                <script type=\"text/javascript\">window.PlotlyConfig = {MathJaxConfig: 'local'};</script>\n",
              "        <script src=\"https://cdn.plot.ly/plotly-latest.min.js\"></script>    \n",
              "            <div id=\"5b08de23-e0fd-4396-aaeb-8f748f6d5055\" class=\"plotly-graph-div\" style=\"height:525px; width:100%;\"></div>\n",
              "            <script type=\"text/javascript\">\n",
              "                \n",
              "                    window.PLOTLYENV=window.PLOTLYENV || {};\n",
              "                    \n",
              "                if (document.getElementById(\"5b08de23-e0fd-4396-aaeb-8f748f6d5055\")) {\n",
              "                    Plotly.newPlot(\n",
              "                        '5b08de23-e0fd-4396-aaeb-8f748f6d5055',\n",
              "                        [{\"hoverlabel\": {\"namelength\": 0}, \"hovertemplate\": \"class=ckd<br>red blood cell count=%{x}<br>albumin=%{y}\", \"legendgroup\": \"class=ckd\", \"marker\": {\"color\": \"#636efa\", \"symbol\": \"circle\"}, \"mode\": \"markers\", \"name\": \"class=ckd\", \"showlegend\": true, \"type\": \"scatter\", \"x\": [5.2, null, null, 3.9, 4.6, 4.4, null, 5.0, 4.0, 3.7, null, 3.8, 3.4, null, 2.6, 2.8, null, null, 4.3, 3.7, 3.2, 3.6, 3.4, null, 4.6, 3.7, 4.0, 4.1, null, null, null, 4.0, 4.0, null, null, 4.9, null, 2.5, null, 4.2, 4.1, null, 4.5, 3.1, null, null, 4.7, null, 3.5, 3.5, 3.8, null, 3.7, 4.7, 4.2, null, 3.4, null, 4.3, null, null, null, 3.8, null, null, null, null, null, null, 6.0, 5.2, 3.2, null, null, 3.4, null, 4.0, 3.7, null, 5.0, 3.8, 3.7, null, null, 2.1, null, null, 5.0, 4.7, null, 4.2, 5.6, 3.6, 3.2, 3.9, null, null, 4.0, 2.3, 4.2, null, 3.9, null, 4.2, null, 5.2, null, 4.4, 4.2, null, 4.7, 3.9, null, null, null, 4.3, null, 4.4, null, null, null, null, null, null, 3.6, null, 4.5, 4.3, 2.9, null, 2.7, null, 2.7, 8.0, 3.8, null, null, null, null, null, null, null, null, null, 4.1, 3.3, null, 3.0, null, null, null, null, null, 2.9, 3.0, null, null, 3.9, null, 4.3, 2.4, 4.8, null, 3.2, 5.4, null, null, null, null, null, 4.4, 3.1, 4.9, null, 4.6, 3.4, 3.9, null, null, null, null, 3.7, null, null, 3.6, null, null, null, null, 3.4, 4.8, 3.4, null, 2.8, null, null, 3.5, 3.0, 3.9, 3.2, 3.9, null, null, null, null, null, null, 4.6, 4.9, null, 3.9, null, 3.4, 3.7, 5.2, null, null, 4.3, null, 3.3, null, null, null, 4.6, null, 4.5, 3.4, 3.8, null, 3.8, null, null, null, null, 5.2, null, null, null, null, null, 4.1, 3.9, 3.3, 6.1, 4.6, 2.6, 2.5, null, 4.1, 2.1], \"xaxis\": \"x\", \"y\": [1.0, 4.0, 2.0, 4.0, 2.0, 3.0, 0.0, 2.0, 3.0, 2.0, 2.0, 3.0, 3.0, null, 3.0, 3.0, 2.0, null, 0.0, 1.0, 2.0, null, 4.0, 0.0, 4.0, 0.0, 0.0, 3.0, 1.0, 1.0, null, 3.0, 1.0, 2.0, 1.0, 2.0, 1.0, null, 3.0, 2.0, 2.0, 0.0, 0.0, 1.0, 3.0, 3.0, 0.0, 3.0, 0.0, 2.0, null, 3.0, 0.0, 0.0, 2.0, 3.0, 3.0, null, 2.0, null, 1.0, 1.0, 3.0, 1.0, 0.0, 1.0, 2.0, 3.0, 2.0, 0.0, 0.0, 1.0, 3.0, 2.0, 2.0, 1.0, 4.0, 1.0, null, 1.0, 0.0, null, null, 1.0, 3.0, 2.0, null, 1.0, 4.0, 0.0, 2.0, 4.0, 3.0, 3.0, 0.0, 1.0, 1.0, 1.0, null, 0.0, 4.0, 2.0, 0.0, 2.0, null, 0.0, null, 1.0, 0.0, null, 0.0, 3.0, 3.0, 0.0, 3.0, 0.0, 4.0, 0.0, 3.0, 0.0, 1.0, 3.0, null, 2.0, 0.0, null, 0.0, 4.0, 4.0, 1.0, 2.0, 0.0, null, 4.0, null, 0.0, null, 2.0, 1.0, 2.0, 0.0, 1.0, null, 1.0, 2.0, 5.0, 1.0, 3.0, null, 1.0, 3.0, null, 0.0, 2.0, 4.0, 3.0, 2.0, 3.0, 3.0, 1.0, null, 3.0, null, 0.0, 0.0, 0.0, null, 0.0, 4.0, 0.0, 2.0, 3.0, 1.0, 1.0, null, 0.0, 4.0, 2.0, 2.0, 2.0, 1.0, 2.0, 0.0, 0.0, 3.0, 1.0, 4.0, 2.0, null, 4.0, 4.0, 3.0, 0.0, 1.0, 2.0, 2.0, 3.0, null, 4.0, 0.0, 1.0, null, null, null, 4.0, null, 1.0, 0.0, null, 0.0, 4.0, 0.0, 3.0, 3.0, 0.0, 3.0, 0.0, 1.0, 0.0, 0.0, 0.0, 1.0, null, 0.0, 0.0, 3.0, 4.0, 0.0, null, 3.0, 2.0, null, 1.0, 2.0, 0.0, 2.0, null, 2.0, null, 2.0, 1.0, 1.0, 4.0, 2.0, 3.0, null, 3.0, 1.0, 1.0, 4.0], \"yaxis\": \"y\"}, {\"hoverlabel\": {\"namelength\": 0}, \"hovertemplate\": \"class=notckd<br>red blood cell count=%{x}<br>albumin=%{y}\", \"legendgroup\": \"class=notckd\", \"marker\": {\"color\": \"#EF553B\", \"symbol\": \"circle\"}, \"mode\": \"markers\", \"name\": \"class=notckd\", \"showlegend\": true, \"type\": \"scatter\", \"x\": [4.5, 5.0, 4.7, 6.2, 5.2, 6.3, 5.1, 5.8, 5.5, 5.2, 5.3, 4.9, 5.4, 5.2, 4.5, 5.0, 5.3, 4.8, 4.9, 5.3, 5.0, 4.5, 5.5, null, null, 4.6, 5.5, 4.8, 6.4, 5.6, 5.2, 6.0, 4.8, 5.7, 6.0, 5.9, 6.0, null, 5.1, 5.3, 5.9, 5.7, 5.0, 5.4, 5.8, 6.5, 5.9, 5.2, 4.9, 4.7, 5.8, 5.0, null, 6.1, 4.5, 5.2, 5.7, 4.5, 4.9, 5.9, 5.4, 5.6, 6.1, 4.8, 4.7, 4.4, 5.2, 4.9, 5.3, null, 6.2, 4.8, 4.9, 4.5, null, 6.5, 5.2, 5.8, 6.5, 5.1, null, 4.5, 6.1, 5.5, 4.5, 5.6, 5.2, 6.2, 4.5, 4.9, 5.9, 4.7, 6.3, 5.7, 4.7, 6.4, 5.8, 5.5, 6.4, 6.1, 4.5, 4.7, 5.2, 4.5, 5.1, 4.6, 6.1, 4.9, 5.6, 4.5, 6.2, 5.8, 4.8, 5.2, 4.7, 6.3, 5.3, 6.1, 5.9, 4.8, 5.4, 5.0, 5.5, 4.9, 6.4, 5.6, 5.2, 4.8, 5.5, 5.7, 4.9, 5.9, 6.5, 5.0, 4.5, 5.1, 6.5, 5.2, 6.4, 5.8, 5.3, 6.3, 5.5, 5.4, 4.6, 4.9, 6.2, 5.4, 5.9, 6.1], \"xaxis\": \"x\", \"y\": [0.0, 0.0, 0.0, 0.0, 0.0, 0.0, 0.0, 0.0, 0.0, 0.0, 0.0, 0.0, 0.0, 0.0, 0.0, 0.0, 0.0, 0.0, null, 0.0, 0.0, 0.0, 0.0, 0.0, 0.0, 0.0, 0.0, 0.0, 0.0, 0.0, null, 0.0, 0.0, 0.0, 0.0, 0.0, 0.0, 0.0, 0.0, 0.0, 0.0, 0.0, 0.0, 0.0, 0.0, null, 0.0, 0.0, 0.0, 0.0, 0.0, 0.0, 0.0, 0.0, 0.0, 0.0, 0.0, 0.0, 0.0, 0.0, 0.0, 0.0, 0.0, 0.0, 0.0, 0.0, 0.0, 0.0, 0.0, 0.0, 0.0, 0.0, null, 0.0, 0.0, 0.0, 0.0, 0.0, 0.0, 0.0, 0.0, 0.0, 0.0, 0.0, 0.0, 0.0, 0.0, 0.0, 0.0, 0.0, 0.0, 0.0, 0.0, 0.0, 0.0, 0.0, null, 0.0, 0.0, 0.0, 0.0, 0.0, 0.0, 0.0, 0.0, 0.0, 0.0, 0.0, 0.0, 0.0, 0.0, 0.0, 0.0, 0.0, 0.0, 0.0, 0.0, 0.0, 0.0, 0.0, 0.0, 0.0, 0.0, 0.0, 0.0, 0.0, 0.0, 0.0, 0.0, 0.0, 0.0, 0.0, 0.0, 0.0, 0.0, 0.0, 0.0, 0.0, 0.0, 0.0, 0.0, 0.0, 0.0, 0.0, 0.0, 0.0, 0.0, 0.0, 0.0, 0.0], \"yaxis\": \"y\"}],\n",
              "                        {\"legend\": {\"tracegroupgap\": 0}, \"margin\": {\"t\": 60}, \"template\": {\"data\": {\"bar\": [{\"error_x\": {\"color\": \"#2a3f5f\"}, \"error_y\": {\"color\": \"#2a3f5f\"}, \"marker\": {\"line\": {\"color\": \"#E5ECF6\", \"width\": 0.5}}, \"type\": \"bar\"}], \"barpolar\": [{\"marker\": {\"line\": {\"color\": \"#E5ECF6\", \"width\": 0.5}}, \"type\": \"barpolar\"}], \"carpet\": [{\"aaxis\": {\"endlinecolor\": \"#2a3f5f\", \"gridcolor\": \"white\", \"linecolor\": \"white\", \"minorgridcolor\": \"white\", \"startlinecolor\": \"#2a3f5f\"}, \"baxis\": {\"endlinecolor\": \"#2a3f5f\", \"gridcolor\": \"white\", \"linecolor\": \"white\", \"minorgridcolor\": \"white\", \"startlinecolor\": \"#2a3f5f\"}, \"type\": \"carpet\"}], \"choropleth\": [{\"colorbar\": {\"outlinewidth\": 0, \"ticks\": \"\"}, \"type\": \"choropleth\"}], \"contour\": [{\"colorbar\": {\"outlinewidth\": 0, \"ticks\": \"\"}, \"colorscale\": [[0.0, \"#0d0887\"], [0.1111111111111111, \"#46039f\"], [0.2222222222222222, \"#7201a8\"], [0.3333333333333333, \"#9c179e\"], [0.4444444444444444, \"#bd3786\"], [0.5555555555555556, \"#d8576b\"], [0.6666666666666666, \"#ed7953\"], [0.7777777777777778, \"#fb9f3a\"], [0.8888888888888888, \"#fdca26\"], [1.0, \"#f0f921\"]], \"type\": \"contour\"}], \"contourcarpet\": [{\"colorbar\": {\"outlinewidth\": 0, \"ticks\": \"\"}, \"type\": \"contourcarpet\"}], \"heatmap\": [{\"colorbar\": {\"outlinewidth\": 0, \"ticks\": \"\"}, \"colorscale\": [[0.0, \"#0d0887\"], [0.1111111111111111, \"#46039f\"], [0.2222222222222222, \"#7201a8\"], [0.3333333333333333, \"#9c179e\"], [0.4444444444444444, \"#bd3786\"], [0.5555555555555556, \"#d8576b\"], [0.6666666666666666, \"#ed7953\"], [0.7777777777777778, \"#fb9f3a\"], [0.8888888888888888, \"#fdca26\"], [1.0, \"#f0f921\"]], \"type\": \"heatmap\"}], \"heatmapgl\": [{\"colorbar\": {\"outlinewidth\": 0, \"ticks\": \"\"}, \"colorscale\": [[0.0, \"#0d0887\"], [0.1111111111111111, \"#46039f\"], [0.2222222222222222, \"#7201a8\"], [0.3333333333333333, \"#9c179e\"], [0.4444444444444444, \"#bd3786\"], [0.5555555555555556, \"#d8576b\"], [0.6666666666666666, \"#ed7953\"], [0.7777777777777778, \"#fb9f3a\"], [0.8888888888888888, \"#fdca26\"], [1.0, \"#f0f921\"]], \"type\": \"heatmapgl\"}], \"histogram\": [{\"marker\": {\"colorbar\": {\"outlinewidth\": 0, \"ticks\": \"\"}}, \"type\": \"histogram\"}], \"histogram2d\": [{\"colorbar\": {\"outlinewidth\": 0, \"ticks\": \"\"}, \"colorscale\": [[0.0, \"#0d0887\"], [0.1111111111111111, \"#46039f\"], [0.2222222222222222, \"#7201a8\"], [0.3333333333333333, \"#9c179e\"], [0.4444444444444444, \"#bd3786\"], [0.5555555555555556, \"#d8576b\"], [0.6666666666666666, \"#ed7953\"], [0.7777777777777778, \"#fb9f3a\"], [0.8888888888888888, \"#fdca26\"], [1.0, \"#f0f921\"]], \"type\": \"histogram2d\"}], \"histogram2dcontour\": [{\"colorbar\": {\"outlinewidth\": 0, \"ticks\": \"\"}, \"colorscale\": [[0.0, \"#0d0887\"], [0.1111111111111111, \"#46039f\"], [0.2222222222222222, \"#7201a8\"], [0.3333333333333333, \"#9c179e\"], [0.4444444444444444, \"#bd3786\"], [0.5555555555555556, \"#d8576b\"], [0.6666666666666666, \"#ed7953\"], [0.7777777777777778, \"#fb9f3a\"], [0.8888888888888888, \"#fdca26\"], [1.0, \"#f0f921\"]], \"type\": \"histogram2dcontour\"}], \"mesh3d\": [{\"colorbar\": {\"outlinewidth\": 0, \"ticks\": \"\"}, \"type\": \"mesh3d\"}], \"parcoords\": [{\"line\": {\"colorbar\": {\"outlinewidth\": 0, \"ticks\": \"\"}}, \"type\": \"parcoords\"}], \"pie\": [{\"automargin\": true, \"type\": \"pie\"}], \"scatter\": [{\"marker\": {\"colorbar\": {\"outlinewidth\": 0, \"ticks\": \"\"}}, \"type\": \"scatter\"}], \"scatter3d\": [{\"line\": {\"colorbar\": {\"outlinewidth\": 0, \"ticks\": \"\"}}, \"marker\": {\"colorbar\": {\"outlinewidth\": 0, \"ticks\": \"\"}}, \"type\": \"scatter3d\"}], \"scattercarpet\": [{\"marker\": {\"colorbar\": {\"outlinewidth\": 0, \"ticks\": \"\"}}, \"type\": \"scattercarpet\"}], \"scattergeo\": [{\"marker\": {\"colorbar\": {\"outlinewidth\": 0, \"ticks\": \"\"}}, \"type\": \"scattergeo\"}], \"scattergl\": [{\"marker\": {\"colorbar\": {\"outlinewidth\": 0, \"ticks\": \"\"}}, \"type\": \"scattergl\"}], \"scattermapbox\": [{\"marker\": {\"colorbar\": {\"outlinewidth\": 0, \"ticks\": \"\"}}, \"type\": \"scattermapbox\"}], \"scatterpolar\": [{\"marker\": {\"colorbar\": {\"outlinewidth\": 0, \"ticks\": \"\"}}, \"type\": \"scatterpolar\"}], \"scatterpolargl\": [{\"marker\": {\"colorbar\": {\"outlinewidth\": 0, \"ticks\": \"\"}}, \"type\": \"scatterpolargl\"}], \"scatterternary\": [{\"marker\": {\"colorbar\": {\"outlinewidth\": 0, \"ticks\": \"\"}}, \"type\": \"scatterternary\"}], \"surface\": [{\"colorbar\": {\"outlinewidth\": 0, \"ticks\": \"\"}, \"colorscale\": [[0.0, \"#0d0887\"], [0.1111111111111111, \"#46039f\"], [0.2222222222222222, \"#7201a8\"], [0.3333333333333333, \"#9c179e\"], [0.4444444444444444, \"#bd3786\"], [0.5555555555555556, \"#d8576b\"], [0.6666666666666666, \"#ed7953\"], [0.7777777777777778, \"#fb9f3a\"], [0.8888888888888888, \"#fdca26\"], [1.0, \"#f0f921\"]], \"type\": \"surface\"}], \"table\": [{\"cells\": {\"fill\": {\"color\": \"#EBF0F8\"}, \"line\": {\"color\": \"white\"}}, \"header\": {\"fill\": {\"color\": \"#C8D4E3\"}, \"line\": {\"color\": \"white\"}}, \"type\": \"table\"}]}, \"layout\": {\"annotationdefaults\": {\"arrowcolor\": \"#2a3f5f\", \"arrowhead\": 0, \"arrowwidth\": 1}, \"coloraxis\": {\"colorbar\": {\"outlinewidth\": 0, \"ticks\": \"\"}}, \"colorscale\": {\"diverging\": [[0, \"#8e0152\"], [0.1, \"#c51b7d\"], [0.2, \"#de77ae\"], [0.3, \"#f1b6da\"], [0.4, \"#fde0ef\"], [0.5, \"#f7f7f7\"], [0.6, \"#e6f5d0\"], [0.7, \"#b8e186\"], [0.8, \"#7fbc41\"], [0.9, \"#4d9221\"], [1, \"#276419\"]], \"sequential\": [[0.0, \"#0d0887\"], [0.1111111111111111, \"#46039f\"], [0.2222222222222222, \"#7201a8\"], [0.3333333333333333, \"#9c179e\"], [0.4444444444444444, \"#bd3786\"], [0.5555555555555556, \"#d8576b\"], [0.6666666666666666, \"#ed7953\"], [0.7777777777777778, \"#fb9f3a\"], [0.8888888888888888, \"#fdca26\"], [1.0, \"#f0f921\"]], \"sequentialminus\": [[0.0, \"#0d0887\"], [0.1111111111111111, \"#46039f\"], [0.2222222222222222, \"#7201a8\"], [0.3333333333333333, \"#9c179e\"], [0.4444444444444444, \"#bd3786\"], [0.5555555555555556, \"#d8576b\"], [0.6666666666666666, \"#ed7953\"], [0.7777777777777778, \"#fb9f3a\"], [0.8888888888888888, \"#fdca26\"], [1.0, \"#f0f921\"]]}, \"colorway\": [\"#636efa\", \"#EF553B\", \"#00cc96\", \"#ab63fa\", \"#FFA15A\", \"#19d3f3\", \"#FF6692\", \"#B6E880\", \"#FF97FF\", \"#FECB52\"], \"font\": {\"color\": \"#2a3f5f\"}, \"geo\": {\"bgcolor\": \"white\", \"lakecolor\": \"white\", \"landcolor\": \"#E5ECF6\", \"showlakes\": true, \"showland\": true, \"subunitcolor\": \"white\"}, \"hoverlabel\": {\"align\": \"left\"}, \"hovermode\": \"closest\", \"mapbox\": {\"style\": \"light\"}, \"paper_bgcolor\": \"white\", \"plot_bgcolor\": \"#E5ECF6\", \"polar\": {\"angularaxis\": {\"gridcolor\": \"white\", \"linecolor\": \"white\", \"ticks\": \"\"}, \"bgcolor\": \"#E5ECF6\", \"radialaxis\": {\"gridcolor\": \"white\", \"linecolor\": \"white\", \"ticks\": \"\"}}, \"scene\": {\"xaxis\": {\"backgroundcolor\": \"#E5ECF6\", \"gridcolor\": \"white\", \"gridwidth\": 2, \"linecolor\": \"white\", \"showbackground\": true, \"ticks\": \"\", \"zerolinecolor\": \"white\"}, \"yaxis\": {\"backgroundcolor\": \"#E5ECF6\", \"gridcolor\": \"white\", \"gridwidth\": 2, \"linecolor\": \"white\", \"showbackground\": true, \"ticks\": \"\", \"zerolinecolor\": \"white\"}, \"zaxis\": {\"backgroundcolor\": \"#E5ECF6\", \"gridcolor\": \"white\", \"gridwidth\": 2, \"linecolor\": \"white\", \"showbackground\": true, \"ticks\": \"\", \"zerolinecolor\": \"white\"}}, \"shapedefaults\": {\"line\": {\"color\": \"#2a3f5f\"}}, \"ternary\": {\"aaxis\": {\"gridcolor\": \"white\", \"linecolor\": \"white\", \"ticks\": \"\"}, \"baxis\": {\"gridcolor\": \"white\", \"linecolor\": \"white\", \"ticks\": \"\"}, \"bgcolor\": \"#E5ECF6\", \"caxis\": {\"gridcolor\": \"white\", \"linecolor\": \"white\", \"ticks\": \"\"}}, \"title\": {\"x\": 0.05}, \"xaxis\": {\"automargin\": true, \"gridcolor\": \"white\", \"linecolor\": \"white\", \"ticks\": \"\", \"title\": {\"standoff\": 15}, \"zerolinecolor\": \"white\", \"zerolinewidth\": 2}, \"yaxis\": {\"automargin\": true, \"gridcolor\": \"white\", \"linecolor\": \"white\", \"ticks\": \"\", \"title\": {\"standoff\": 15}, \"zerolinecolor\": \"white\", \"zerolinewidth\": 2}}}, \"xaxis\": {\"anchor\": \"y\", \"domain\": [0.0, 1.0], \"title\": {\"text\": \"red blood cell count\"}}, \"yaxis\": {\"anchor\": \"x\", \"domain\": [0.0, 1.0], \"title\": {\"text\": \"albumin\"}}},\n",
              "                        {\"responsive\": true}\n",
              "                    ).then(function(){\n",
              "                            \n",
              "var gd = document.getElementById('5b08de23-e0fd-4396-aaeb-8f748f6d5055');\n",
              "var x = new MutationObserver(function (mutations, observer) {{\n",
              "        var display = window.getComputedStyle(gd).display;\n",
              "        if (!display || display === 'none') {{\n",
              "            console.log([gd, 'removed!']);\n",
              "            Plotly.purge(gd);\n",
              "            observer.disconnect();\n",
              "        }}\n",
              "}});\n",
              "\n",
              "// Listen for the removal of the full notebook cells\n",
              "var notebookContainer = gd.closest('#notebook-container');\n",
              "if (notebookContainer) {{\n",
              "    x.observe(notebookContainer, {childList: true});\n",
              "}}\n",
              "\n",
              "// Listen for the clearing of the current output cell\n",
              "var outputEl = gd.closest('.output');\n",
              "if (outputEl) {{\n",
              "    x.observe(outputEl, {childList: true});\n",
              "}}\n",
              "\n",
              "                        })\n",
              "                };\n",
              "                \n",
              "            </script>\n",
              "        </div>\n",
              "</body>\n",
              "</html>"
            ]
          },
          "metadata": {
            "tags": []
          }
        }
      ]
    },
    {
      "cell_type": "code",
      "metadata": {
        "colab": {
          "base_uri": "https://localhost:8080/"
        },
        "id": "CpNOuVVyCgM6",
        "outputId": "0b883502-b398-4e2e-b3ac-bd3fb8224cad"
      },
      "source": [
        "df.isna().sum().sort_values(ascending=False)"
      ],
      "execution_count": 62,
      "outputs": [
        {
          "output_type": "execute_result",
          "data": {
            "text/plain": [
              "red blood cells            152\n",
              "red blood cell count       131\n",
              "white blood cell count     106\n",
              "potassium                   88\n",
              "sodium                      87\n",
              "packed cell volume          71\n",
              " pus cell                   65\n",
              "haemoglobin                 52\n",
              "sugar                       49\n",
              "specific gravity            47\n",
              "albumin                     46\n",
              "blood glucose random        44\n",
              "blood urea                  19\n",
              "serum creatinine            17\n",
              "blood pressure              12\n",
              "age                          9\n",
              "bacteria                     4\n",
              "pus cell clumps              4\n",
              "ypertension                  2\n",
              "diabetes mellitus            2\n",
              "coronary artery disease      2\n",
              "anemia                       1\n",
              "appetite                     1\n",
              "pedal edema                  1\n",
              "class                        0\n",
              "dtype: int64"
            ]
          },
          "metadata": {
            "tags": []
          },
          "execution_count": 62
        }
      ]
    },
    {
      "cell_type": "code",
      "metadata": {
        "colab": {
          "base_uri": "https://localhost:8080/",
          "height": 296
        },
        "id": "r4BunPDCCydn",
        "outputId": "19f6eaec-b3ad-4e84-dc50-b87449cc95c1"
      },
      "source": [
        "sns.countplot(df['red blood cells'])"
      ],
      "execution_count": 63,
      "outputs": [
        {
          "output_type": "execute_result",
          "data": {
            "text/plain": [
              "<matplotlib.axes._subplots.AxesSubplot at 0x7f61a5b00090>"
            ]
          },
          "metadata": {
            "tags": []
          },
          "execution_count": 63
        },
        {
          "output_type": "display_data",
          "data": {
            "image/png": "[encoded data removed]",
            "text/plain": [
              "<Figure size 432x288 with 1 Axes>"
            ]
          },
          "metadata": {
            "tags": [],
            "needs_background": "light"
          }
        }
      ]
    },
    {
      "cell_type": "code",
      "metadata": {
        "id": "yMA_ZdXjDbLt"
      },
      "source": [
        "data=df.copy()"
      ],
      "execution_count": 64,
      "outputs": []
    },
    {
      "cell_type": "code",
      "metadata": {
        "colab": {
          "base_uri": "https://localhost:8080/",
          "height": 275
        },
        "id": "t2DfXJaCDvIn",
        "outputId": "461cbcd6-aac9-41e4-da7c-30d1f398aa04"
      },
      "source": [
        "data.head()"
      ],
      "execution_count": 65,
      "outputs": [
        {
          "output_type": "execute_result",
          "data": {
            "text/html": [
              "<div>\n",
              "<style scoped>\n",
              "    .dataframe tbody tr th:only-of-type {\n",
              "        vertical-align: middle;\n",
              "    }\n",
              "\n",
              "    .dataframe tbody tr th {\n",
              "        vertical-align: top;\n",
              "    }\n",
              "\n",
              "    .dataframe thead th {\n",
              "        text-align: right;\n",
              "    }\n",
              "</style>\n",
              "<table border=\"1\" class=\"dataframe\">\n",
              "  <thead>\n",
              "    <tr style=\"text-align: right;\">\n",
              "      <th></th>\n",
              "      <th>age</th>\n",
              "      <th>blood pressure</th>\n",
              "      <th>specific gravity</th>\n",
              "      <th>albumin</th>\n",
              "      <th>sugar</th>\n",
              "      <th>red blood cells</th>\n",
              "      <th>pus cell</th>\n",
              "      <th>pus cell clumps</th>\n",
              "      <th>bacteria</th>\n",
              "      <th>blood glucose random</th>\n",
              "      <th>blood urea</th>\n",
              "      <th>serum creatinine</th>\n",
              "      <th>sodium</th>\n",
              "      <th>potassium</th>\n",
              "      <th>haemoglobin</th>\n",
              "      <th>packed cell volume</th>\n",
              "      <th>white blood cell count</th>\n",
              "      <th>red blood cell count</th>\n",
              "      <th>ypertension</th>\n",
              "      <th>diabetes mellitus</th>\n",
              "      <th>coronary artery disease</th>\n",
              "      <th>appetite</th>\n",
              "      <th>pedal edema</th>\n",
              "      <th>anemia</th>\n",
              "      <th>class</th>\n",
              "    </tr>\n",
              "  </thead>\n",
              "  <tbody>\n",
              "    <tr>\n",
              "      <th>0</th>\n",
              "      <td>48.0</td>\n",
              "      <td>80.0</td>\n",
              "      <td>1.020</td>\n",
              "      <td>1.0</td>\n",
              "      <td>0.0</td>\n",
              "      <td>NaN</td>\n",
              "      <td>normal</td>\n",
              "      <td>notpresent</td>\n",
              "      <td>notpresent</td>\n",
              "      <td>121.0</td>\n",
              "      <td>36.0</td>\n",
              "      <td>1.2</td>\n",
              "      <td>NaN</td>\n",
              "      <td>NaN</td>\n",
              "      <td>15.4</td>\n",
              "      <td>44.0</td>\n",
              "      <td>7800.0</td>\n",
              "      <td>5.2</td>\n",
              "      <td>yes</td>\n",
              "      <td>yes</td>\n",
              "      <td>no</td>\n",
              "      <td>good</td>\n",
              "      <td>no</td>\n",
              "      <td>no</td>\n",
              "      <td>ckd</td>\n",
              "    </tr>\n",
              "    <tr>\n",
              "      <th>1</th>\n",
              "      <td>7.0</td>\n",
              "      <td>50.0</td>\n",
              "      <td>1.020</td>\n",
              "      <td>4.0</td>\n",
              "      <td>0.0</td>\n",
              "      <td>NaN</td>\n",
              "      <td>normal</td>\n",
              "      <td>notpresent</td>\n",
              "      <td>notpresent</td>\n",
              "      <td>NaN</td>\n",
              "      <td>18.0</td>\n",
              "      <td>0.8</td>\n",
              "      <td>NaN</td>\n",
              "      <td>NaN</td>\n",
              "      <td>11.3</td>\n",
              "      <td>38.0</td>\n",
              "      <td>6000.0</td>\n",
              "      <td>NaN</td>\n",
              "      <td>no</td>\n",
              "      <td>no</td>\n",
              "      <td>no</td>\n",
              "      <td>good</td>\n",
              "      <td>no</td>\n",
              "      <td>no</td>\n",
              "      <td>ckd</td>\n",
              "    </tr>\n",
              "    <tr>\n",
              "      <th>2</th>\n",
              "      <td>62.0</td>\n",
              "      <td>80.0</td>\n",
              "      <td>1.010</td>\n",
              "      <td>2.0</td>\n",
              "      <td>3.0</td>\n",
              "      <td>normal</td>\n",
              "      <td>normal</td>\n",
              "      <td>notpresent</td>\n",
              "      <td>notpresent</td>\n",
              "      <td>423.0</td>\n",
              "      <td>53.0</td>\n",
              "      <td>1.8</td>\n",
              "      <td>NaN</td>\n",
              "      <td>NaN</td>\n",
              "      <td>9.6</td>\n",
              "      <td>31.0</td>\n",
              "      <td>7500.0</td>\n",
              "      <td>NaN</td>\n",
              "      <td>no</td>\n",
              "      <td>yes</td>\n",
              "      <td>no</td>\n",
              "      <td>poor</td>\n",
              "      <td>no</td>\n",
              "      <td>yes</td>\n",
              "      <td>ckd</td>\n",
              "    </tr>\n",
              "    <tr>\n",
              "      <th>3</th>\n",
              "      <td>48.0</td>\n",
              "      <td>70.0</td>\n",
              "      <td>1.005</td>\n",
              "      <td>4.0</td>\n",
              "      <td>0.0</td>\n",
              "      <td>normal</td>\n",
              "      <td>abnormal</td>\n",
              "      <td>present</td>\n",
              "      <td>notpresent</td>\n",
              "      <td>117.0</td>\n",
              "      <td>56.0</td>\n",
              "      <td>3.8</td>\n",
              "      <td>111.0</td>\n",
              "      <td>2.5</td>\n",
              "      <td>11.2</td>\n",
              "      <td>32.0</td>\n",
              "      <td>6700.0</td>\n",
              "      <td>3.9</td>\n",
              "      <td>yes</td>\n",
              "      <td>no</td>\n",
              "      <td>no</td>\n",
              "      <td>poor</td>\n",
              "      <td>yes</td>\n",
              "      <td>yes</td>\n",
              "      <td>ckd</td>\n",
              "    </tr>\n",
              "    <tr>\n",
              "      <th>4</th>\n",
              "      <td>51.0</td>\n",
              "      <td>80.0</td>\n",
              "      <td>1.010</td>\n",
              "      <td>2.0</td>\n",
              "      <td>0.0</td>\n",
              "      <td>normal</td>\n",
              "      <td>normal</td>\n",
              "      <td>notpresent</td>\n",
              "      <td>notpresent</td>\n",
              "      <td>106.0</td>\n",
              "      <td>26.0</td>\n",
              "      <td>1.4</td>\n",
              "      <td>NaN</td>\n",
              "      <td>NaN</td>\n",
              "      <td>11.6</td>\n",
              "      <td>35.0</td>\n",
              "      <td>7300.0</td>\n",
              "      <td>4.6</td>\n",
              "      <td>no</td>\n",
              "      <td>no</td>\n",
              "      <td>no</td>\n",
              "      <td>good</td>\n",
              "      <td>no</td>\n",
              "      <td>no</td>\n",
              "      <td>ckd</td>\n",
              "    </tr>\n",
              "  </tbody>\n",
              "</table>\n",
              "</div>"
            ],
            "text/plain": [
              "    age  blood pressure  specific gravity  ...  pedal edema  anemia class\n",
              "0  48.0            80.0             1.020  ...           no      no   ckd\n",
              "1   7.0            50.0             1.020  ...           no      no   ckd\n",
              "2  62.0            80.0             1.010  ...           no     yes   ckd\n",
              "3  48.0            70.0             1.005  ...          yes     yes   ckd\n",
              "4  51.0            80.0             1.010  ...           no      no   ckd\n",
              "\n",
              "[5 rows x 25 columns]"
            ]
          },
          "metadata": {
            "tags": []
          },
          "execution_count": 65
        }
      ]
    },
    {
      "cell_type": "code",
      "metadata": {
        "colab": {
          "base_uri": "https://localhost:8080/"
        },
        "id": "bDbV7s2EDxgC",
        "outputId": "7046d619-217e-4f21-eebf-2b220fbcadb8"
      },
      "source": [
        "data['red blood cells'].dropna().sample()"
      ],
      "execution_count": 67,
      "outputs": [
        {
          "output_type": "execute_result",
          "data": {
            "text/plain": [
              "341    normal\n",
              "Name: red blood cells, dtype: object"
            ]
          },
          "metadata": {
            "tags": []
          },
          "execution_count": 67
        }
      ]
    },
    {
      "cell_type": "code",
      "metadata": {
        "colab": {
          "base_uri": "https://localhost:8080/"
        },
        "id": "BQNdM7SrD-oP",
        "outputId": "b17a41d4-5da8-4db6-ac8a-16ead5ddd218"
      },
      "source": [
        "data['red blood cells'].isnull().sum()"
      ],
      "execution_count": 68,
      "outputs": [
        {
          "output_type": "execute_result",
          "data": {
            "text/plain": [
              "152"
            ]
          },
          "metadata": {
            "tags": []
          },
          "execution_count": 68
        }
      ]
    },
    {
      "cell_type": "code",
      "metadata": {
        "colab": {
          "base_uri": "https://localhost:8080/"
        },
        "id": "uSW7ihizEOek",
        "outputId": "a8538712-ea48-4f67-d45c-4d0f3b719602"
      },
      "source": [
        "random_sample=data['red blood cells'].dropna().sample(data['red blood cells'].isnull().sum())\n",
        "random_sample"
      ],
      "execution_count": 70,
      "outputs": [
        {
          "output_type": "execute_result",
          "data": {
            "text/plain": [
              "328      normal\n",
              "66     abnormal\n",
              "114    abnormal\n",
              "325      normal\n",
              "337      normal\n",
              "         ...   \n",
              "371      normal\n",
              "29     abnormal\n",
              "248    abnormal\n",
              "284      normal\n",
              "127      normal\n",
              "Name: red blood cells, Length: 152, dtype: object"
            ]
          },
          "metadata": {
            "tags": []
          },
          "execution_count": 70
        }
      ]
    },
    {
      "cell_type": "code",
      "metadata": {
        "colab": {
          "base_uri": "https://localhost:8080/"
        },
        "id": "8xcKmFrYEbYi",
        "outputId": "c4017906-9f58-4ea1-a910-7eb3f4ccbb09"
      },
      "source": [
        "data[data['red blood cells'].isnull()].index"
      ],
      "execution_count": 71,
      "outputs": [
        {
          "output_type": "execute_result",
          "data": {
            "text/plain": [
              "Int64Index([  0,   1,   5,   6,  10,  12,  13,  15,  16,  17,\n",
              "            ...\n",
              "            245, 268, 280, 290, 295, 309, 322, 349, 350, 381],\n",
              "           dtype='int64', length=152)"
            ]
          },
          "metadata": {
            "tags": []
          },
          "execution_count": 71
        }
      ]
    },
    {
      "cell_type": "code",
      "metadata": {
        "colab": {
          "base_uri": "https://localhost:8080/"
        },
        "id": "dj1lyfI1E55e",
        "outputId": "c29b4a0b-ef01-425d-c275-aeaa892a9c6c"
      },
      "source": [
        "random_sample.index"
      ],
      "execution_count": 72,
      "outputs": [
        {
          "output_type": "execute_result",
          "data": {
            "text/plain": [
              "Int64Index([328,  66, 114, 325, 337, 171, 398, 358, 326, 315,\n",
              "            ...\n",
              "            232, 178, 378, 339, 107, 371,  29, 248, 284, 127],\n",
              "           dtype='int64', length=152)"
            ]
          },
          "metadata": {
            "tags": []
          },
          "execution_count": 72
        }
      ]
    },
    {
      "cell_type": "code",
      "metadata": {
        "colab": {
          "base_uri": "https://localhost:8080/"
        },
        "id": "l_eSYiMvFCJS",
        "outputId": "d8127334-0549-4bb8-8111-479b776d1de4"
      },
      "source": [
        "random_sample.index=data[data['red blood cells'].isnull()].index\n",
        "random_sample.index"
      ],
      "execution_count": 74,
      "outputs": [
        {
          "output_type": "execute_result",
          "data": {
            "text/plain": [
              "Int64Index([  0,   1,   5,   6,  10,  12,  13,  15,  16,  17,\n",
              "            ...\n",
              "            245, 268, 280, 290, 295, 309, 322, 349, 350, 381],\n",
              "           dtype='int64', length=152)"
            ]
          },
          "metadata": {
            "tags": []
          },
          "execution_count": 74
        }
      ]
    },
    {
      "cell_type": "code",
      "metadata": {
        "colab": {
          "base_uri": "https://localhost:8080/"
        },
        "id": "zdZAwrXCFVAv",
        "outputId": "cf3dfea6-5a23-461b-ed00-cef0d4aab03d"
      },
      "source": [
        "random_sample"
      ],
      "execution_count": 75,
      "outputs": [
        {
          "output_type": "execute_result",
          "data": {
            "text/plain": [
              "0        normal\n",
              "1      abnormal\n",
              "5      abnormal\n",
              "6        normal\n",
              "10       normal\n",
              "         ...   \n",
              "309      normal\n",
              "322    abnormal\n",
              "349    abnormal\n",
              "350      normal\n",
              "381      normal\n",
              "Name: red blood cells, Length: 152, dtype: object"
            ]
          },
          "metadata": {
            "tags": []
          },
          "execution_count": 75
        }
      ]
    },
    {
      "cell_type": "code",
      "metadata": {
        "id": "4deN4Fn-FZY6"
      },
      "source": [
        "data.loc[data['red blood cells'].isnull(),'red blood cells']=random_sample"
      ],
      "execution_count": 78,
      "outputs": []
    },
    {
      "cell_type": "code",
      "metadata": {
        "colab": {
          "base_uri": "https://localhost:8080/",
          "height": 275
        },
        "id": "OMk00PYiGB7S",
        "outputId": "b217126f-a5f9-4f3d-ed9e-32aea5a37323"
      },
      "source": [
        "data.head()"
      ],
      "execution_count": 79,
      "outputs": [
        {
          "output_type": "execute_result",
          "data": {
            "text/html": [
              "<div>\n",
              "<style scoped>\n",
              "    .dataframe tbody tr th:only-of-type {\n",
              "        vertical-align: middle;\n",
              "    }\n",
              "\n",
              "    .dataframe tbody tr th {\n",
              "        vertical-align: top;\n",
              "    }\n",
              "\n",
              "    .dataframe thead th {\n",
              "        text-align: right;\n",
              "    }\n",
              "</style>\n",
              "<table border=\"1\" class=\"dataframe\">\n",
              "  <thead>\n",
              "    <tr style=\"text-align: right;\">\n",
              "      <th></th>\n",
              "      <th>age</th>\n",
              "      <th>blood pressure</th>\n",
              "      <th>specific gravity</th>\n",
              "      <th>albumin</th>\n",
              "      <th>sugar</th>\n",
              "      <th>red blood cells</th>\n",
              "      <th>pus cell</th>\n",
              "      <th>pus cell clumps</th>\n",
              "      <th>bacteria</th>\n",
              "      <th>blood glucose random</th>\n",
              "      <th>blood urea</th>\n",
              "      <th>serum creatinine</th>\n",
              "      <th>sodium</th>\n",
              "      <th>potassium</th>\n",
              "      <th>haemoglobin</th>\n",
              "      <th>packed cell volume</th>\n",
              "      <th>white blood cell count</th>\n",
              "      <th>red blood cell count</th>\n",
              "      <th>ypertension</th>\n",
              "      <th>diabetes mellitus</th>\n",
              "      <th>coronary artery disease</th>\n",
              "      <th>appetite</th>\n",
              "      <th>pedal edema</th>\n",
              "      <th>anemia</th>\n",
              "      <th>class</th>\n",
              "    </tr>\n",
              "  </thead>\n",
              "  <tbody>\n",
              "    <tr>\n",
              "      <th>0</th>\n",
              "      <td>48.0</td>\n",
              "      <td>80.0</td>\n",
              "      <td>1.020</td>\n",
              "      <td>1.0</td>\n",
              "      <td>0.0</td>\n",
              "      <td>normal</td>\n",
              "      <td>normal</td>\n",
              "      <td>notpresent</td>\n",
              "      <td>notpresent</td>\n",
              "      <td>121.0</td>\n",
              "      <td>36.0</td>\n",
              "      <td>1.2</td>\n",
              "      <td>NaN</td>\n",
              "      <td>NaN</td>\n",
              "      <td>15.4</td>\n",
              "      <td>44.0</td>\n",
              "      <td>7800.0</td>\n",
              "      <td>5.2</td>\n",
              "      <td>yes</td>\n",
              "      <td>yes</td>\n",
              "      <td>no</td>\n",
              "      <td>good</td>\n",
              "      <td>no</td>\n",
              "      <td>no</td>\n",
              "      <td>ckd</td>\n",
              "    </tr>\n",
              "    <tr>\n",
              "      <th>1</th>\n",
              "      <td>7.0</td>\n",
              "      <td>50.0</td>\n",
              "      <td>1.020</td>\n",
              "      <td>4.0</td>\n",
              "      <td>0.0</td>\n",
              "      <td>abnormal</td>\n",
              "      <td>normal</td>\n",
              "      <td>notpresent</td>\n",
              "      <td>notpresent</td>\n",
              "      <td>NaN</td>\n",
              "      <td>18.0</td>\n",
              "      <td>0.8</td>\n",
              "      <td>NaN</td>\n",
              "      <td>NaN</td>\n",
              "      <td>11.3</td>\n",
              "      <td>38.0</td>\n",
              "      <td>6000.0</td>\n",
              "      <td>NaN</td>\n",
              "      <td>no</td>\n",
              "      <td>no</td>\n",
              "      <td>no</td>\n",
              "      <td>good</td>\n",
              "      <td>no</td>\n",
              "      <td>no</td>\n",
              "      <td>ckd</td>\n",
              "    </tr>\n",
              "    <tr>\n",
              "      <th>2</th>\n",
              "      <td>62.0</td>\n",
              "      <td>80.0</td>\n",
              "      <td>1.010</td>\n",
              "      <td>2.0</td>\n",
              "      <td>3.0</td>\n",
              "      <td>normal</td>\n",
              "      <td>normal</td>\n",
              "      <td>notpresent</td>\n",
              "      <td>notpresent</td>\n",
              "      <td>423.0</td>\n",
              "      <td>53.0</td>\n",
              "      <td>1.8</td>\n",
              "      <td>NaN</td>\n",
              "      <td>NaN</td>\n",
              "      <td>9.6</td>\n",
              "      <td>31.0</td>\n",
              "      <td>7500.0</td>\n",
              "      <td>NaN</td>\n",
              "      <td>no</td>\n",
              "      <td>yes</td>\n",
              "      <td>no</td>\n",
              "      <td>poor</td>\n",
              "      <td>no</td>\n",
              "      <td>yes</td>\n",
              "      <td>ckd</td>\n",
              "    </tr>\n",
              "    <tr>\n",
              "      <th>3</th>\n",
              "      <td>48.0</td>\n",
              "      <td>70.0</td>\n",
              "      <td>1.005</td>\n",
              "      <td>4.0</td>\n",
              "      <td>0.0</td>\n",
              "      <td>normal</td>\n",
              "      <td>abnormal</td>\n",
              "      <td>present</td>\n",
              "      <td>notpresent</td>\n",
              "      <td>117.0</td>\n",
              "      <td>56.0</td>\n",
              "      <td>3.8</td>\n",
              "      <td>111.0</td>\n",
              "      <td>2.5</td>\n",
              "      <td>11.2</td>\n",
              "      <td>32.0</td>\n",
              "      <td>6700.0</td>\n",
              "      <td>3.9</td>\n",
              "      <td>yes</td>\n",
              "      <td>no</td>\n",
              "      <td>no</td>\n",
              "      <td>poor</td>\n",
              "      <td>yes</td>\n",
              "      <td>yes</td>\n",
              "      <td>ckd</td>\n",
              "    </tr>\n",
              "    <tr>\n",
              "      <th>4</th>\n",
              "      <td>51.0</td>\n",
              "      <td>80.0</td>\n",
              "      <td>1.010</td>\n",
              "      <td>2.0</td>\n",
              "      <td>0.0</td>\n",
              "      <td>normal</td>\n",
              "      <td>normal</td>\n",
              "      <td>notpresent</td>\n",
              "      <td>notpresent</td>\n",
              "      <td>106.0</td>\n",
              "      <td>26.0</td>\n",
              "      <td>1.4</td>\n",
              "      <td>NaN</td>\n",
              "      <td>NaN</td>\n",
              "      <td>11.6</td>\n",
              "      <td>35.0</td>\n",
              "      <td>7300.0</td>\n",
              "      <td>4.6</td>\n",
              "      <td>no</td>\n",
              "      <td>no</td>\n",
              "      <td>no</td>\n",
              "      <td>good</td>\n",
              "      <td>no</td>\n",
              "      <td>no</td>\n",
              "      <td>ckd</td>\n",
              "    </tr>\n",
              "  </tbody>\n",
              "</table>\n",
              "</div>"
            ],
            "text/plain": [
              "    age  blood pressure  specific gravity  ...  pedal edema  anemia class\n",
              "0  48.0            80.0             1.020  ...           no      no   ckd\n",
              "1   7.0            50.0             1.020  ...           no      no   ckd\n",
              "2  62.0            80.0             1.010  ...           no     yes   ckd\n",
              "3  48.0            70.0             1.005  ...          yes     yes   ckd\n",
              "4  51.0            80.0             1.010  ...           no      no   ckd\n",
              "\n",
              "[5 rows x 25 columns]"
            ]
          },
          "metadata": {
            "tags": []
          },
          "execution_count": 79
        }
      ]
    },
    {
      "cell_type": "code",
      "metadata": {
        "colab": {
          "base_uri": "https://localhost:8080/"
        },
        "id": "IcVhsFMGGFGp",
        "outputId": "b83b3a21-7770-42cf-cb43-d04dd9dfcbd9"
      },
      "source": [
        "data['red blood cells'].isnull().sum()"
      ],
      "execution_count": 80,
      "outputs": [
        {
          "output_type": "execute_result",
          "data": {
            "text/plain": [
              "0"
            ]
          },
          "metadata": {
            "tags": []
          },
          "execution_count": 80
        }
      ]
    },
    {
      "cell_type": "code",
      "metadata": {
        "colab": {
          "base_uri": "https://localhost:8080/",
          "height": 296
        },
        "id": "nkagX9S0GMEL",
        "outputId": "baf60ca0-c42e-448e-d2b0-fe4f89036574"
      },
      "source": [
        "sns.countplot(data['red blood cells'])"
      ],
      "execution_count": 81,
      "outputs": [
        {
          "output_type": "execute_result",
          "data": {
            "text/plain": [
              "<matplotlib.axes._subplots.AxesSubplot at 0x7f61a5dcc7d0>"
            ]
          },
          "metadata": {
            "tags": []
          },
          "execution_count": 81
        },
        {
          "output_type": "display_data",
          "data": {
            "image/png": "[encoded data removed]",
            "text/plain": [
              "<Figure size 432x288 with 1 Axes>"
            ]
          },
          "metadata": {
            "tags": [],
            "needs_background": "light"
          }
        }
      ]
    },
    {
      "cell_type": "code",
      "metadata": {
        "id": "STPqjin9GWa-"
      },
      "source": [
        "def Random_value_imputation(feature):\n",
        "  random_sample=data[feature].dropna().sample(data[feature].isnull().sum())\n",
        "  random_sample.index=data[data[feature].isnull()].index\n",
        "  data.loc[data[feature].isnull(),feature]=random_sample"
      ],
      "execution_count": 82,
      "outputs": []
    },
    {
      "cell_type": "code",
      "metadata": {
        "colab": {
          "base_uri": "https://localhost:8080/"
        },
        "id": "7o0dpqAfHS0J",
        "outputId": "f4259099-dd99-46ad-b447-cb8a289fc807"
      },
      "source": [
        "data[num_col].isnull().sum()"
      ],
      "execution_count": 83,
      "outputs": [
        {
          "output_type": "execute_result",
          "data": {
            "text/plain": [
              "age                         9\n",
              "blood pressure             12\n",
              "specific gravity           47\n",
              "albumin                    46\n",
              "sugar                      49\n",
              "blood glucose random       44\n",
              "blood urea                 19\n",
              "serum creatinine           17\n",
              "sodium                     87\n",
              "potassium                  88\n",
              "haemoglobin                52\n",
              "packed cell volume         71\n",
              "white blood cell count    106\n",
              "red blood cell count      131\n",
              "dtype: int64"
            ]
          },
          "metadata": {
            "tags": []
          },
          "execution_count": 83
        }
      ]
    },
    {
      "cell_type": "code",
      "metadata": {
        "id": "lNSI0l0bHBiM"
      },
      "source": [
        "Random_value_imputation()"
      ],
      "execution_count": null,
      "outputs": []
    },
    {
      "cell_type": "code",
      "metadata": {
        "id": "652m1HIlHaI5"
      },
      "source": [
        "for col in num_col:\n",
        "  Random_value_imputation(col)"
      ],
      "execution_count": 84,
      "outputs": []
    },
    {
      "cell_type": "code",
      "metadata": {
        "colab": {
          "base_uri": "https://localhost:8080/"
        },
        "id": "bC_s0UGIHjuc",
        "outputId": "b59f6b95-b17d-4d4f-84a4-ccb058846f13"
      },
      "source": [
        "data[num_col].isnull().sum()"
      ],
      "execution_count": 85,
      "outputs": [
        {
          "output_type": "execute_result",
          "data": {
            "text/plain": [
              "age                       0\n",
              "blood pressure            0\n",
              "specific gravity          0\n",
              "albumin                   0\n",
              "sugar                     0\n",
              "blood glucose random      0\n",
              "blood urea                0\n",
              "serum creatinine          0\n",
              "sodium                    0\n",
              "potassium                 0\n",
              "haemoglobin               0\n",
              "packed cell volume        0\n",
              "white blood cell count    0\n",
              "red blood cell count      0\n",
              "dtype: int64"
            ]
          },
          "metadata": {
            "tags": []
          },
          "execution_count": 85
        }
      ]
    },
    {
      "cell_type": "code",
      "metadata": {
        "colab": {
          "base_uri": "https://localhost:8080/"
        },
        "id": "vGtnEUSqHqlr",
        "outputId": "9daced2c-cd47-4b97-9f6c-be38c7162a15"
      },
      "source": [
        "data[cat_col].isnull().sum()"
      ],
      "execution_count": 86,
      "outputs": [
        {
          "output_type": "execute_result",
          "data": {
            "text/plain": [
              "red blood cells             0\n",
              " pus cell                  65\n",
              "pus cell clumps             4\n",
              "bacteria                    4\n",
              "ypertension                 2\n",
              "diabetes mellitus           2\n",
              "coronary artery disease     2\n",
              "appetite                    1\n",
              "pedal edema                 1\n",
              "anemia                      1\n",
              "class                       0\n",
              "dtype: int64"
            ]
          },
          "metadata": {
            "tags": []
          },
          "execution_count": 86
        }
      ]
    },
    {
      "cell_type": "code",
      "metadata": {
        "id": "-AevVSy_HmsC"
      },
      "source": [
        "Random_value_imputation(' pus cell') "
      ],
      "execution_count": 87,
      "outputs": []
    },
    {
      "cell_type": "code",
      "metadata": {
        "colab": {
          "base_uri": "https://localhost:8080/",
          "height": 35
        },
        "id": "BzQlyK64H2Fj",
        "outputId": "a5922bf4-2886-4824-f91f-5fa1aa4350b6"
      },
      "source": [
        "data['pus cell clumps'].mode()[0]"
      ],
      "execution_count": 89,
      "outputs": [
        {
          "output_type": "execute_result",
          "data": {
            "application/vnd.google.colaboratory.intrinsic+json": {
              "type": "string"
            },
            "text/plain": [
              "'notpresent'"
            ]
          },
          "metadata": {
            "tags": []
          },
          "execution_count": 89
        }
      ]
    },
    {
      "cell_type": "code",
      "metadata": {
        "id": "a3xCfgt3Iezc"
      },
      "source": [
        "def impute_mode(feature):\n",
        "  mode=data[feature].mode()[0]\n",
        "  data[feature]=data[feature].fillna(mode)\n",
        "  "
      ],
      "execution_count": 90,
      "outputs": []
    },
    {
      "cell_type": "code",
      "metadata": {
        "id": "S_b1AM-QI5W0"
      },
      "source": [
        "for col in cat_col:\n",
        "  impute_mode(col)\n"
      ],
      "execution_count": 91,
      "outputs": []
    },
    {
      "cell_type": "code",
      "metadata": {
        "colab": {
          "base_uri": "https://localhost:8080/"
        },
        "id": "HcQfqbz3JEno",
        "outputId": "5a59380a-2d93-4ee3-ae76-be34125ce032"
      },
      "source": [
        "data[cat_col].isnull().sum()"
      ],
      "execution_count": 92,
      "outputs": [
        {
          "output_type": "execute_result",
          "data": {
            "text/plain": [
              "red blood cells            0\n",
              " pus cell                  0\n",
              "pus cell clumps            0\n",
              "bacteria                   0\n",
              "ypertension                0\n",
              "diabetes mellitus          0\n",
              "coronary artery disease    0\n",
              "appetite                   0\n",
              "pedal edema                0\n",
              "anemia                     0\n",
              "class                      0\n",
              "dtype: int64"
            ]
          },
          "metadata": {
            "tags": []
          },
          "execution_count": 92
        }
      ]
    },
    {
      "cell_type": "code",
      "metadata": {
        "colab": {
          "base_uri": "https://localhost:8080/"
        },
        "id": "okQopheiJNVd",
        "outputId": "3cf2cab6-56a5-4eb9-b5a6-96dea3918240"
      },
      "source": [
        "for col in cat_col:\n",
        "  print('{} has {} categories'.format(col,data[col].nunique()))"
      ],
      "execution_count": 93,
      "outputs": [
        {
          "output_type": "stream",
          "text": [
            "red blood cells has 2 categories\n",
            " pus cell has 2 categories\n",
            "pus cell clumps has 2 categories\n",
            "bacteria has 2 categories\n",
            "ypertension has 2 categories\n",
            "diabetes mellitus has 3 categories\n",
            "coronary artery disease has 2 categories\n",
            "appetite has 2 categories\n",
            "pedal edema has 2 categories\n",
            "anemia has 2 categories\n",
            "class has 2 categories\n"
          ],
          "name": "stdout"
        }
      ]
    },
    {
      "cell_type": "code",
      "metadata": {
        "id": "vXDZ4uKMKMqE"
      },
      "source": [
        "# label encoding when very few no of categories"
      ],
      "execution_count": 94,
      "outputs": []
    },
    {
      "cell_type": "code",
      "metadata": {
        "id": "Y3srVokyKjHO"
      },
      "source": [
        "from sklearn.preprocessing import LabelEncoder"
      ],
      "execution_count": 95,
      "outputs": []
    },
    {
      "cell_type": "code",
      "metadata": {
        "id": "01QDBmRQKqmD"
      },
      "source": [
        "le=LabelEncoder()"
      ],
      "execution_count": 99,
      "outputs": []
    },
    {
      "cell_type": "code",
      "metadata": {
        "id": "9Aa33wcWKuM7"
      },
      "source": [
        "for col in cat_col:\n",
        "  data[col]=le.fit_transform(data[col])"
      ],
      "execution_count": 100,
      "outputs": []
    },
    {
      "cell_type": "code",
      "metadata": {
        "colab": {
          "base_uri": "https://localhost:8080/",
          "height": 275
        },
        "id": "EnqSIOMILE5w",
        "outputId": "a0d88a8f-c17c-4d66-e60b-b87ce358805c"
      },
      "source": [
        "data.head()"
      ],
      "execution_count": 101,
      "outputs": [
        {
          "output_type": "execute_result",
          "data": {
            "text/html": [
              "<div>\n",
              "<style scoped>\n",
              "    .dataframe tbody tr th:only-of-type {\n",
              "        vertical-align: middle;\n",
              "    }\n",
              "\n",
              "    .dataframe tbody tr th {\n",
              "        vertical-align: top;\n",
              "    }\n",
              "\n",
              "    .dataframe thead th {\n",
              "        text-align: right;\n",
              "    }\n",
              "</style>\n",
              "<table border=\"1\" class=\"dataframe\">\n",
              "  <thead>\n",
              "    <tr style=\"text-align: right;\">\n",
              "      <th></th>\n",
              "      <th>age</th>\n",
              "      <th>blood pressure</th>\n",
              "      <th>specific gravity</th>\n",
              "      <th>albumin</th>\n",
              "      <th>sugar</th>\n",
              "      <th>red blood cells</th>\n",
              "      <th>pus cell</th>\n",
              "      <th>pus cell clumps</th>\n",
              "      <th>bacteria</th>\n",
              "      <th>blood glucose random</th>\n",
              "      <th>blood urea</th>\n",
              "      <th>serum creatinine</th>\n",
              "      <th>sodium</th>\n",
              "      <th>potassium</th>\n",
              "      <th>haemoglobin</th>\n",
              "      <th>packed cell volume</th>\n",
              "      <th>white blood cell count</th>\n",
              "      <th>red blood cell count</th>\n",
              "      <th>ypertension</th>\n",
              "      <th>diabetes mellitus</th>\n",
              "      <th>coronary artery disease</th>\n",
              "      <th>appetite</th>\n",
              "      <th>pedal edema</th>\n",
              "      <th>anemia</th>\n",
              "      <th>class</th>\n",
              "    </tr>\n",
              "  </thead>\n",
              "  <tbody>\n",
              "    <tr>\n",
              "      <th>0</th>\n",
              "      <td>48.0</td>\n",
              "      <td>80.0</td>\n",
              "      <td>1.020</td>\n",
              "      <td>1.0</td>\n",
              "      <td>0.0</td>\n",
              "      <td>1</td>\n",
              "      <td>1</td>\n",
              "      <td>0</td>\n",
              "      <td>0</td>\n",
              "      <td>121.0</td>\n",
              "      <td>36.0</td>\n",
              "      <td>1.2</td>\n",
              "      <td>136.0</td>\n",
              "      <td>5.0</td>\n",
              "      <td>15.4</td>\n",
              "      <td>44.0</td>\n",
              "      <td>7800.0</td>\n",
              "      <td>5.2</td>\n",
              "      <td>1</td>\n",
              "      <td>2</td>\n",
              "      <td>0</td>\n",
              "      <td>0</td>\n",
              "      <td>0</td>\n",
              "      <td>0</td>\n",
              "      <td>0</td>\n",
              "    </tr>\n",
              "    <tr>\n",
              "      <th>1</th>\n",
              "      <td>7.0</td>\n",
              "      <td>50.0</td>\n",
              "      <td>1.020</td>\n",
              "      <td>4.0</td>\n",
              "      <td>0.0</td>\n",
              "      <td>0</td>\n",
              "      <td>1</td>\n",
              "      <td>0</td>\n",
              "      <td>0</td>\n",
              "      <td>112.0</td>\n",
              "      <td>18.0</td>\n",
              "      <td>0.8</td>\n",
              "      <td>135.0</td>\n",
              "      <td>4.6</td>\n",
              "      <td>11.3</td>\n",
              "      <td>38.0</td>\n",
              "      <td>6000.0</td>\n",
              "      <td>3.9</td>\n",
              "      <td>0</td>\n",
              "      <td>1</td>\n",
              "      <td>0</td>\n",
              "      <td>0</td>\n",
              "      <td>0</td>\n",
              "      <td>0</td>\n",
              "      <td>0</td>\n",
              "    </tr>\n",
              "    <tr>\n",
              "      <th>2</th>\n",
              "      <td>62.0</td>\n",
              "      <td>80.0</td>\n",
              "      <td>1.010</td>\n",
              "      <td>2.0</td>\n",
              "      <td>3.0</td>\n",
              "      <td>1</td>\n",
              "      <td>1</td>\n",
              "      <td>0</td>\n",
              "      <td>0</td>\n",
              "      <td>423.0</td>\n",
              "      <td>53.0</td>\n",
              "      <td>1.8</td>\n",
              "      <td>142.0</td>\n",
              "      <td>4.5</td>\n",
              "      <td>9.6</td>\n",
              "      <td>31.0</td>\n",
              "      <td>7500.0</td>\n",
              "      <td>5.7</td>\n",
              "      <td>0</td>\n",
              "      <td>2</td>\n",
              "      <td>0</td>\n",
              "      <td>1</td>\n",
              "      <td>0</td>\n",
              "      <td>1</td>\n",
              "      <td>0</td>\n",
              "    </tr>\n",
              "    <tr>\n",
              "      <th>3</th>\n",
              "      <td>48.0</td>\n",
              "      <td>70.0</td>\n",
              "      <td>1.005</td>\n",
              "      <td>4.0</td>\n",
              "      <td>0.0</td>\n",
              "      <td>1</td>\n",
              "      <td>0</td>\n",
              "      <td>1</td>\n",
              "      <td>0</td>\n",
              "      <td>117.0</td>\n",
              "      <td>56.0</td>\n",
              "      <td>3.8</td>\n",
              "      <td>111.0</td>\n",
              "      <td>2.5</td>\n",
              "      <td>11.2</td>\n",
              "      <td>32.0</td>\n",
              "      <td>6700.0</td>\n",
              "      <td>3.9</td>\n",
              "      <td>1</td>\n",
              "      <td>1</td>\n",
              "      <td>0</td>\n",
              "      <td>1</td>\n",
              "      <td>1</td>\n",
              "      <td>1</td>\n",
              "      <td>0</td>\n",
              "    </tr>\n",
              "    <tr>\n",
              "      <th>4</th>\n",
              "      <td>51.0</td>\n",
              "      <td>80.0</td>\n",
              "      <td>1.010</td>\n",
              "      <td>2.0</td>\n",
              "      <td>0.0</td>\n",
              "      <td>1</td>\n",
              "      <td>1</td>\n",
              "      <td>0</td>\n",
              "      <td>0</td>\n",
              "      <td>106.0</td>\n",
              "      <td>26.0</td>\n",
              "      <td>1.4</td>\n",
              "      <td>134.0</td>\n",
              "      <td>5.0</td>\n",
              "      <td>11.6</td>\n",
              "      <td>35.0</td>\n",
              "      <td>7300.0</td>\n",
              "      <td>4.6</td>\n",
              "      <td>0</td>\n",
              "      <td>1</td>\n",
              "      <td>0</td>\n",
              "      <td>0</td>\n",
              "      <td>0</td>\n",
              "      <td>0</td>\n",
              "      <td>0</td>\n",
              "    </tr>\n",
              "  </tbody>\n",
              "</table>\n",
              "</div>"
            ],
            "text/plain": [
              "    age  blood pressure  specific gravity  ...  pedal edema  anemia  class\n",
              "0  48.0            80.0             1.020  ...            0       0      0\n",
              "1   7.0            50.0             1.020  ...            0       0      0\n",
              "2  62.0            80.0             1.010  ...            0       1      0\n",
              "3  48.0            70.0             1.005  ...            1       1      0\n",
              "4  51.0            80.0             1.010  ...            0       0      0\n",
              "\n",
              "[5 rows x 25 columns]"
            ]
          },
          "metadata": {
            "tags": []
          },
          "execution_count": 101
        }
      ]
    },
    {
      "cell_type": "code",
      "metadata": {
        "id": "dGjwsj4HLPkw"
      },
      "source": [
        "## use case when less no of labels \n",
        "## Label Encoder\n",
        "## complex case \n",
        "## first "
      ],
      "execution_count": null,
      "outputs": []
    },
    {
      "cell_type": "code",
      "metadata": {
        "id": "uPMFPm9HLcIQ"
      },
      "source": [
        "from sklearn.feature_selection import SelectKBest\n",
        "from sklearn.feature_selection import chi2\n"
      ],
      "execution_count": 103,
      "outputs": []
    },
    {
      "cell_type": "code",
      "metadata": {
        "id": "584Lzoy4L5j5"
      },
      "source": [
        "ind_col=[col for col in data.columns if col!='class']\n",
        "dep_col='class'"
      ],
      "execution_count": 104,
      "outputs": []
    },
    {
      "cell_type": "code",
      "metadata": {
        "id": "YpSx8uHeMKVi"
      },
      "source": [
        "x=data[ind_col]\n",
        "y=data[dep_col]"
      ],
      "execution_count": 105,
      "outputs": []
    },
    {
      "cell_type": "code",
      "metadata": {
        "id": "bcSejjZzNuNb"
      },
      "source": [
        ""
      ],
      "execution_count": null,
      "outputs": []
    },
    {
      "cell_type": "code",
      "metadata": {
        "colab": {
          "base_uri": "https://localhost:8080/",
          "height": 275
        },
        "id": "Y3ZaQ1HsMSx2",
        "outputId": "45bea610-3907-496f-b6f7-51432119d545"
      },
      "source": [
        "x.head()"
      ],
      "execution_count": 106,
      "outputs": [
        {
          "output_type": "execute_result",
          "data": {
            "text/html": [
              "<div>\n",
              "<style scoped>\n",
              "    .dataframe tbody tr th:only-of-type {\n",
              "        vertical-align: middle;\n",
              "    }\n",
              "\n",
              "    .dataframe tbody tr th {\n",
              "        vertical-align: top;\n",
              "    }\n",
              "\n",
              "    .dataframe thead th {\n",
              "        text-align: right;\n",
              "    }\n",
              "</style>\n",
              "<table border=\"1\" class=\"dataframe\">\n",
              "  <thead>\n",
              "    <tr style=\"text-align: right;\">\n",
              "      <th></th>\n",
              "      <th>age</th>\n",
              "      <th>blood pressure</th>\n",
              "      <th>specific gravity</th>\n",
              "      <th>albumin</th>\n",
              "      <th>sugar</th>\n",
              "      <th>red blood cells</th>\n",
              "      <th>pus cell</th>\n",
              "      <th>pus cell clumps</th>\n",
              "      <th>bacteria</th>\n",
              "      <th>blood glucose random</th>\n",
              "      <th>blood urea</th>\n",
              "      <th>serum creatinine</th>\n",
              "      <th>sodium</th>\n",
              "      <th>potassium</th>\n",
              "      <th>haemoglobin</th>\n",
              "      <th>packed cell volume</th>\n",
              "      <th>white blood cell count</th>\n",
              "      <th>red blood cell count</th>\n",
              "      <th>ypertension</th>\n",
              "      <th>diabetes mellitus</th>\n",
              "      <th>coronary artery disease</th>\n",
              "      <th>appetite</th>\n",
              "      <th>pedal edema</th>\n",
              "      <th>anemia</th>\n",
              "    </tr>\n",
              "  </thead>\n",
              "  <tbody>\n",
              "    <tr>\n",
              "      <th>0</th>\n",
              "      <td>48.0</td>\n",
              "      <td>80.0</td>\n",
              "      <td>1.020</td>\n",
              "      <td>1.0</td>\n",
              "      <td>0.0</td>\n",
              "      <td>1</td>\n",
              "      <td>1</td>\n",
              "      <td>0</td>\n",
              "      <td>0</td>\n",
              "      <td>121.0</td>\n",
              "      <td>36.0</td>\n",
              "      <td>1.2</td>\n",
              "      <td>136.0</td>\n",
              "      <td>5.0</td>\n",
              "      <td>15.4</td>\n",
              "      <td>44.0</td>\n",
              "      <td>7800.0</td>\n",
              "      <td>5.2</td>\n",
              "      <td>1</td>\n",
              "      <td>2</td>\n",
              "      <td>0</td>\n",
              "      <td>0</td>\n",
              "      <td>0</td>\n",
              "      <td>0</td>\n",
              "    </tr>\n",
              "    <tr>\n",
              "      <th>1</th>\n",
              "      <td>7.0</td>\n",
              "      <td>50.0</td>\n",
              "      <td>1.020</td>\n",
              "      <td>4.0</td>\n",
              "      <td>0.0</td>\n",
              "      <td>0</td>\n",
              "      <td>1</td>\n",
              "      <td>0</td>\n",
              "      <td>0</td>\n",
              "      <td>112.0</td>\n",
              "      <td>18.0</td>\n",
              "      <td>0.8</td>\n",
              "      <td>135.0</td>\n",
              "      <td>4.6</td>\n",
              "      <td>11.3</td>\n",
              "      <td>38.0</td>\n",
              "      <td>6000.0</td>\n",
              "      <td>3.9</td>\n",
              "      <td>0</td>\n",
              "      <td>1</td>\n",
              "      <td>0</td>\n",
              "      <td>0</td>\n",
              "      <td>0</td>\n",
              "      <td>0</td>\n",
              "    </tr>\n",
              "    <tr>\n",
              "      <th>2</th>\n",
              "      <td>62.0</td>\n",
              "      <td>80.0</td>\n",
              "      <td>1.010</td>\n",
              "      <td>2.0</td>\n",
              "      <td>3.0</td>\n",
              "      <td>1</td>\n",
              "      <td>1</td>\n",
              "      <td>0</td>\n",
              "      <td>0</td>\n",
              "      <td>423.0</td>\n",
              "      <td>53.0</td>\n",
              "      <td>1.8</td>\n",
              "      <td>142.0</td>\n",
              "      <td>4.5</td>\n",
              "      <td>9.6</td>\n",
              "      <td>31.0</td>\n",
              "      <td>7500.0</td>\n",
              "      <td>5.7</td>\n",
              "      <td>0</td>\n",
              "      <td>2</td>\n",
              "      <td>0</td>\n",
              "      <td>1</td>\n",
              "      <td>0</td>\n",
              "      <td>1</td>\n",
              "    </tr>\n",
              "    <tr>\n",
              "      <th>3</th>\n",
              "      <td>48.0</td>\n",
              "      <td>70.0</td>\n",
              "      <td>1.005</td>\n",
              "      <td>4.0</td>\n",
              "      <td>0.0</td>\n",
              "      <td>1</td>\n",
              "      <td>0</td>\n",
              "      <td>1</td>\n",
              "      <td>0</td>\n",
              "      <td>117.0</td>\n",
              "      <td>56.0</td>\n",
              "      <td>3.8</td>\n",
              "      <td>111.0</td>\n",
              "      <td>2.5</td>\n",
              "      <td>11.2</td>\n",
              "      <td>32.0</td>\n",
              "      <td>6700.0</td>\n",
              "      <td>3.9</td>\n",
              "      <td>1</td>\n",
              "      <td>1</td>\n",
              "      <td>0</td>\n",
              "      <td>1</td>\n",
              "      <td>1</td>\n",
              "      <td>1</td>\n",
              "    </tr>\n",
              "    <tr>\n",
              "      <th>4</th>\n",
              "      <td>51.0</td>\n",
              "      <td>80.0</td>\n",
              "      <td>1.010</td>\n",
              "      <td>2.0</td>\n",
              "      <td>0.0</td>\n",
              "      <td>1</td>\n",
              "      <td>1</td>\n",
              "      <td>0</td>\n",
              "      <td>0</td>\n",
              "      <td>106.0</td>\n",
              "      <td>26.0</td>\n",
              "      <td>1.4</td>\n",
              "      <td>134.0</td>\n",
              "      <td>5.0</td>\n",
              "      <td>11.6</td>\n",
              "      <td>35.0</td>\n",
              "      <td>7300.0</td>\n",
              "      <td>4.6</td>\n",
              "      <td>0</td>\n",
              "      <td>1</td>\n",
              "      <td>0</td>\n",
              "      <td>0</td>\n",
              "      <td>0</td>\n",
              "      <td>0</td>\n",
              "    </tr>\n",
              "  </tbody>\n",
              "</table>\n",
              "</div>"
            ],
            "text/plain": [
              "    age  blood pressure  specific gravity  ...  appetite  pedal edema  anemia\n",
              "0  48.0            80.0             1.020  ...         0            0       0\n",
              "1   7.0            50.0             1.020  ...         0            0       0\n",
              "2  62.0            80.0             1.010  ...         1            0       1\n",
              "3  48.0            70.0             1.005  ...         1            1       1\n",
              "4  51.0            80.0             1.010  ...         0            0       0\n",
              "\n",
              "[5 rows x 24 columns]"
            ]
          },
          "metadata": {
            "tags": []
          },
          "execution_count": 106
        }
      ]
    },
    {
      "cell_type": "code",
      "metadata": {
        "colab": {
          "base_uri": "https://localhost:8080/"
        },
        "id": "jpwF6MWQMY24",
        "outputId": "7bd1c37a-696e-4c74-8aa2-57e8e2cc65a7"
      },
      "source": [
        "y"
      ],
      "execution_count": 107,
      "outputs": [
        {
          "output_type": "execute_result",
          "data": {
            "text/plain": [
              "0      0\n",
              "1      0\n",
              "2      0\n",
              "3      0\n",
              "4      0\n",
              "      ..\n",
              "395    1\n",
              "396    1\n",
              "397    1\n",
              "398    1\n",
              "399    1\n",
              "Name: class, Length: 400, dtype: int64"
            ]
          },
          "metadata": {
            "tags": []
          },
          "execution_count": 107
        }
      ]
    },
    {
      "cell_type": "code",
      "metadata": {
        "id": "aFSplPX8MbGl"
      },
      "source": [
        "ordered_rank_features=SelectKBest(score_func=chi2,k=20)\n",
        "ordered_features=ordered_rank_features.fit(x,y)\n"
      ],
      "execution_count": 110,
      "outputs": []
    },
    {
      "cell_type": "code",
      "metadata": {
        "colab": {
          "base_uri": "https://localhost:8080/"
        },
        "id": "FjS15HPVNAq3",
        "outputId": "ad28475a-a852-45d8-e235-07ba54619d1f"
      },
      "source": [
        "ordered_features"
      ],
      "execution_count": 111,
      "outputs": [
        {
          "output_type": "execute_result",
          "data": {
            "text/plain": [
              "SelectKBest(k=20, score_func=<function chi2 at 0x7f61a694db90>)"
            ]
          },
          "metadata": {
            "tags": []
          },
          "execution_count": 111
        }
      ]
    },
    {
      "cell_type": "code",
      "metadata": {
        "colab": {
          "base_uri": "https://localhost:8080/"
        },
        "id": "JG3ImBqyNJBk",
        "outputId": "dbb25bc5-a4ef-4fd9-9e79-f6a8feaf7774"
      },
      "source": [
        "ordered_features.scores_"
      ],
      "execution_count": 112,
      "outputs": [
        {
          "output_type": "execute_result",
          "data": {
            "text/plain": [
              "array([1.25643396e+02, 7.60874317e+01, 5.39708749e-03, 2.41761006e+02,\n",
              "       8.11200000e+01, 9.72000000e+00, 1.55463203e+01, 2.52000000e+01,\n",
              "       1.32000000e+01, 2.65357885e+03, 2.22361465e+03, 3.53099609e+02,\n",
              "       2.94444493e+01, 3.91328386e+00, 1.32357779e+02, 3.47649122e+02,\n",
              "       1.25834079e+04, 1.84465090e+01, 8.82000000e+01, 2.04392523e+01,\n",
              "       2.04000000e+01, 4.92000000e+01, 4.56000000e+01, 3.60000000e+01])"
            ]
          },
          "metadata": {
            "tags": []
          },
          "execution_count": 112
        }
      ]
    },
    {
      "cell_type": "code",
      "metadata": {
        "id": "-_3mChq9NSAr"
      },
      "source": [
        "datascores=pd.DataFrame(ordered_features.scores_,columns=['Score'])"
      ],
      "execution_count": 113,
      "outputs": []
    },
    {
      "cell_type": "code",
      "metadata": {
        "colab": {
          "base_uri": "https://localhost:8080/",
          "height": 793
        },
        "id": "ug79QeEKNhVO",
        "outputId": "9665f86d-f640-4bf9-b23c-80f22aa1bc19"
      },
      "source": [
        "datascores"
      ],
      "execution_count": 114,
      "outputs": [
        {
          "output_type": "execute_result",
          "data": {
            "text/html": [
              "<div>\n",
              "<style scoped>\n",
              "    .dataframe tbody tr th:only-of-type {\n",
              "        vertical-align: middle;\n",
              "    }\n",
              "\n",
              "    .dataframe tbody tr th {\n",
              "        vertical-align: top;\n",
              "    }\n",
              "\n",
              "    .dataframe thead th {\n",
              "        text-align: right;\n",
              "    }\n",
              "</style>\n",
              "<table border=\"1\" class=\"dataframe\">\n",
              "  <thead>\n",
              "    <tr style=\"text-align: right;\">\n",
              "      <th></th>\n",
              "      <th>Score</th>\n",
              "    </tr>\n",
              "  </thead>\n",
              "  <tbody>\n",
              "    <tr>\n",
              "      <th>0</th>\n",
              "      <td>125.643396</td>\n",
              "    </tr>\n",
              "    <tr>\n",
              "      <th>1</th>\n",
              "      <td>76.087432</td>\n",
              "    </tr>\n",
              "    <tr>\n",
              "      <th>2</th>\n",
              "      <td>0.005397</td>\n",
              "    </tr>\n",
              "    <tr>\n",
              "      <th>3</th>\n",
              "      <td>241.761006</td>\n",
              "    </tr>\n",
              "    <tr>\n",
              "      <th>4</th>\n",
              "      <td>81.120000</td>\n",
              "    </tr>\n",
              "    <tr>\n",
              "      <th>5</th>\n",
              "      <td>9.720000</td>\n",
              "    </tr>\n",
              "    <tr>\n",
              "      <th>6</th>\n",
              "      <td>15.546320</td>\n",
              "    </tr>\n",
              "    <tr>\n",
              "      <th>7</th>\n",
              "      <td>25.200000</td>\n",
              "    </tr>\n",
              "    <tr>\n",
              "      <th>8</th>\n",
              "      <td>13.200000</td>\n",
              "    </tr>\n",
              "    <tr>\n",
              "      <th>9</th>\n",
              "      <td>2653.578850</td>\n",
              "    </tr>\n",
              "    <tr>\n",
              "      <th>10</th>\n",
              "      <td>2223.614654</td>\n",
              "    </tr>\n",
              "    <tr>\n",
              "      <th>11</th>\n",
              "      <td>353.099609</td>\n",
              "    </tr>\n",
              "    <tr>\n",
              "      <th>12</th>\n",
              "      <td>29.444449</td>\n",
              "    </tr>\n",
              "    <tr>\n",
              "      <th>13</th>\n",
              "      <td>3.913284</td>\n",
              "    </tr>\n",
              "    <tr>\n",
              "      <th>14</th>\n",
              "      <td>132.357779</td>\n",
              "    </tr>\n",
              "    <tr>\n",
              "      <th>15</th>\n",
              "      <td>347.649122</td>\n",
              "    </tr>\n",
              "    <tr>\n",
              "      <th>16</th>\n",
              "      <td>12583.407872</td>\n",
              "    </tr>\n",
              "    <tr>\n",
              "      <th>17</th>\n",
              "      <td>18.446509</td>\n",
              "    </tr>\n",
              "    <tr>\n",
              "      <th>18</th>\n",
              "      <td>88.200000</td>\n",
              "    </tr>\n",
              "    <tr>\n",
              "      <th>19</th>\n",
              "      <td>20.439252</td>\n",
              "    </tr>\n",
              "    <tr>\n",
              "      <th>20</th>\n",
              "      <td>20.400000</td>\n",
              "    </tr>\n",
              "    <tr>\n",
              "      <th>21</th>\n",
              "      <td>49.200000</td>\n",
              "    </tr>\n",
              "    <tr>\n",
              "      <th>22</th>\n",
              "      <td>45.600000</td>\n",
              "    </tr>\n",
              "    <tr>\n",
              "      <th>23</th>\n",
              "      <td>36.000000</td>\n",
              "    </tr>\n",
              "  </tbody>\n",
              "</table>\n",
              "</div>"
            ],
            "text/plain": [
              "           Score\n",
              "0     125.643396\n",
              "1      76.087432\n",
              "2       0.005397\n",
              "3     241.761006\n",
              "4      81.120000\n",
              "5       9.720000\n",
              "6      15.546320\n",
              "7      25.200000\n",
              "8      13.200000\n",
              "9    2653.578850\n",
              "10   2223.614654\n",
              "11    353.099609\n",
              "12     29.444449\n",
              "13      3.913284\n",
              "14    132.357779\n",
              "15    347.649122\n",
              "16  12583.407872\n",
              "17     18.446509\n",
              "18     88.200000\n",
              "19     20.439252\n",
              "20     20.400000\n",
              "21     49.200000\n",
              "22     45.600000\n",
              "23     36.000000"
            ]
          },
          "metadata": {
            "tags": []
          },
          "execution_count": 114
        }
      ]
    },
    {
      "cell_type": "code",
      "metadata": {
        "colab": {
          "base_uri": "https://localhost:8080/",
          "height": 793
        },
        "id": "guCE1tj4NwyH",
        "outputId": "ffec518e-8265-45ea-8985-3068c05d4f3e"
      },
      "source": [
        "dfcols=pd.DataFrame(x.columns)\n",
        "dfcols"
      ],
      "execution_count": 116,
      "outputs": [
        {
          "output_type": "execute_result",
          "data": {
            "text/html": [
              "<div>\n",
              "<style scoped>\n",
              "    .dataframe tbody tr th:only-of-type {\n",
              "        vertical-align: middle;\n",
              "    }\n",
              "\n",
              "    .dataframe tbody tr th {\n",
              "        vertical-align: top;\n",
              "    }\n",
              "\n",
              "    .dataframe thead th {\n",
              "        text-align: right;\n",
              "    }\n",
              "</style>\n",
              "<table border=\"1\" class=\"dataframe\">\n",
              "  <thead>\n",
              "    <tr style=\"text-align: right;\">\n",
              "      <th></th>\n",
              "      <th>0</th>\n",
              "    </tr>\n",
              "  </thead>\n",
              "  <tbody>\n",
              "    <tr>\n",
              "      <th>0</th>\n",
              "      <td>age</td>\n",
              "    </tr>\n",
              "    <tr>\n",
              "      <th>1</th>\n",
              "      <td>blood pressure</td>\n",
              "    </tr>\n",
              "    <tr>\n",
              "      <th>2</th>\n",
              "      <td>specific gravity</td>\n",
              "    </tr>\n",
              "    <tr>\n",
              "      <th>3</th>\n",
              "      <td>albumin</td>\n",
              "    </tr>\n",
              "    <tr>\n",
              "      <th>4</th>\n",
              "      <td>sugar</td>\n",
              "    </tr>\n",
              "    <tr>\n",
              "      <th>5</th>\n",
              "      <td>red blood cells</td>\n",
              "    </tr>\n",
              "    <tr>\n",
              "      <th>6</th>\n",
              "      <td>pus cell</td>\n",
              "    </tr>\n",
              "    <tr>\n",
              "      <th>7</th>\n",
              "      <td>pus cell clumps</td>\n",
              "    </tr>\n",
              "    <tr>\n",
              "      <th>8</th>\n",
              "      <td>bacteria</td>\n",
              "    </tr>\n",
              "    <tr>\n",
              "      <th>9</th>\n",
              "      <td>blood glucose random</td>\n",
              "    </tr>\n",
              "    <tr>\n",
              "      <th>10</th>\n",
              "      <td>blood urea</td>\n",
              "    </tr>\n",
              "    <tr>\n",
              "      <th>11</th>\n",
              "      <td>serum creatinine</td>\n",
              "    </tr>\n",
              "    <tr>\n",
              "      <th>12</th>\n",
              "      <td>sodium</td>\n",
              "    </tr>\n",
              "    <tr>\n",
              "      <th>13</th>\n",
              "      <td>potassium</td>\n",
              "    </tr>\n",
              "    <tr>\n",
              "      <th>14</th>\n",
              "      <td>haemoglobin</td>\n",
              "    </tr>\n",
              "    <tr>\n",
              "      <th>15</th>\n",
              "      <td>packed cell volume</td>\n",
              "    </tr>\n",
              "    <tr>\n",
              "      <th>16</th>\n",
              "      <td>white blood cell count</td>\n",
              "    </tr>\n",
              "    <tr>\n",
              "      <th>17</th>\n",
              "      <td>red blood cell count</td>\n",
              "    </tr>\n",
              "    <tr>\n",
              "      <th>18</th>\n",
              "      <td>ypertension</td>\n",
              "    </tr>\n",
              "    <tr>\n",
              "      <th>19</th>\n",
              "      <td>diabetes mellitus</td>\n",
              "    </tr>\n",
              "    <tr>\n",
              "      <th>20</th>\n",
              "      <td>coronary artery disease</td>\n",
              "    </tr>\n",
              "    <tr>\n",
              "      <th>21</th>\n",
              "      <td>appetite</td>\n",
              "    </tr>\n",
              "    <tr>\n",
              "      <th>22</th>\n",
              "      <td>pedal edema</td>\n",
              "    </tr>\n",
              "    <tr>\n",
              "      <th>23</th>\n",
              "      <td>anemia</td>\n",
              "    </tr>\n",
              "  </tbody>\n",
              "</table>\n",
              "</div>"
            ],
            "text/plain": [
              "                          0\n",
              "0                       age\n",
              "1            blood pressure\n",
              "2          specific gravity\n",
              "3                   albumin\n",
              "4                     sugar\n",
              "5           red blood cells\n",
              "6                  pus cell\n",
              "7           pus cell clumps\n",
              "8                  bacteria\n",
              "9      blood glucose random\n",
              "10               blood urea\n",
              "11         serum creatinine\n",
              "12                   sodium\n",
              "13                potassium\n",
              "14              haemoglobin\n",
              "15       packed cell volume\n",
              "16   white blood cell count\n",
              "17     red blood cell count\n",
              "18              ypertension\n",
              "19        diabetes mellitus\n",
              "20  coronary artery disease\n",
              "21                 appetite\n",
              "22              pedal edema\n",
              "23                   anemia"
            ]
          },
          "metadata": {
            "tags": []
          },
          "execution_count": 116
        }
      ]
    },
    {
      "cell_type": "code",
      "metadata": {
        "colab": {
          "base_uri": "https://localhost:8080/",
          "height": 793
        },
        "id": "pZuZYbjMN6pm",
        "outputId": "aeac5593-fea7-44f1-daa1-7b66d8df2668"
      },
      "source": [
        "features_rank=pd.concat([dfcols,datascores],axis=1)\n",
        "features_rank"
      ],
      "execution_count": 118,
      "outputs": [
        {
          "output_type": "execute_result",
          "data": {
            "text/html": [
              "<div>\n",
              "<style scoped>\n",
              "    .dataframe tbody tr th:only-of-type {\n",
              "        vertical-align: middle;\n",
              "    }\n",
              "\n",
              "    .dataframe tbody tr th {\n",
              "        vertical-align: top;\n",
              "    }\n",
              "\n",
              "    .dataframe thead th {\n",
              "        text-align: right;\n",
              "    }\n",
              "</style>\n",
              "<table border=\"1\" class=\"dataframe\">\n",
              "  <thead>\n",
              "    <tr style=\"text-align: right;\">\n",
              "      <th></th>\n",
              "      <th>0</th>\n",
              "      <th>Score</th>\n",
              "    </tr>\n",
              "  </thead>\n",
              "  <tbody>\n",
              "    <tr>\n",
              "      <th>0</th>\n",
              "      <td>age</td>\n",
              "      <td>125.643396</td>\n",
              "    </tr>\n",
              "    <tr>\n",
              "      <th>1</th>\n",
              "      <td>blood pressure</td>\n",
              "      <td>76.087432</td>\n",
              "    </tr>\n",
              "    <tr>\n",
              "      <th>2</th>\n",
              "      <td>specific gravity</td>\n",
              "      <td>0.005397</td>\n",
              "    </tr>\n",
              "    <tr>\n",
              "      <th>3</th>\n",
              "      <td>albumin</td>\n",
              "      <td>241.761006</td>\n",
              "    </tr>\n",
              "    <tr>\n",
              "      <th>4</th>\n",
              "      <td>sugar</td>\n",
              "      <td>81.120000</td>\n",
              "    </tr>\n",
              "    <tr>\n",
              "      <th>5</th>\n",
              "      <td>red blood cells</td>\n",
              "      <td>9.720000</td>\n",
              "    </tr>\n",
              "    <tr>\n",
              "      <th>6</th>\n",
              "      <td>pus cell</td>\n",
              "      <td>15.546320</td>\n",
              "    </tr>\n",
              "    <tr>\n",
              "      <th>7</th>\n",
              "      <td>pus cell clumps</td>\n",
              "      <td>25.200000</td>\n",
              "    </tr>\n",
              "    <tr>\n",
              "      <th>8</th>\n",
              "      <td>bacteria</td>\n",
              "      <td>13.200000</td>\n",
              "    </tr>\n",
              "    <tr>\n",
              "      <th>9</th>\n",
              "      <td>blood glucose random</td>\n",
              "      <td>2653.578850</td>\n",
              "    </tr>\n",
              "    <tr>\n",
              "      <th>10</th>\n",
              "      <td>blood urea</td>\n",
              "      <td>2223.614654</td>\n",
              "    </tr>\n",
              "    <tr>\n",
              "      <th>11</th>\n",
              "      <td>serum creatinine</td>\n",
              "      <td>353.099609</td>\n",
              "    </tr>\n",
              "    <tr>\n",
              "      <th>12</th>\n",
              "      <td>sodium</td>\n",
              "      <td>29.444449</td>\n",
              "    </tr>\n",
              "    <tr>\n",
              "      <th>13</th>\n",
              "      <td>potassium</td>\n",
              "      <td>3.913284</td>\n",
              "    </tr>\n",
              "    <tr>\n",
              "      <th>14</th>\n",
              "      <td>haemoglobin</td>\n",
              "      <td>132.357779</td>\n",
              "    </tr>\n",
              "    <tr>\n",
              "      <th>15</th>\n",
              "      <td>packed cell volume</td>\n",
              "      <td>347.649122</td>\n",
              "    </tr>\n",
              "    <tr>\n",
              "      <th>16</th>\n",
              "      <td>white blood cell count</td>\n",
              "      <td>12583.407872</td>\n",
              "    </tr>\n",
              "    <tr>\n",
              "      <th>17</th>\n",
              "      <td>red blood cell count</td>\n",
              "      <td>18.446509</td>\n",
              "    </tr>\n",
              "    <tr>\n",
              "      <th>18</th>\n",
              "      <td>ypertension</td>\n",
              "      <td>88.200000</td>\n",
              "    </tr>\n",
              "    <tr>\n",
              "      <th>19</th>\n",
              "      <td>diabetes mellitus</td>\n",
              "      <td>20.439252</td>\n",
              "    </tr>\n",
              "    <tr>\n",
              "      <th>20</th>\n",
              "      <td>coronary artery disease</td>\n",
              "      <td>20.400000</td>\n",
              "    </tr>\n",
              "    <tr>\n",
              "      <th>21</th>\n",
              "      <td>appetite</td>\n",
              "      <td>49.200000</td>\n",
              "    </tr>\n",
              "    <tr>\n",
              "      <th>22</th>\n",
              "      <td>pedal edema</td>\n",
              "      <td>45.600000</td>\n",
              "    </tr>\n",
              "    <tr>\n",
              "      <th>23</th>\n",
              "      <td>anemia</td>\n",
              "      <td>36.000000</td>\n",
              "    </tr>\n",
              "  </tbody>\n",
              "</table>\n",
              "</div>"
            ],
            "text/plain": [
              "                          0         Score\n",
              "0                       age    125.643396\n",
              "1            blood pressure     76.087432\n",
              "2          specific gravity      0.005397\n",
              "3                   albumin    241.761006\n",
              "4                     sugar     81.120000\n",
              "5           red blood cells      9.720000\n",
              "6                  pus cell     15.546320\n",
              "7           pus cell clumps     25.200000\n",
              "8                  bacteria     13.200000\n",
              "9      blood glucose random   2653.578850\n",
              "10               blood urea   2223.614654\n",
              "11         serum creatinine    353.099609\n",
              "12                   sodium     29.444449\n",
              "13                potassium      3.913284\n",
              "14              haemoglobin    132.357779\n",
              "15       packed cell volume    347.649122\n",
              "16   white blood cell count  12583.407872\n",
              "17     red blood cell count     18.446509\n",
              "18              ypertension     88.200000\n",
              "19        diabetes mellitus     20.439252\n",
              "20  coronary artery disease     20.400000\n",
              "21                 appetite     49.200000\n",
              "22              pedal edema     45.600000\n",
              "23                   anemia     36.000000"
            ]
          },
          "metadata": {
            "tags": []
          },
          "execution_count": 118
        }
      ]
    },
    {
      "cell_type": "code",
      "metadata": {
        "colab": {
          "base_uri": "https://localhost:8080/",
          "height": 793
        },
        "id": "RkXhvh-hOfQD",
        "outputId": "386633bb-1550-4b92-b296-3798251a7ad9"
      },
      "source": [
        "features_rank.columns=['features','Score']\n",
        "features_rank"
      ],
      "execution_count": 119,
      "outputs": [
        {
          "output_type": "execute_result",
          "data": {
            "text/html": [
              "<div>\n",
              "<style scoped>\n",
              "    .dataframe tbody tr th:only-of-type {\n",
              "        vertical-align: middle;\n",
              "    }\n",
              "\n",
              "    .dataframe tbody tr th {\n",
              "        vertical-align: top;\n",
              "    }\n",
              "\n",
              "    .dataframe thead th {\n",
              "        text-align: right;\n",
              "    }\n",
              "</style>\n",
              "<table border=\"1\" class=\"dataframe\">\n",
              "  <thead>\n",
              "    <tr style=\"text-align: right;\">\n",
              "      <th></th>\n",
              "      <th>features</th>\n",
              "      <th>Score</th>\n",
              "    </tr>\n",
              "  </thead>\n",
              "  <tbody>\n",
              "    <tr>\n",
              "      <th>0</th>\n",
              "      <td>age</td>\n",
              "      <td>125.643396</td>\n",
              "    </tr>\n",
              "    <tr>\n",
              "      <th>1</th>\n",
              "      <td>blood pressure</td>\n",
              "      <td>76.087432</td>\n",
              "    </tr>\n",
              "    <tr>\n",
              "      <th>2</th>\n",
              "      <td>specific gravity</td>\n",
              "      <td>0.005397</td>\n",
              "    </tr>\n",
              "    <tr>\n",
              "      <th>3</th>\n",
              "      <td>albumin</td>\n",
              "      <td>241.761006</td>\n",
              "    </tr>\n",
              "    <tr>\n",
              "      <th>4</th>\n",
              "      <td>sugar</td>\n",
              "      <td>81.120000</td>\n",
              "    </tr>\n",
              "    <tr>\n",
              "      <th>5</th>\n",
              "      <td>red blood cells</td>\n",
              "      <td>9.720000</td>\n",
              "    </tr>\n",
              "    <tr>\n",
              "      <th>6</th>\n",
              "      <td>pus cell</td>\n",
              "      <td>15.546320</td>\n",
              "    </tr>\n",
              "    <tr>\n",
              "      <th>7</th>\n",
              "      <td>pus cell clumps</td>\n",
              "      <td>25.200000</td>\n",
              "    </tr>\n",
              "    <tr>\n",
              "      <th>8</th>\n",
              "      <td>bacteria</td>\n",
              "      <td>13.200000</td>\n",
              "    </tr>\n",
              "    <tr>\n",
              "      <th>9</th>\n",
              "      <td>blood glucose random</td>\n",
              "      <td>2653.578850</td>\n",
              "    </tr>\n",
              "    <tr>\n",
              "      <th>10</th>\n",
              "      <td>blood urea</td>\n",
              "      <td>2223.614654</td>\n",
              "    </tr>\n",
              "    <tr>\n",
              "      <th>11</th>\n",
              "      <td>serum creatinine</td>\n",
              "      <td>353.099609</td>\n",
              "    </tr>\n",
              "    <tr>\n",
              "      <th>12</th>\n",
              "      <td>sodium</td>\n",
              "      <td>29.444449</td>\n",
              "    </tr>\n",
              "    <tr>\n",
              "      <th>13</th>\n",
              "      <td>potassium</td>\n",
              "      <td>3.913284</td>\n",
              "    </tr>\n",
              "    <tr>\n",
              "      <th>14</th>\n",
              "      <td>haemoglobin</td>\n",
              "      <td>132.357779</td>\n",
              "    </tr>\n",
              "    <tr>\n",
              "      <th>15</th>\n",
              "      <td>packed cell volume</td>\n",
              "      <td>347.649122</td>\n",
              "    </tr>\n",
              "    <tr>\n",
              "      <th>16</th>\n",
              "      <td>white blood cell count</td>\n",
              "      <td>12583.407872</td>\n",
              "    </tr>\n",
              "    <tr>\n",
              "      <th>17</th>\n",
              "      <td>red blood cell count</td>\n",
              "      <td>18.446509</td>\n",
              "    </tr>\n",
              "    <tr>\n",
              "      <th>18</th>\n",
              "      <td>ypertension</td>\n",
              "      <td>88.200000</td>\n",
              "    </tr>\n",
              "    <tr>\n",
              "      <th>19</th>\n",
              "      <td>diabetes mellitus</td>\n",
              "      <td>20.439252</td>\n",
              "    </tr>\n",
              "    <tr>\n",
              "      <th>20</th>\n",
              "      <td>coronary artery disease</td>\n",
              "      <td>20.400000</td>\n",
              "    </tr>\n",
              "    <tr>\n",
              "      <th>21</th>\n",
              "      <td>appetite</td>\n",
              "      <td>49.200000</td>\n",
              "    </tr>\n",
              "    <tr>\n",
              "      <th>22</th>\n",
              "      <td>pedal edema</td>\n",
              "      <td>45.600000</td>\n",
              "    </tr>\n",
              "    <tr>\n",
              "      <th>23</th>\n",
              "      <td>anemia</td>\n",
              "      <td>36.000000</td>\n",
              "    </tr>\n",
              "  </tbody>\n",
              "</table>\n",
              "</div>"
            ],
            "text/plain": [
              "                   features         Score\n",
              "0                       age    125.643396\n",
              "1            blood pressure     76.087432\n",
              "2          specific gravity      0.005397\n",
              "3                   albumin    241.761006\n",
              "4                     sugar     81.120000\n",
              "5           red blood cells      9.720000\n",
              "6                  pus cell     15.546320\n",
              "7           pus cell clumps     25.200000\n",
              "8                  bacteria     13.200000\n",
              "9      blood glucose random   2653.578850\n",
              "10               blood urea   2223.614654\n",
              "11         serum creatinine    353.099609\n",
              "12                   sodium     29.444449\n",
              "13                potassium      3.913284\n",
              "14              haemoglobin    132.357779\n",
              "15       packed cell volume    347.649122\n",
              "16   white blood cell count  12583.407872\n",
              "17     red blood cell count     18.446509\n",
              "18              ypertension     88.200000\n",
              "19        diabetes mellitus     20.439252\n",
              "20  coronary artery disease     20.400000\n",
              "21                 appetite     49.200000\n",
              "22              pedal edema     45.600000\n",
              "23                   anemia     36.000000"
            ]
          },
          "metadata": {
            "tags": []
          },
          "execution_count": 119
        }
      ]
    },
    {
      "cell_type": "code",
      "metadata": {
        "colab": {
          "base_uri": "https://localhost:8080/",
          "height": 359
        },
        "id": "Db86z739OvKN",
        "outputId": "8fbd4b34-0221-4a95-c551-431aa3482abf"
      },
      "source": [
        "features_rank.nlargest(10,'Score')"
      ],
      "execution_count": 120,
      "outputs": [
        {
          "output_type": "execute_result",
          "data": {
            "text/html": [
              "<div>\n",
              "<style scoped>\n",
              "    .dataframe tbody tr th:only-of-type {\n",
              "        vertical-align: middle;\n",
              "    }\n",
              "\n",
              "    .dataframe tbody tr th {\n",
              "        vertical-align: top;\n",
              "    }\n",
              "\n",
              "    .dataframe thead th {\n",
              "        text-align: right;\n",
              "    }\n",
              "</style>\n",
              "<table border=\"1\" class=\"dataframe\">\n",
              "  <thead>\n",
              "    <tr style=\"text-align: right;\">\n",
              "      <th></th>\n",
              "      <th>features</th>\n",
              "      <th>Score</th>\n",
              "    </tr>\n",
              "  </thead>\n",
              "  <tbody>\n",
              "    <tr>\n",
              "      <th>16</th>\n",
              "      <td>white blood cell count</td>\n",
              "      <td>12583.407872</td>\n",
              "    </tr>\n",
              "    <tr>\n",
              "      <th>9</th>\n",
              "      <td>blood glucose random</td>\n",
              "      <td>2653.578850</td>\n",
              "    </tr>\n",
              "    <tr>\n",
              "      <th>10</th>\n",
              "      <td>blood urea</td>\n",
              "      <td>2223.614654</td>\n",
              "    </tr>\n",
              "    <tr>\n",
              "      <th>11</th>\n",
              "      <td>serum creatinine</td>\n",
              "      <td>353.099609</td>\n",
              "    </tr>\n",
              "    <tr>\n",
              "      <th>15</th>\n",
              "      <td>packed cell volume</td>\n",
              "      <td>347.649122</td>\n",
              "    </tr>\n",
              "    <tr>\n",
              "      <th>3</th>\n",
              "      <td>albumin</td>\n",
              "      <td>241.761006</td>\n",
              "    </tr>\n",
              "    <tr>\n",
              "      <th>14</th>\n",
              "      <td>haemoglobin</td>\n",
              "      <td>132.357779</td>\n",
              "    </tr>\n",
              "    <tr>\n",
              "      <th>0</th>\n",
              "      <td>age</td>\n",
              "      <td>125.643396</td>\n",
              "    </tr>\n",
              "    <tr>\n",
              "      <th>18</th>\n",
              "      <td>ypertension</td>\n",
              "      <td>88.200000</td>\n",
              "    </tr>\n",
              "    <tr>\n",
              "      <th>4</th>\n",
              "      <td>sugar</td>\n",
              "      <td>81.120000</td>\n",
              "    </tr>\n",
              "  </tbody>\n",
              "</table>\n",
              "</div>"
            ],
            "text/plain": [
              "                  features         Score\n",
              "16  white blood cell count  12583.407872\n",
              "9     blood glucose random   2653.578850\n",
              "10              blood urea   2223.614654\n",
              "11        serum creatinine    353.099609\n",
              "15      packed cell volume    347.649122\n",
              "3                  albumin    241.761006\n",
              "14             haemoglobin    132.357779\n",
              "0                      age    125.643396\n",
              "18             ypertension     88.200000\n",
              "4                    sugar     81.120000"
            ]
          },
          "metadata": {
            "tags": []
          },
          "execution_count": 120
        }
      ]
    },
    {
      "cell_type": "code",
      "metadata": {
        "id": "5Dy3tW_eO-wd"
      },
      "source": [
        "selected_columns=features_rank.nlargest(10,'Score')['features'].values"
      ],
      "execution_count": 122,
      "outputs": []
    },
    {
      "cell_type": "code",
      "metadata": {
        "colab": {
          "base_uri": "https://localhost:8080/"
        },
        "id": "rUJ2R_GtPOY8",
        "outputId": "0befdaa3-cba8-48a0-d49b-f8cf02b11289"
      },
      "source": [
        "selected_columns"
      ],
      "execution_count": 123,
      "outputs": [
        {
          "output_type": "execute_result",
          "data": {
            "text/plain": [
              "array(['white blood cell count', 'blood glucose random', 'blood urea',\n",
              "       'serum creatinine', 'packed cell volume', 'albumin', 'haemoglobin',\n",
              "       'age', 'ypertension', 'sugar'], dtype=object)"
            ]
          },
          "metadata": {
            "tags": []
          },
          "execution_count": 123
        }
      ]
    },
    {
      "cell_type": "code",
      "metadata": {
        "id": "lV0KWAcqPWGY"
      },
      "source": [
        "X_new=data[selected_columns]"
      ],
      "execution_count": 125,
      "outputs": []
    },
    {
      "cell_type": "code",
      "metadata": {
        "colab": {
          "base_uri": "https://localhost:8080/",
          "height": 255
        },
        "id": "ZVN9cb_6Pi8u",
        "outputId": "24be4646-41f0-42a9-f25b-8066c1bc3023"
      },
      "source": [
        "X_new.head()"
      ],
      "execution_count": 126,
      "outputs": [
        {
          "output_type": "execute_result",
          "data": {
            "text/html": [
              "<div>\n",
              "<style scoped>\n",
              "    .dataframe tbody tr th:only-of-type {\n",
              "        vertical-align: middle;\n",
              "    }\n",
              "\n",
              "    .dataframe tbody tr th {\n",
              "        vertical-align: top;\n",
              "    }\n",
              "\n",
              "    .dataframe thead th {\n",
              "        text-align: right;\n",
              "    }\n",
              "</style>\n",
              "<table border=\"1\" class=\"dataframe\">\n",
              "  <thead>\n",
              "    <tr style=\"text-align: right;\">\n",
              "      <th></th>\n",
              "      <th>white blood cell count</th>\n",
              "      <th>blood glucose random</th>\n",
              "      <th>blood urea</th>\n",
              "      <th>serum creatinine</th>\n",
              "      <th>packed cell volume</th>\n",
              "      <th>albumin</th>\n",
              "      <th>haemoglobin</th>\n",
              "      <th>age</th>\n",
              "      <th>ypertension</th>\n",
              "      <th>sugar</th>\n",
              "    </tr>\n",
              "  </thead>\n",
              "  <tbody>\n",
              "    <tr>\n",
              "      <th>0</th>\n",
              "      <td>7800.0</td>\n",
              "      <td>121.0</td>\n",
              "      <td>36.0</td>\n",
              "      <td>1.2</td>\n",
              "      <td>44.0</td>\n",
              "      <td>1.0</td>\n",
              "      <td>15.4</td>\n",
              "      <td>48.0</td>\n",
              "      <td>1</td>\n",
              "      <td>0.0</td>\n",
              "    </tr>\n",
              "    <tr>\n",
              "      <th>1</th>\n",
              "      <td>6000.0</td>\n",
              "      <td>112.0</td>\n",
              "      <td>18.0</td>\n",
              "      <td>0.8</td>\n",
              "      <td>38.0</td>\n",
              "      <td>4.0</td>\n",
              "      <td>11.3</td>\n",
              "      <td>7.0</td>\n",
              "      <td>0</td>\n",
              "      <td>0.0</td>\n",
              "    </tr>\n",
              "    <tr>\n",
              "      <th>2</th>\n",
              "      <td>7500.0</td>\n",
              "      <td>423.0</td>\n",
              "      <td>53.0</td>\n",
              "      <td>1.8</td>\n",
              "      <td>31.0</td>\n",
              "      <td>2.0</td>\n",
              "      <td>9.6</td>\n",
              "      <td>62.0</td>\n",
              "      <td>0</td>\n",
              "      <td>3.0</td>\n",
              "    </tr>\n",
              "    <tr>\n",
              "      <th>3</th>\n",
              "      <td>6700.0</td>\n",
              "      <td>117.0</td>\n",
              "      <td>56.0</td>\n",
              "      <td>3.8</td>\n",
              "      <td>32.0</td>\n",
              "      <td>4.0</td>\n",
              "      <td>11.2</td>\n",
              "      <td>48.0</td>\n",
              "      <td>1</td>\n",
              "      <td>0.0</td>\n",
              "    </tr>\n",
              "    <tr>\n",
              "      <th>4</th>\n",
              "      <td>7300.0</td>\n",
              "      <td>106.0</td>\n",
              "      <td>26.0</td>\n",
              "      <td>1.4</td>\n",
              "      <td>35.0</td>\n",
              "      <td>2.0</td>\n",
              "      <td>11.6</td>\n",
              "      <td>51.0</td>\n",
              "      <td>0</td>\n",
              "      <td>0.0</td>\n",
              "    </tr>\n",
              "  </tbody>\n",
              "</table>\n",
              "</div>"
            ],
            "text/plain": [
              "   white blood cell count  blood glucose random  ...  ypertension  sugar\n",
              "0                  7800.0                 121.0  ...            1    0.0\n",
              "1                  6000.0                 112.0  ...            0    0.0\n",
              "2                  7500.0                 423.0  ...            0    3.0\n",
              "3                  6700.0                 117.0  ...            1    0.0\n",
              "4                  7300.0                 106.0  ...            0    0.0\n",
              "\n",
              "[5 rows x 10 columns]"
            ]
          },
          "metadata": {
            "tags": []
          },
          "execution_count": 126
        }
      ]
    },
    {
      "cell_type": "code",
      "metadata": {
        "colab": {
          "base_uri": "https://localhost:8080/"
        },
        "id": "y0Y6iPBNPfOm",
        "outputId": "a7e1cadc-525b-4c7a-e135-7f996e440849"
      },
      "source": [
        "len(X_new)"
      ],
      "execution_count": 127,
      "outputs": [
        {
          "output_type": "execute_result",
          "data": {
            "text/plain": [
              "400"
            ]
          },
          "metadata": {
            "tags": []
          },
          "execution_count": 127
        }
      ]
    },
    {
      "cell_type": "code",
      "metadata": {
        "colab": {
          "base_uri": "https://localhost:8080/"
        },
        "id": "O_bWttaYPtH_",
        "outputId": "86d4c3f3-04c8-40d3-fe79-013d8754b9c9"
      },
      "source": [
        "X_new.shape"
      ],
      "execution_count": 128,
      "outputs": [
        {
          "output_type": "execute_result",
          "data": {
            "text/plain": [
              "(400, 10)"
            ]
          },
          "metadata": {
            "tags": []
          },
          "execution_count": 128
        }
      ]
    },
    {
      "cell_type": "code",
      "metadata": {
        "id": "3cS3q9kmPtUZ"
      },
      "source": [
        "from sklearn.model_selection import train_test_split"
      ],
      "execution_count": 129,
      "outputs": []
    },
    {
      "cell_type": "code",
      "metadata": {
        "id": "7R9QdIziQLi9"
      },
      "source": [
        "X_train,X_test,y_train,y_test=train_test_split(X_new,y,random_state=0,test_size=0.25)"
      ],
      "execution_count": 130,
      "outputs": []
    },
    {
      "cell_type": "code",
      "metadata": {
        "colab": {
          "base_uri": "https://localhost:8080/"
        },
        "id": "xKZuoGd8QgxV",
        "outputId": "16373ac5-3a50-4a34-e759-aaef064bc1a8"
      },
      "source": [
        "print(X_train.shape)"
      ],
      "execution_count": 131,
      "outputs": [
        {
          "output_type": "stream",
          "text": [
            "(300, 10)\n"
          ],
          "name": "stdout"
        }
      ]
    },
    {
      "cell_type": "code",
      "metadata": {
        "colab": {
          "base_uri": "https://localhost:8080/"
        },
        "id": "h2TgMaZJQnG9",
        "outputId": "89eccf12-89ee-4fa1-d9a5-1e33b5981cd2"
      },
      "source": [
        "print(X_test.shape)"
      ],
      "execution_count": 132,
      "outputs": [
        {
          "output_type": "stream",
          "text": [
            "(100, 10)\n"
          ],
          "name": "stdout"
        }
      ]
    },
    {
      "cell_type": "code",
      "metadata": {
        "colab": {
          "base_uri": "https://localhost:8080/"
        },
        "id": "BgIS4CxwQsEb",
        "outputId": "d151f587-8de9-4e5c-cb6a-afe5e2d4f10c"
      },
      "source": [
        "y_train.value_counts()"
      ],
      "execution_count": 133,
      "outputs": [
        {
          "output_type": "execute_result",
          "data": {
            "text/plain": [
              "0    188\n",
              "1    112\n",
              "Name: class, dtype: int64"
            ]
          },
          "metadata": {
            "tags": []
          },
          "execution_count": 133
        }
      ]
    },
    {
      "cell_type": "code",
      "metadata": {
        "colab": {
          "base_uri": "https://localhost:8080/"
        },
        "id": "cafJiVqBQyNa",
        "outputId": "1c093b37-a001-47d8-8e8e-d1e3ace5a6e2"
      },
      "source": [
        "!pip install xgboost"
      ],
      "execution_count": 134,
      "outputs": [
        {
          "output_type": "stream",
          "text": [
            "Requirement already satisfied: xgboost in /usr/local/lib/python3.7/dist-packages (0.90)\n",
            "Requirement already satisfied: numpy in /usr/local/lib/python3.7/dist-packages (from xgboost) (1.19.5)\n",
            "Requirement already satisfied: scipy in /usr/local/lib/python3.7/dist-packages (from xgboost) (1.4.1)\n"
          ],
          "name": "stdout"
        }
      ]
    },
    {
      "cell_type": "code",
      "metadata": {
        "colab": {
          "base_uri": "https://localhost:8080/"
        },
        "id": "oCXxdlAGRr4D",
        "outputId": "18d8874b-1542-4486-9d55-0146203cdb4e"
      },
      "source": [
        "from  xgboost import XGBClassifier\n",
        "XGBClassifier()"
      ],
      "execution_count": 137,
      "outputs": [
        {
          "output_type": "execute_result",
          "data": {
            "text/plain": [
              "XGBClassifier(base_score=0.5, booster='gbtree', colsample_bylevel=1,\n",
              "              colsample_bynode=1, colsample_bytree=1, gamma=0,\n",
              "              learning_rate=0.1, max_delta_step=0, max_depth=3,\n",
              "              min_child_weight=1, missing=None, n_estimators=100, n_jobs=1,\n",
              "              nthread=None, objective='binary:logistic', random_state=0,\n",
              "              reg_alpha=0, reg_lambda=1, scale_pos_weight=1, seed=None,\n",
              "              silent=None, subsample=1, verbosity=1)"
            ]
          },
          "metadata": {
            "tags": []
          },
          "execution_count": 137
        }
      ]
    },
    {
      "cell_type": "code",
      "metadata": {
        "id": "dGXvgNdgR0Gt"
      },
      "source": [
        "params={\n",
        " \"learning_rate\"    : [0.05, 0.20, 0.25 ] ,\n",
        " \"max_depth\"        : [ 5, 8, 10, 12],\n",
        " \"min_child_weight\" : [ 1, 3, 5, 7 ],\n",
        " \"gamma\"            : [ 0.0, 0.1, 0.2 , 0.4 ],\n",
        " \"colsample_bytree\" : [ 0.3, 0.4, 0.7 ]\n",
        "    \n",
        "}"
      ],
      "execution_count": 138,
      "outputs": []
    },
    {
      "cell_type": "code",
      "metadata": {
        "id": "9uvv83w2SGyC"
      },
      "source": [
        "from sklearn.model_selection import RandomizedSearchCV"
      ],
      "execution_count": 139,
      "outputs": []
    },
    {
      "cell_type": "code",
      "metadata": {
        "id": "MHROwoKuT03k"
      },
      "source": [
        "classifier=XGBClassifier()"
      ],
      "execution_count": 141,
      "outputs": []
    },
    {
      "cell_type": "code",
      "metadata": {
        "id": "27KRTHgRT7tE"
      },
      "source": [
        "random_search=RandomizedSearchCV(classifier,param_distributions=params,n_iter=5,scoring='roc_auc',n_jobs=1,cv=5,verbose=3)"
      ],
      "execution_count": 142,
      "outputs": []
    },
    {
      "cell_type": "code",
      "metadata": {
        "colab": {
          "base_uri": "https://localhost:8080/"
        },
        "id": "HZdWmpUiUa4k",
        "outputId": "e7174b69-1f22-4fa9-82f9-546eda99850e"
      },
      "source": [
        "random_search.fit(X_train,y_train)"
      ],
      "execution_count": 143,
      "outputs": [
        {
          "output_type": "stream",
          "text": [
            "Fitting 5 folds for each of 5 candidates, totalling 25 fits\n",
            "[CV] min_child_weight=1, max_depth=12, learning_rate=0.05, gamma=0.0, colsample_bytree=0.3 \n",
            "[CV]  min_child_weight=1, max_depth=12, learning_rate=0.05, gamma=0.0, colsample_bytree=0.3, score=0.996, total=   0.2s\n",
            "[CV] min_child_weight=1, max_depth=12, learning_rate=0.05, gamma=0.0, colsample_bytree=0.3 \n"
          ],
          "name": "stdout"
        },
        {
          "output_type": "stream",
          "text": [
            "[Parallel(n_jobs=1)]: Using backend SequentialBackend with 1 concurrent workers.\n",
            "[Parallel(n_jobs=1)]: Done   1 out of   1 | elapsed:    0.2s remaining:    0.0s\n"
          ],
          "name": "stderr"
        },
        {
          "output_type": "stream",
          "text": [
            "[CV]  min_child_weight=1, max_depth=12, learning_rate=0.05, gamma=0.0, colsample_bytree=0.3, score=1.000, total=   0.0s\n",
            "[CV] min_child_weight=1, max_depth=12, learning_rate=0.05, gamma=0.0, colsample_bytree=0.3 \n",
            "[CV]  min_child_weight=1, max_depth=12, learning_rate=0.05, gamma=0.0, colsample_bytree=0.3, score=0.999, total=   0.0s\n",
            "[CV] min_child_weight=1, max_depth=12, learning_rate=0.05, gamma=0.0, colsample_bytree=0.3 \n",
            "[CV]  min_child_weight=1, max_depth=12, learning_rate=0.05, gamma=0.0, colsample_bytree=0.3, score=0.998, total=   0.0s\n",
            "[CV] min_child_weight=1, max_depth=12, learning_rate=0.05, gamma=0.0, colsample_bytree=0.3 \n",
            "[CV]  min_child_weight=1, max_depth=12, learning_rate=0.05, gamma=0.0, colsample_bytree=0.3, score=0.984, total=   0.0s\n",
            "[CV] min_child_weight=5, max_depth=8, learning_rate=0.2, gamma=0.1, colsample_bytree=0.4 \n",
            "[CV]  min_child_weight=5, max_depth=8, learning_rate=0.2, gamma=0.1, colsample_bytree=0.4, score=0.978, total=   0.0s\n",
            "[CV] min_child_weight=5, max_depth=8, learning_rate=0.2, gamma=0.1, colsample_bytree=0.4 \n",
            "[CV]  min_child_weight=5, max_depth=8, learning_rate=0.2, gamma=0.1, colsample_bytree=0.4, score=1.000, total=   0.0s\n",
            "[CV] min_child_weight=5, max_depth=8, learning_rate=0.2, gamma=0.1, colsample_bytree=0.4 \n",
            "[CV]  min_child_weight=5, max_depth=8, learning_rate=0.2, gamma=0.1, colsample_bytree=0.4, score=0.990, total=   0.0s\n",
            "[CV] min_child_weight=5, max_depth=8, learning_rate=0.2, gamma=0.1, colsample_bytree=0.4 \n",
            "[CV]  min_child_weight=5, max_depth=8, learning_rate=0.2, gamma=0.1, colsample_bytree=0.4, score=0.982, total=   0.0s\n",
            "[CV] min_child_weight=5, max_depth=8, learning_rate=0.2, gamma=0.1, colsample_bytree=0.4 \n"
          ],
          "name": "stdout"
        },
        {
          "output_type": "stream",
          "text": [
            "[Parallel(n_jobs=1)]: Done   2 out of   2 | elapsed:    0.2s remaining:    0.0s\n"
          ],
          "name": "stderr"
        },
        {
          "output_type": "stream",
          "text": [
            "[CV]  min_child_weight=5, max_depth=8, learning_rate=0.2, gamma=0.1, colsample_bytree=0.4, score=0.983, total=   0.0s\n",
            "[CV] min_child_weight=5, max_depth=5, learning_rate=0.2, gamma=0.4, colsample_bytree=0.7 \n",
            "[CV]  min_child_weight=5, max_depth=5, learning_rate=0.2, gamma=0.4, colsample_bytree=0.7, score=0.981, total=   0.0s\n",
            "[CV] min_child_weight=5, max_depth=5, learning_rate=0.2, gamma=0.4, colsample_bytree=0.7 \n",
            "[CV]  min_child_weight=5, max_depth=5, learning_rate=0.2, gamma=0.4, colsample_bytree=0.7, score=1.000, total=   0.0s\n",
            "[CV] min_child_weight=5, max_depth=5, learning_rate=0.2, gamma=0.4, colsample_bytree=0.7 \n",
            "[CV]  min_child_weight=5, max_depth=5, learning_rate=0.2, gamma=0.4, colsample_bytree=0.7, score=1.000, total=   0.0s\n",
            "[CV] min_child_weight=5, max_depth=5, learning_rate=0.2, gamma=0.4, colsample_bytree=0.7 \n",
            "[CV]  min_child_weight=5, max_depth=5, learning_rate=0.2, gamma=0.4, colsample_bytree=0.7, score=0.990, total=   0.0s\n",
            "[CV] min_child_weight=5, max_depth=5, learning_rate=0.2, gamma=0.4, colsample_bytree=0.7 \n",
            "[CV]  min_child_weight=5, max_depth=5, learning_rate=0.2, gamma=0.4, colsample_bytree=0.7, score=0.988, total=   0.0s\n",
            "[CV] min_child_weight=3, max_depth=10, learning_rate=0.25, gamma=0.1, colsample_bytree=0.4 \n",
            "[CV]  min_child_weight=3, max_depth=10, learning_rate=0.25, gamma=0.1, colsample_bytree=0.4, score=0.980, total=   0.0s\n",
            "[CV] min_child_weight=3, max_depth=10, learning_rate=0.25, gamma=0.1, colsample_bytree=0.4 \n",
            "[CV]  min_child_weight=3, max_depth=10, learning_rate=0.25, gamma=0.1, colsample_bytree=0.4, score=1.000, total=   0.0s\n",
            "[CV] min_child_weight=3, max_depth=10, learning_rate=0.25, gamma=0.1, colsample_bytree=0.4 \n",
            "[CV]  min_child_weight=3, max_depth=10, learning_rate=0.25, gamma=0.1, colsample_bytree=0.4, score=0.993, total=   0.0s\n",
            "[CV] min_child_weight=3, max_depth=10, learning_rate=0.25, gamma=0.1, colsample_bytree=0.4 \n",
            "[CV]  min_child_weight=3, max_depth=10, learning_rate=0.25, gamma=0.1, colsample_bytree=0.4, score=0.989, total=   0.0s\n",
            "[CV] min_child_weight=3, max_depth=10, learning_rate=0.25, gamma=0.1, colsample_bytree=0.4 \n",
            "[CV]  min_child_weight=3, max_depth=10, learning_rate=0.25, gamma=0.1, colsample_bytree=0.4, score=0.990, total=   0.0s\n",
            "[CV] min_child_weight=3, max_depth=10, learning_rate=0.2, gamma=0.0, colsample_bytree=0.4 \n",
            "[CV]  min_child_weight=3, max_depth=10, learning_rate=0.2, gamma=0.0, colsample_bytree=0.4, score=0.984, total=   0.0s\n",
            "[CV] min_child_weight=3, max_depth=10, learning_rate=0.2, gamma=0.0, colsample_bytree=0.4 \n",
            "[CV]  min_child_weight=3, max_depth=10, learning_rate=0.2, gamma=0.0, colsample_bytree=0.4, score=1.000, total=   0.0s\n",
            "[CV] min_child_weight=3, max_depth=10, learning_rate=0.2, gamma=0.0, colsample_bytree=0.4 \n",
            "[CV]  min_child_weight=3, max_depth=10, learning_rate=0.2, gamma=0.0, colsample_bytree=0.4, score=0.994, total=   0.0s\n",
            "[CV] min_child_weight=3, max_depth=10, learning_rate=0.2, gamma=0.0, colsample_bytree=0.4 \n",
            "[CV]  min_child_weight=3, max_depth=10, learning_rate=0.2, gamma=0.0, colsample_bytree=0.4, score=0.987, total=   0.0s\n",
            "[CV] min_child_weight=3, max_depth=10, learning_rate=0.2, gamma=0.0, colsample_bytree=0.4 \n",
            "[CV]  min_child_weight=3, max_depth=10, learning_rate=0.2, gamma=0.0, colsample_bytree=0.4, score=0.990, total=   0.0s\n"
          ],
          "name": "stdout"
        },
        {
          "output_type": "stream",
          "text": [
            "[Parallel(n_jobs=1)]: Done  25 out of  25 | elapsed:    0.8s finished\n"
          ],
          "name": "stderr"
        },
        {
          "output_type": "execute_result",
          "data": {
            "text/plain": [
              "RandomizedSearchCV(cv=5, error_score=nan,\n",
              "                   estimator=XGBClassifier(base_score=0.5, booster='gbtree',\n",
              "                                           colsample_bylevel=1,\n",
              "                                           colsample_bynode=1,\n",
              "                                           colsample_bytree=1, gamma=0,\n",
              "                                           learning_rate=0.1, max_delta_step=0,\n",
              "                                           max_depth=3, min_child_weight=1,\n",
              "                                           missing=None, n_estimators=100,\n",
              "                                           n_jobs=1, nthread=None,\n",
              "                                           objective='binary:logistic',\n",
              "                                           random_state=0, reg_alpha=0,\n",
              "                                           reg_lambda=1, sc...\n",
              "                                           seed=None, silent=None, subsample=1,\n",
              "                                           verbosity=1),\n",
              "                   iid='deprecated', n_iter=5, n_jobs=1,\n",
              "                   param_distributions={'colsample_bytree': [0.3, 0.4, 0.7],\n",
              "                                        'gamma': [0.0, 0.1, 0.2, 0.4],\n",
              "                                        'learning_rate': [0.05, 0.2, 0.25],\n",
              "                                        'max_depth': [5, 8, 10, 12],\n",
              "                                        'min_child_weight': [1, 3, 5, 7]},\n",
              "                   pre_dispatch='2*n_jobs', random_state=None, refit=True,\n",
              "                   return_train_score=False, scoring='roc_auc', verbose=3)"
            ]
          },
          "metadata": {
            "tags": []
          },
          "execution_count": 143
        }
      ]
    },
    {
      "cell_type": "code",
      "metadata": {
        "colab": {
          "base_uri": "https://localhost:8080/"
        },
        "id": "E0cnWAe2UqQ3",
        "outputId": "a43996e8-b5ba-4875-a330-3fdb0f332f5a"
      },
      "source": [
        "random_search.best_estimator_"
      ],
      "execution_count": 144,
      "outputs": [
        {
          "output_type": "execute_result",
          "data": {
            "text/plain": [
              "XGBClassifier(base_score=0.5, booster='gbtree', colsample_bylevel=1,\n",
              "              colsample_bynode=1, colsample_bytree=0.3, gamma=0.0,\n",
              "              learning_rate=0.05, max_delta_step=0, max_depth=12,\n",
              "              min_child_weight=1, missing=None, n_estimators=100, n_jobs=1,\n",
              "              nthread=None, objective='binary:logistic', random_state=0,\n",
              "              reg_alpha=0, reg_lambda=1, scale_pos_weight=1, seed=None,\n",
              "              silent=None, subsample=1, verbosity=1)"
            ]
          },
          "metadata": {
            "tags": []
          },
          "execution_count": 144
        }
      ]
    },
    {
      "cell_type": "code",
      "metadata": {
        "colab": {
          "base_uri": "https://localhost:8080/"
        },
        "id": "Sj7MRcYRUwJ7",
        "outputId": "8ac38a2b-2fc6-4634-8d0b-93388a4fce50"
      },
      "source": [
        "random_search.best_params_"
      ],
      "execution_count": 145,
      "outputs": [
        {
          "output_type": "execute_result",
          "data": {
            "text/plain": [
              "{'colsample_bytree': 0.3,\n",
              " 'gamma': 0.0,\n",
              " 'learning_rate': 0.05,\n",
              " 'max_depth': 12,\n",
              " 'min_child_weight': 1}"
            ]
          },
          "metadata": {
            "tags": []
          },
          "execution_count": 145
        }
      ]
    },
    {
      "cell_type": "code",
      "metadata": {
        "id": "6RBoS3KCU0j6"
      },
      "source": [
        "classifier=XGBClassifier(base_score=0.5, booster='gbtree', colsample_bylevel=1,\n",
        "              colsample_bynode=1, colsample_bytree=0.3, gamma=0.0,\n",
        "              learning_rate=0.05, max_delta_step=0, max_depth=12,\n",
        "              min_child_weight=1, missing=None, n_estimators=100, n_jobs=1,\n",
        "              nthread=None, objective='binary:logistic', random_state=0,\n",
        "              reg_alpha=0, reg_lambda=1, scale_pos_weight=1, seed=None,\n",
        "              silent=None, subsample=1, verbosity=1)"
      ],
      "execution_count": 146,
      "outputs": []
    },
    {
      "cell_type": "code",
      "metadata": {
        "colab": {
          "base_uri": "https://localhost:8080/"
        },
        "id": "Op0503EYVAP0",
        "outputId": "38ce42e3-4d90-4900-fc00-11d9a8d4065a"
      },
      "source": [
        "classifier.fit(X_train,y_train)"
      ],
      "execution_count": 147,
      "outputs": [
        {
          "output_type": "execute_result",
          "data": {
            "text/plain": [
              "XGBClassifier(base_score=0.5, booster='gbtree', colsample_bylevel=1,\n",
              "              colsample_bynode=1, colsample_bytree=0.3, gamma=0.0,\n",
              "              learning_rate=0.05, max_delta_step=0, max_depth=12,\n",
              "              min_child_weight=1, missing=None, n_estimators=100, n_jobs=1,\n",
              "              nthread=None, objective='binary:logistic', random_state=0,\n",
              "              reg_alpha=0, reg_lambda=1, scale_pos_weight=1, seed=None,\n",
              "              silent=None, subsample=1, verbosity=1)"
            ]
          },
          "metadata": {
            "tags": []
          },
          "execution_count": 147
        }
      ]
    },
    {
      "cell_type": "code",
      "metadata": {
        "id": "aQWqEvBAVF5h"
      },
      "source": [
        "y_pred=classifier.predict(X_test)"
      ],
      "execution_count": 149,
      "outputs": []
    },
    {
      "cell_type": "code",
      "metadata": {
        "colab": {
          "base_uri": "https://localhost:8080/"
        },
        "id": "BGX3WIyzVKCw",
        "outputId": "1590ca54-b770-4288-8630-2844d59a8e6f"
      },
      "source": [
        "y_pred"
      ],
      "execution_count": 150,
      "outputs": [
        {
          "output_type": "execute_result",
          "data": {
            "text/plain": [
              "array([0, 1, 1, 0, 0, 0, 0, 1, 0, 1, 0, 0, 0, 1, 0, 0, 1, 0, 0, 0, 0, 1,\n",
              "       0, 1, 0, 1, 0, 0, 1, 1, 0, 1, 0, 0, 1, 0, 0, 0, 0, 1, 0, 1, 0, 0,\n",
              "       1, 0, 1, 1, 0, 0, 0, 0, 1, 0, 1, 1, 0, 0, 0, 0, 0, 1, 0, 1, 0, 1,\n",
              "       0, 0, 0, 1, 0, 1, 0, 0, 0, 0, 1, 1, 1, 1, 1, 0, 0, 0, 1, 0, 0, 1,\n",
              "       1, 1, 1, 1, 0, 0, 0, 0, 0, 1, 1, 1])"
            ]
          },
          "metadata": {
            "tags": []
          },
          "execution_count": 150
        }
      ]
    },
    {
      "cell_type": "code",
      "metadata": {
        "id": "cGWmNKHvVO72"
      },
      "source": [
        "from sklearn.metrics import confusion_matrix,accuracy_score"
      ],
      "execution_count": 151,
      "outputs": []
    },
    {
      "cell_type": "code",
      "metadata": {
        "colab": {
          "base_uri": "https://localhost:8080/"
        },
        "id": "P0F1HsuMVddN",
        "outputId": "968b3139-7cd1-4873-947a-3c80cc3568cb"
      },
      "source": [
        "confusion_matrix(y_test,y_pred)"
      ],
      "execution_count": 152,
      "outputs": [
        {
          "output_type": "execute_result",
          "data": {
            "text/plain": [
              "array([[59,  3],\n",
              "       [ 1, 37]])"
            ]
          },
          "metadata": {
            "tags": []
          },
          "execution_count": 152
        }
      ]
    },
    {
      "cell_type": "code",
      "metadata": {
        "colab": {
          "base_uri": "https://localhost:8080/"
        },
        "id": "JqX68TdGVkFQ",
        "outputId": "84af7e61-9b60-4f9d-bb5b-fbc4a0421e12"
      },
      "source": [
        "accuracy_score(y_test,y_pred)"
      ],
      "execution_count": 153,
      "outputs": [
        {
          "output_type": "execute_result",
          "data": {
            "text/plain": [
              "0.96"
            ]
          },
          "metadata": {
            "tags": []
          },
          "execution_count": 153
        }
      ]
    },
    {
      "cell_type": "code",
      "metadata": {
        "id": "gjkplmqyVqVA"
      },
      "source": [
        ""
      ],
      "execution_count": null,
      "outputs": []
    }
  ]
}